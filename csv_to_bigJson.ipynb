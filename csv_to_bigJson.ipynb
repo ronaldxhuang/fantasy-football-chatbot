{
 "cells": [
  {
   "cell_type": "code",
   "execution_count": 3,
   "id": "7dc52b29-25f2-4a5b-832b-77c848fb1cfd",
   "metadata": {},
   "outputs": [],
   "source": [
    "import pandas as pd\n",
    "import json\n",
    "import os\n",
    "from pathlib import Path"
   ]
  },
  {
   "cell_type": "code",
   "execution_count": 4,
   "id": "a1f94747-2566-48ad-8970-0385952a804c",
   "metadata": {},
   "outputs": [],
   "source": [
    "def csv_to_json(input_dir, output_file):\n",
    "    weeks_data = []\n",
    "    \n",
    "    # Get all CSV files and sort by week number\n",
    "    csv_files = sorted(\n",
    "        [f for f in os.listdir(input_dir) if f.startswith('fantasy-stats-passing_week')],\n",
    "        key=lambda x: int(x.split('_week')[1].split('.')[0])\n",
    "    )\n",
    "    \n",
    "    for file_name in csv_files:\n",
    "        file_path = os.path.join(input_dir, file_name)\n",
    "        week_num = int(file_name.split('_week')[1].split('.')[0])\n",
    "        \n",
    "        try:\n",
    "            df = pd.read_csv(file_path)\n",
    "            \n",
    "            # Convert DataFrame to dictionary format\n",
    "            players_dict = {}\n",
    "            for _, row in df.iterrows():\n",
    "                player_stats = {\n",
    "                    \"team\": row[\"team\"],\n",
    "                    \"dropbacks\": int(row[\"dropbacks\"]),\n",
    "                    \"att\": int(row[\"att\"]),\n",
    "                    \"comp\": int(row[\"comp\"]),\n",
    "                    \"drops\": int(row[\"drops\"]),\n",
    "                    \"yds\": int(row[\"yds\"]),\n",
    "                    \"depthAim\": float(row[\"depthAim\"]),\n",
    "                    \"tds\": int(row[\"tds\"]),\n",
    "                    \"ints\": int(row[\"ints\"]),\n",
    "                    \"sks\": int(row[\"sks\"]),\n",
    "                    \"rushCarries\": int(row[\"rushCarries\"]),\n",
    "                    \"rushYds\": int(row[\"rushYds\"]),\n",
    "                    \"rushTds\": int(row[\"rushTds\"]),\n",
    "                    \"fumbles\": int(row[\"fumbles\"]),\n",
    "                    \"rzRushCarries\": int(row[\"rzRushCarries\"]),\n",
    "                    \"rzRushPct\": float(row[\"rzRushPct\"]),\n",
    "                    \"patConversions\": int(row[\"patConversions\"]),\n",
    "                    \"patAttempts\": int(row[\"patAttempts\"]),\n",
    "                    \"fantasyPts\": float(row[\"fantasyPts\"])\n",
    "                }\n",
    "                players_dict[row[\"player\"]] = player_stats\n",
    "            \n",
    "            # Create week entry\n",
    "            week_entry = {\n",
    "                \"week\": week_num,\n",
    "                \"Positions\": {\n",
    "                    \"Quarterback\": {\n",
    "                        \"Players\": players_dict\n",
    "                    }\n",
    "                }\n",
    "            }\n",
    "            weeks_data.append(week_entry)\n",
    "            \n",
    "            print(f\"Processed week {week_num}\")\n",
    "            \n",
    "        except Exception as e:\n",
    "            print(f\"Error processing {file_name}: {e}\")\n",
    "            continue\n",
    "    \n",
    "    # Create final JSON structure\n",
    "    final_json = {\n",
    "        \"Weeks\": weeks_data\n",
    "    }\n",
    "    \n",
    "    # Write to JSON file\n",
    "    with open(output_file, 'w') as f:\n",
    "        json.dump(final_json, f, indent=2)\n",
    "    \n",
    "    print(f\"Successfully created JSON file: {output_file}\")\n",
    "\n"
   ]
  },
  {
   "cell_type": "code",
   "execution_count": 5,
   "id": "313e2830-c4a1-4154-8a13-0f669c1ba497",
   "metadata": {},
   "outputs": [
    {
     "name": "stdout",
     "output_type": "stream",
     "text": [
      "Processed week 1\n",
      "Processed week 2\n",
      "Processed week 3\n",
      "Processed week 4\n",
      "Processed week 5\n",
      "Processed week 6\n",
      "Processed week 7\n",
      "Processed week 8\n",
      "Processed week 9\n",
      "Processed week 10\n",
      "Processed week 11\n",
      "Processed week 12\n",
      "Processed week 13\n",
      "Processed week 14\n",
      "Processed week 15\n",
      "Processed week 16\n",
      "Processed week 17\n",
      "Processed week 18\n",
      "Successfully created JSON file: nfl_season_stats.json\n"
     ]
    }
   ],
   "source": [
    "# Example usage\n",
    "input_directory = \"preprocessed_data/processed_2024_weekly_passing_stats\"\n",
    "output_json = \"nfl_season_stats.json\"\n",
    "csv_to_json(input_directory, output_json)"
   ]
  },
  {
   "cell_type": "code",
   "execution_count": null,
   "id": "cd2803b3-ae5e-453f-86a4-3db5c02ef692",
   "metadata": {},
   "outputs": [],
   "source": []
  }
 ],
 "metadata": {
  "kernelspec": {
   "display_name": "Python 3 (ipykernel)",
   "language": "python",
   "name": "python3"
  },
  "language_info": {
   "codemirror_mode": {
    "name": "ipython",
    "version": 3
   },
   "file_extension": ".py",
   "mimetype": "text/x-python",
   "name": "python",
   "nbconvert_exporter": "python",
   "pygments_lexer": "ipython3",
   "version": "3.12.2"
  }
 },
 "nbformat": 4,
 "nbformat_minor": 5
}
