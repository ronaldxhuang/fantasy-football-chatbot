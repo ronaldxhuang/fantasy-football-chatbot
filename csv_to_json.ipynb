{
 "cells": [
  {
   "cell_type": "code",
   "execution_count": 10,
   "id": "03e16828-e0fe-46d9-856d-b53decbffdd0",
   "metadata": {},
   "outputs": [],
   "source": [
    "import csv\n",
    "import json\n",
    "import os\n",
    "\n",
    "# Read CSV and convert to JSON\n",
    "# csv_file = \"data.csv\"\n",
    "# json_file = \"json_files/qb_json/2024_qb_stats_week1.json\"\n",
    "\n",
    "# data = []\n",
    "# with open(csv_file, mode=\"r\", encoding=\"utf-8\") as file:\n",
    "#     reader = csv.DictReader(file)\n",
    "#     for row in reader:\n",
    "#         data.append(row)\n",
    "\n",
    "# # Write to JSON file\n",
    "# with open(json_file, mode=\"w\", encoding=\"utf-8\") as file:\n",
    "#     json.dump(data, file, indent=4)\n",
    "\n",
    "# print(f\"CSV data has been converted to {json_file}\")\n"
   ]
  },
  {
   "cell_type": "code",
   "execution_count": 11,
   "id": "6f9851fe-e8de-452d-b744-94069f44a4ca",
   "metadata": {},
   "outputs": [],
   "source": [
    "def csv_to_json(csv_path, json_folder):\n",
    "    \n",
    "    for filename in os.listdir(csv_path):\n",
    "        csv_file = os.path.join(csv_path, filename)\n",
    "        json_file = os.path.join(json_folder, f\"{os.path.splitext(filename)[0]}.json\")\n",
    "        \n",
    "        data = []\n",
    "        with open(csv_file, mode=\"r\", encoding=\"utf-8\") as file:\n",
    "            reader = csv.DictReader(file)\n",
    "            for row in reader:\n",
    "                data.append(row)\n",
    "\n",
    "        # Write to JSON file\n",
    "        with open(json_file, mode=\"w\", encoding=\"utf-8\") as file:\n",
    "            json.dump(data, file, indent=4)\n",
    "\n",
    "        print(f\"CSV data from {filename} has been converted to {json_file}\")"
   ]
  },
  {
   "cell_type": "code",
   "execution_count": 12,
   "id": "63e9c8b9-5464-41d8-86ab-c25113d4b660",
   "metadata": {},
   "outputs": [
    {
     "name": "stdout",
     "output_type": "stream",
     "text": [
      "CSV data from fantasy-stats-passing_week1.csv has been converted to json_files/qb_json\\fantasy-stats-passing_week1.json\n",
      "CSV data from fantasy-stats-passing_week10.csv has been converted to json_files/qb_json\\fantasy-stats-passing_week10.json\n",
      "CSV data from fantasy-stats-passing_week11.csv has been converted to json_files/qb_json\\fantasy-stats-passing_week11.json\n",
      "CSV data from fantasy-stats-passing_week12.csv has been converted to json_files/qb_json\\fantasy-stats-passing_week12.json\n",
      "CSV data from fantasy-stats-passing_week13.csv has been converted to json_files/qb_json\\fantasy-stats-passing_week13.json\n",
      "CSV data from fantasy-stats-passing_week14.csv has been converted to json_files/qb_json\\fantasy-stats-passing_week14.json\n",
      "CSV data from fantasy-stats-passing_week15.csv has been converted to json_files/qb_json\\fantasy-stats-passing_week15.json\n",
      "CSV data from fantasy-stats-passing_week16.csv has been converted to json_files/qb_json\\fantasy-stats-passing_week16.json\n",
      "CSV data from fantasy-stats-passing_week17.csv has been converted to json_files/qb_json\\fantasy-stats-passing_week17.json\n",
      "CSV data from fantasy-stats-passing_week18.csv has been converted to json_files/qb_json\\fantasy-stats-passing_week18.json\n",
      "CSV data from fantasy-stats-passing_week2.csv has been converted to json_files/qb_json\\fantasy-stats-passing_week2.json\n",
      "CSV data from fantasy-stats-passing_week3.csv has been converted to json_files/qb_json\\fantasy-stats-passing_week3.json\n",
      "CSV data from fantasy-stats-passing_week4.csv has been converted to json_files/qb_json\\fantasy-stats-passing_week4.json\n",
      "CSV data from fantasy-stats-passing_week5.csv has been converted to json_files/qb_json\\fantasy-stats-passing_week5.json\n",
      "CSV data from fantasy-stats-passing_week6.csv has been converted to json_files/qb_json\\fantasy-stats-passing_week6.json\n",
      "CSV data from fantasy-stats-passing_week7.csv has been converted to json_files/qb_json\\fantasy-stats-passing_week7.json\n",
      "CSV data from fantasy-stats-passing_week8.csv has been converted to json_files/qb_json\\fantasy-stats-passing_week8.json\n",
      "CSV data from fantasy-stats-passing_week9.csv has been converted to json_files/qb_json\\fantasy-stats-passing_week9.json\n"
     ]
    }
   ],
   "source": [
    "#should be preprocessed data\n",
    "csv_path = \"preprocessed_data/processed_2024_weekly_passing_stats\"\n",
    "json_path = \"json_files/qb_json\"\n",
    "\n",
    "csv_to_json(csv_path, json_path)"
   ]
  },
  {
   "cell_type": "code",
   "execution_count": null,
   "id": "f8d92fae-e017-4298-b95c-eaf6b8e8a551",
   "metadata": {},
   "outputs": [],
   "source": []
  }
 ],
 "metadata": {
  "kernelspec": {
   "display_name": "Python 3 (ipykernel)",
   "language": "python",
   "name": "python3"
  },
  "language_info": {
   "codemirror_mode": {
    "name": "ipython",
    "version": 3
   },
   "file_extension": ".py",
   "mimetype": "text/x-python",
   "name": "python",
   "nbconvert_exporter": "python",
   "pygments_lexer": "ipython3",
   "version": "3.12.2"
  }
 },
 "nbformat": 4,
 "nbformat_minor": 5
}
