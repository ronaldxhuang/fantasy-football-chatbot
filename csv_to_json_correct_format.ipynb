{
 "cells": [
  {
   "cell_type": "code",
   "execution_count": 27,
   "id": "de973dc1-f0aa-405f-aaad-d5818533f376",
   "metadata": {},
   "outputs": [],
   "source": [
    "import csv\n",
    "import pandas as pd\n",
    "import json\n",
    "import os\n"
   ]
  },
  {
   "cell_type": "code",
   "execution_count": 28,
   "id": "1a910ac8-dcc1-40e5-9c10-e1e9f8b1f6c2",
   "metadata": {},
   "outputs": [
    {
     "name": "stdout",
     "output_type": "stream",
     "text": [
      "Week1\n",
      "Week10\n",
      "Week11\n",
      "Week12\n",
      "Week13\n",
      "Week14\n",
      "Week15\n",
      "Week16\n",
      "Week17\n",
      "Week18\n",
      "Week2\n",
      "Week3\n",
      "Week4\n",
      "Week5\n",
      "Week6\n",
      "Week7\n",
      "Week8\n",
      "Week9\n",
      "JSON data saved to format_correct.json\n"
     ]
    }
   ],
   "source": [
    "csv_directory = \"preprocessed_data/processed_2024_weekly_passing_stats\"\n",
    "json_output_file = \"format_correct.json\"\n",
    "\n",
    "data = {}\n",
    "\n",
    "for file in os.listdir(csv_directory):\n",
    "    week_number = file.split(\"_\")[-1].replace(\".csv\", \"\").capitalize()\n",
    "    # week_number = file.replace(\".csv\", \"\").capitalize()\n",
    "    print(week_number)\n",
    "\n",
    "    df = pd.read_csv(os.path.join(csv_directory, file))\n",
    "    \n",
    "    data[week_number] = {\"Positions\": {\"Quarterback\": {\"Players\": {}}}}\n",
    "\n",
    "    for _, row in df.iterrows():\n",
    "        player_name = row[\"player\"]\n",
    "        \n",
    "        # Initialize position if not exists\n",
    "        # if position not in data[week_number][\"Positions\"]:\n",
    "        #     data[week_number][\"Positions\"][position] = {\"Players\": {}}\n",
    "        \n",
    "        # Add player stats\n",
    "        data[week_number][\"Positions\"][\"Quarterback\"][\"Players\"][player_name] = {\n",
    "            \"team\": row[\"team\"],\n",
    "            \"dropbacks\": row[\"dropbacks\"],\n",
    "            \"att\": row[\"att\"],\n",
    "            \"comp\": row[\"comp\"],\n",
    "            \"drops\": row[\"drops\"],\n",
    "            \"yds\": row[\"yds\"],\n",
    "            \"depthAim\": row[\"depthAim\"],\n",
    "            \"tds\": row[\"tds\"],\n",
    "            \"ints\": row[\"ints\"],\n",
    "            \"sks\": row[\"sks\"],\n",
    "            \"rushCarries\": row[\"rushCarries\"],\n",
    "            \"rushYds\": row[\"rushYds\"],\n",
    "            \"rushTds\": row[\"rushTds\"],\n",
    "            \"fumbles\": row[\"fumbles\"],\n",
    "            \"rzRushCarries\": row[\"rzRushCarries\"],\n",
    "            \"rzRushPct\": row[\"rzRushPct\"],\n",
    "            \"patConversions\": row[\"patConversions\"],\n",
    "            \"patAttempts\": row[\"patAttempts\"],\n",
    "            \"fantasyPts\": row[\"fantasyPts\"]\n",
    "        }    \n",
    "\n",
    "with open(json_output_file, \"w\", encoding=\"utf-8\") as f:\n",
    "    json.dump(data, f, indent=2)\n",
    "\n",
    "print(f\"JSON data saved to {json_output_file}\")"
   ]
  },
  {
   "cell_type": "code",
   "execution_count": null,
   "id": "f4e0f87f-38aa-4c3d-bc5b-faa97437fe94",
   "metadata": {},
   "outputs": [],
   "source": []
  },
  {
   "cell_type": "code",
   "execution_count": null,
   "id": "96f13794-3ab4-4d03-b79e-df6691785d04",
   "metadata": {},
   "outputs": [],
   "source": []
  }
 ],
 "metadata": {
  "kernelspec": {
   "display_name": "Python 3 (ipykernel)",
   "language": "python",
   "name": "python3"
  },
  "language_info": {
   "codemirror_mode": {
    "name": "ipython",
    "version": 3
   },
   "file_extension": ".py",
   "mimetype": "text/x-python",
   "name": "python",
   "nbconvert_exporter": "python",
   "pygments_lexer": "ipython3",
   "version": "3.12.2"
  }
 },
 "nbformat": 4,
 "nbformat_minor": 5
}
