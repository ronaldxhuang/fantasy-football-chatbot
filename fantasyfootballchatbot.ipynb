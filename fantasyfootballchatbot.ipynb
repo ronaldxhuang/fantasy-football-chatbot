{
 "cells": [
  {
   "cell_type": "code",
   "execution_count": 31,
   "id": "f6e564a0-b023-4efa-b329-a869f1e92ff2",
   "metadata": {},
   "outputs": [],
   "source": [
    "from openai import OpenAI\n",
    "import numpy as np\n",
    "import json\n",
    "import faiss\n",
    "import os\n",
    "import re\n",
    "\n",
    "from fuzzywuzzy import process\n",
    "import jellyfish\n",
    "from rapidfuzz import fuzz, process\n",
    "from unidecode import unidecode\n",
    "\n",
    "from langchain_openai import ChatOpenAI\n",
    "from dotenv import load_dotenv\n",
    "from langchain.chains import LLMChain\n",
    "from langchain.prompts import PromptTemplate"
   ]
  },
  {
   "cell_type": "code",
   "execution_count": 32,
   "id": "c859debd",
   "metadata": {},
   "outputs": [
    {
     "data": {
      "text/plain": [
       "AIMessage(content='Hello! How can I assist you today?', additional_kwargs={'refusal': None}, response_metadata={'token_usage': {'completion_tokens': 9, 'prompt_tokens': 11, 'total_tokens': 20, 'completion_tokens_details': {'accepted_prediction_tokens': 0, 'audio_tokens': 0, 'reasoning_tokens': 0, 'rejected_prediction_tokens': 0}, 'prompt_tokens_details': {'audio_tokens': 0, 'cached_tokens': 0}}, 'model_name': 'gpt-3.5-turbo-0125', 'system_fingerprint': None, 'id': 'chatcmpl-Bd8MhE2RZpb4L6sPItTo8bqfUihYL', 'finish_reason': 'stop', 'logprobs': None}, id='run-a41a8c5e-7cd7-40e4-92b5-11af88fd0afc-0', usage_metadata={'input_tokens': 11, 'output_tokens': 9, 'total_tokens': 20, 'input_token_details': {'audio': 0, 'cache_read': 0}, 'output_token_details': {'audio': 0, 'reasoning': 0}})"
      ]
     },
     "execution_count": 32,
     "metadata": {},
     "output_type": "execute_result"
    }
   ],
   "source": [
    "load_dotenv()\n",
    "\n",
    "# print(\"Key exists:\", \"OPENAI_API_KEY\" in os.environ)\n",
    "# print(\"Key length:\", len(os.getenv(\"OPENAI_API_KEY\")))\n",
    "\n",
    "llm = ChatOpenAI()\n",
    "llm.invoke(\"Hello, world!\")"
   ]
  },
  {
   "cell_type": "code",
   "execution_count": 33,
   "id": "09265559",
   "metadata": {},
   "outputs": [],
   "source": [
    "def get_unique_players(json_file_path, position):\n",
    "    try:\n",
    "        with open(json_file_path) as f:\n",
    "            data = json.load(f)\n",
    "    except Exception as e:\n",
    "        print(f\"Error loading JSON file: {e}\")\n",
    "        return []\n",
    "\n",
    "    unique_players = set()\n",
    "    \n",
    "    #go through each week in the \"weeks\" array\n",
    "    for week_data in data.get(\"Weeks\", []):\n",
    "        try:\n",
    "            #access player for the specified position\n",
    "            position_data = week_data[\"Positions\"][position][\"Players\"]\n",
    "            unique_players.update(position_data.keys())\n",
    "        except KeyError as e:\n",
    "            print(f\"Warning: Missing expected key {e} in week {week_data.get('week', 'unknown')}\")\n",
    "            continue\n",
    "    \n",
    "    return sorted(unique_players)"
   ]
  },
  {
   "cell_type": "code",
   "execution_count": 38,
   "id": "6da3442a",
   "metadata": {},
   "outputs": [
    {
     "name": "stdout",
     "output_type": "stream",
     "text": [
      "['A.J. Brown', 'Adam Thielen', 'Adonai Mitchell', 'Ainias Smith', 'Alec Pierce', 'Alex Bachman', 'Allen Lazard', 'Allen Robinson II', 'Amari Cooper', 'Amon-Ra St. Brown', 'Andrei Iosivas', 'Anthony Gould', 'Ashton Dulin', 'Ben Skowronek', 'Bo Melton', 'Brandin Cooks', 'Brandon Aiyuk', 'Brandon Johnson', 'Brandon Powell', 'Braxton Berrios', 'Brenden Rice', 'Brian Thomas Jr.', 'Britain Covey', 'Bryce Ford-Wheaton', 'Brycen Tremayne', 'Bub Means', 'Calvin Austin III', 'Calvin Ridley', 'Casey Washington', 'Cedric Tillman', 'Cedrick Wilson Jr.', 'CeeDee Lamb', 'Charlie Jones', 'Chris Conley', 'Chris Godwin', 'Chris Moore', 'Chris Olave', 'Christian Kirk', 'Christian Watson', 'Cody Thompson', 'Collin Johnson', 'Cooper Kupp', 'Courtland Sutton', 'Curtis Samuel', \"D'Wayne Eskridge\", 'D.K. Metcalf', 'DJ Moore', 'DJ Turner', 'Dareke Young', 'Darius Slayton', 'Darnell Mooney', 'Davante Adams', 'David Bell', 'David Moore', 'DeAndre Carter', 'DeAndre Hopkins', 'DeVonta Smith', 'Deebo Samuel', 'Demarcus Robinson', 'Demario Douglas', 'Deonte Harty', 'Derius Davis', 'Devaughn Vele', 'Devin Duvernay', 'Diontae Johnson', 'Dontayvion Wicks', 'Drake London', 'Dyami Brown', 'Elijah Moore', 'Equanimeous St. Brown', 'Erik Ezukanma', 'Gabe Davis', 'Garrett Wilson', 'George Pickens', 'Grant DuBose', 'Greg Dortch', 'Ihmir Smith-Marsette', 'Irvin Charles', 'Isaiah Hodgins', 'Isaiah Williams', \"Ja'Lynn Polk\", \"Ja'Marr Chase\", 'Jacob Cowing', 'Jaelon Darden', 'Jahan Dotson', 'Jake Bobo', 'Jakobi Meyers', 'Jalen Brooks', 'Jalen Coker', 'Jalen McMillan', 'Jalen Nailor', 'Jalen Reagor', 'Jalen Tolbert', 'Jalen Virgil', 'Jalin Hyatt', 'Jamari Thrash', 'James Proche II', 'Jameson Williams', 'Jamison Crowder', 'Jauan Jennings', 'Javon Baker', 'Jaxon Smith-Njigba', 'Jayden Reed', 'Jaylen Johnson', 'Jaylen Waddle', 'Jermaine Burton', 'Jerry Jeudy', \"Jha'Quan Jackson\", 'John Metchie III', 'John Ross', 'Johnny Wilson', 'Jonathan Mingo', 'Jordan Addison', 'Jordan Whittington', 'Josh Downs', 'Josh Reynolds', 'Joshua Palmer', 'JuJu Smith-Schuster', 'Justin Jefferson', 'Justin Watson', 'K.J. Osborn', 'KaVontae Turpin', 'Kalif Raymond', 'Kameron Johnson', 'Kayshon Boutte', 'Keenan Allen', 'Kendrick Bourne', 'Keon Coleman', 'KhaDarel Hodge', 'Khalil Shakir', 'Kristian Wilkerson', 'Ladd McConkey', 'Laviska Shenault Jr.', \"Lil'Jordan Humphrey\", 'Luke McCaffrey', 'Mack Hollins', 'Malachi Corley', 'Malik Heath', 'Malik Nabers', 'Malik Washington', 'Marquez Valdes-Scantling', 'Marvin Harrison Jr.', 'Marvin Mims Jr.', 'Mason Kinsey', 'Mason Tipton', 'Mecole Hardman Jr.', 'Michael Pittman Jr.', 'Michael Wilson', 'Mike Evans', 'Mike Williams', 'Montrell Washington', 'Nelson Agholor', 'Nick Westbrook-Ikhine', 'Nico Collins', 'Noah Brown', 'Odell Beckham Jr.', 'Olamide Zaccheaus', 'Parker Washington', 'Parris Campbell', 'Puka Nacua', 'Quentin Johnston', 'Rakim Jarrett', 'Rashee Rice', 'Rashid Shaheed', 'Rashod Bateman', 'Ray-Ray McCloud III', 'Ricky Pearsall', 'Robbie Chosen', 'Robert Woods', 'Roman Wilson', 'Rome Odunze', 'Romeo Doubs', 'Ronnie Bell', 'Ryan Flournoy', 'Ryan Miller', 'Scott Miller', 'Simi Fehoko', 'Skyy Moore', 'Stefon Diggs', 'Sterling Shepard', 'Steven Sims', 'Tank Dell', 'Tee Higgins', 'Terry McLaurin', 'Tim Jones', 'Tim Patrick', 'Tom Kennedy', 'Tre Tucker', 'Trent Sherfield', 'Trent Taylor', 'Trenton Irwin', 'Trey Palmer', 'Treylon Burks', 'Trishton Jackson', 'Troy Franklin', 'Tutu Atwell', 'Tylan Wallace', 'Tyler Boyd', 'Tyler Johnson', 'Tyler Lockett', 'Tyler Scott', 'Tyquan Thornton', 'Tyreek Hill', 'Tyreik McAllister', 'Tyrell Shavers', 'Van Jefferson', \"Wan'Dale Robinson\", 'Xavier Gipson', 'Xavier Hutchinson', 'Xavier Legette', 'Xavier Smith', 'Xavier Weaver', 'Xavier Worthy', 'Zach Pascal', 'Zay Flowers', 'Zay Jones']\n",
      "['Aaron Jones', 'Aaron Shampklin', 'Adam Prentice', 'Alec Ingold', 'Alexander Mattison', 'Alvin Kamara', 'Ameer Abdullah', 'Andrew Beck', 'Antonio Gibson', 'Audric Estime', 'Austin Ekeler', 'Avery Williams', 'Ben VanSumeren', 'Bijan Robinson', 'Blake Corum', 'Blake Watson', 'Braelon Allen', 'Breece Hall', 'Brian Robinson', 'British Brooks', 'Bucky Irving', 'C.J. Ham', 'Cam Akers', 'Carson Steele', 'Chase Brown', 'Chris Brooks', 'Chuba Hubbard', 'Cordarrelle Patterson', 'Craig Reynolds', \"D'Andre Swift\", \"D'Ernest Johnson\", \"D'Onta Foreman\", 'Dalvin Cook', 'Dameon Pierce', 'Dante Miller', 'Dare Ogunbowale', 'David Montgomery', \"De'Von Achane\", 'Derrick Henry', 'Deuce Vaughn', 'Devin Singletary', 'Dylan Laube', 'Emanuel Wilson', 'Emari Demercado', 'Eric Gray', 'Evan Hull', 'Ezekiel Elliott', 'Gus Edwards', 'Hassan Haskins', 'Hunter Luepke', 'Isaac Guerendo', 'Isaiah Davis', 'Isiah Pacheco', 'J.J. Taylor', 'J.K. Dobbins', 'JaMycal Hasty', 'Jahmyr Gibbs', 'Jakob Johnson', 'Jaleel McLaughlin', 'Jamaal Williams', 'James Conner', 'James Cook', 'Jase McClellan', 'Javonte Williams', 'Jaylen Warren', 'Jaylen Wright', 'Jeff Wilson Jr.', 'Jeremy McNichols', 'Jerome Ford', 'Joe Mixon', 'Jonathan Taylor', 'Jonathan Ward', 'Jordan Mason', 'Jordan Mims', 'Josh Jacobs', 'Julius Chestnut', 'Justice Hill', 'Kareem Hunt', 'Kendre Miller', 'Kenneth Gainwell', 'Kenneth Walker III', 'Kenny McIntosh', 'Khalil Herbert', 'Khari Blasingame', 'Kimani Vidal', 'Kyle Juszczyk', 'Kyren Williams', 'Leo Chenal', 'MarShawn Lloyd', 'Michael Burton', 'Mike Boone', 'Miles Sanders', 'Minkah Fitzpatrick', 'Myles Gaskin', 'Najee Harris', 'Nick Chubb', 'Pat Surtain II', 'Patrick Ricard', 'Patrick Taylor', 'Pierre Strong Jr.', 'Rachaad White', 'Raheem Blackshear', 'Raheem Mostert', 'Ray Davis', 'Reed Blankenship', 'Reggie Gilliam', 'Rhamondre Stevenson', 'Rico Dowdle', 'Ronnie Rivers', 'Roschon Johnson', 'Samaje Perine', 'Saquon Barkley', 'Scott Matlock', 'Sean Tucker', 'Sione Vaki', 'Solomon Thomas', 'Tank Bigsby', 'Terrell Jennings', 'Tony Pollard', 'Travis Etienne Jr.', 'Travis Homer', 'Trey Benson', 'Trey Sermon', 'Ty Chandler', 'Ty Johnson', 'Tyjae Spears', 'Tyler Allgeier', 'Tyler Badie', 'Tyler Goodson', 'Tyrone Tracy', 'Velus Jones Jr.', 'Will Shipley', 'Winston Reid', 'Zach Charbonnet', 'Zack Moss', 'Zamir White']\n",
      "['AJ Barner', 'Adam Trautman', 'Andrew Ogletree', 'Anthony Firkser', 'Austin Hooper', 'Ben Sims', 'Ben Sinnott', 'Blake Whiteheart', 'Brady Russell', 'Brayden Willis', 'Brenden Bates', 'Brenton Strange', 'Brevin Jordan', 'Brevyn Spann-Ford', 'Brock Bowers', 'Brock Wright', 'Cade Otton', 'Cade Stover', 'Charlie Kolar', 'Charlie Woerner', 'Chigoziem Okonkwo', 'Chris Manhertz', 'Colby Parkinson', 'Cole Kmet', 'Colson Yankoff', 'Connor Heyward', 'Dallas Goedert', 'Dallin Holker', 'Dalton Kincaid', 'Dalton Schultz', 'Daniel Bellinger', 'Darnell Washington', 'David Njoku', 'Davis Allen', 'Dawson Knox', 'Devin Culp', 'Drew Sample', 'Durham Smythe', 'E.J. Jenkins', 'Elijah Higgins', 'Eric Saubert', 'Eric Tomlinson', 'Erick All', 'Evan Engram', 'Feleipe Franks', 'Foster Moreau', 'Geoff Swaim', 'George Kittle', 'Gerald Everett', 'Grant Calcaterra', 'Greg Dulcich', 'Harrison Bryant', 'Hayden Hurst', 'Hunter Henry', 'Hunter Long', 'Ian Thomas', 'Isaiah Likely', \"Ja'Tavion Sanders\", 'Jack Stoll', 'Jaheim Bell', 'Jake Ferguson', 'Jake Tonges', 'Jared Wiley', 'Jeremy Ruckert', 'Jody Fortson', 'John Bates', 'John FitzPatrick', 'John Samuel Shenker', 'Johnny Mundt', 'Jonnu Smith', 'Jordan Akins', 'Jordan Matthews', 'Josh Oliver', 'Josh Whyle', 'Josiah Deguara', 'Julian Hill', 'Justin Shorter', 'Juwan Johnson', 'Ko Kieft', 'Kyle Pitts', 'Kylen Granson', 'Lucas Krull', 'Luke Farrell', 'Luke Musgrave', 'Luke Schoonmaker', 'Marcedes Lewis', 'Mark Andrews', 'Michael Mayer', 'Mike Gesicki', 'Mo Alie-Cox', 'MyCole Pruitt', 'Nate Adkins', 'Nick Muse', 'Nick Vannett', 'Noah Fant', 'Noah Gray', 'Parker Hesse', 'Pat Freiermuth', 'Payne Durham', 'Pharaoh Brown', 'Quintin Morris', 'Robert Tonyan', 'Rodney Williams', 'Ross Dwelley', 'Sam Hubbard', 'Sam LaPorta', 'Scott Matlock', 'Shane Zylstra', 'Stone Smartt', 'Tanner Conner', 'Tanner Hudson', 'Taysom Hill', 'Teagan Quitoriano', 'Theo Johnson', 'Tip Reiman', 'Tommy Tremble', 'Travis Kelce', 'Travis Vokolek', 'Trey McBride', 'Tucker Kraft', 'Tyler Conklin', 'Will Dissly', 'Will Mallory', 'Zach Ertz']\n",
      "['A.J. Brown', 'Adam Thielen', 'Adonai Mitchell', 'Ainias Smith', 'Alec Pierce', 'Alex Bachman', 'Allen Lazard', 'Allen Robinson II', 'Amari Cooper', 'Amon-Ra St. Brown', 'Andrei Iosivas', 'Anthony Gould', 'Ashton Dulin', 'Ben Skowronek', 'Bo Melton', 'Brandin Cooks', 'Brandon Aiyuk', 'Brandon Johnson', 'Brandon Powell', 'Braxton Berrios', 'Brenden Rice', 'Brian Thomas Jr.', 'Britain Covey', 'Bryce Ford-Wheaton', 'Brycen Tremayne', 'Bub Means', 'Calvin Austin III', 'Calvin Ridley', 'Casey Washington', 'Cedric Tillman', 'Cedrick Wilson Jr.', 'CeeDee Lamb', 'Charlie Jones', 'Chris Conley', 'Chris Godwin', 'Chris Moore', 'Chris Olave', 'Christian Kirk', 'Christian Watson', 'Cody Thompson', 'Collin Johnson', 'Cooper Kupp', 'Courtland Sutton', 'Curtis Samuel', \"D'Wayne Eskridge\", 'D.K. Metcalf', 'DJ Moore', 'DJ Turner', 'Dareke Young', 'Darius Slayton', 'Darnell Mooney', 'Davante Adams', 'David Bell', 'David Moore', 'DeAndre Carter', 'DeAndre Hopkins', 'DeVonta Smith', 'Deebo Samuel', 'Demarcus Robinson', 'Demario Douglas', 'Deonte Harty', 'Derius Davis', 'Devaughn Vele', 'Devin Duvernay', 'Diontae Johnson', 'Dontayvion Wicks', 'Drake London', 'Dyami Brown', 'Elijah Moore', 'Equanimeous St. Brown', 'Erik Ezukanma', 'Gabe Davis', 'Garrett Wilson', 'George Pickens', 'Grant DuBose', 'Greg Dortch', 'Ihmir Smith-Marsette', 'Irvin Charles', 'Isaiah Hodgins', 'Isaiah Williams', \"Ja'Lynn Polk\", \"Ja'Marr Chase\", 'Jacob Cowing', 'Jaelon Darden', 'Jahan Dotson', 'Jake Bobo', 'Jakobi Meyers', 'Jalen Brooks', 'Jalen Coker', 'Jalen McMillan', 'Jalen Nailor', 'Jalen Reagor', 'Jalen Tolbert', 'Jalen Virgil', 'Jalin Hyatt', 'Jamari Thrash', 'James Proche II', 'Jameson Williams', 'Jamison Crowder', 'Jauan Jennings', 'Javon Baker', 'Jaxon Smith-Njigba', 'Jayden Reed', 'Jaylen Johnson', 'Jaylen Waddle', 'Jermaine Burton', 'Jerry Jeudy', \"Jha'Quan Jackson\", 'John Metchie III', 'John Ross', 'Johnny Wilson', 'Jonathan Mingo', 'Jordan Addison', 'Jordan Whittington', 'Josh Downs', 'Josh Reynolds', 'Joshua Palmer', 'JuJu Smith-Schuster', 'Justin Jefferson', 'Justin Watson', 'K.J. Osborn', 'KaVontae Turpin', 'Kalif Raymond', 'Kameron Johnson', 'Kayshon Boutte', 'Keenan Allen', 'Kendrick Bourne', 'Keon Coleman', 'KhaDarel Hodge', 'Khalil Shakir', 'Kristian Wilkerson', 'Ladd McConkey', 'Laviska Shenault Jr.', \"Lil'Jordan Humphrey\", 'Luke McCaffrey', 'Mack Hollins', 'Malachi Corley', 'Malik Heath', 'Malik Nabers', 'Malik Washington', 'Marquez Valdes-Scantling', 'Marvin Harrison Jr.', 'Marvin Mims Jr.', 'Mason Kinsey', 'Mason Tipton', 'Mecole Hardman Jr.', 'Michael Pittman Jr.', 'Michael Wilson', 'Mike Evans', 'Mike Williams', 'Montrell Washington', 'Nelson Agholor', 'Nick Westbrook-Ikhine', 'Nico Collins', 'Noah Brown', 'Odell Beckham Jr.', 'Olamide Zaccheaus', 'Parker Washington', 'Parris Campbell', 'Puka Nacua', 'Quentin Johnston', 'Rakim Jarrett', 'Rashee Rice', 'Rashid Shaheed', 'Rashod Bateman', 'Ray-Ray McCloud III', 'Ricky Pearsall', 'Robbie Chosen', 'Robert Woods', 'Roman Wilson', 'Rome Odunze', 'Romeo Doubs', 'Ronnie Bell', 'Ryan Flournoy', 'Ryan Miller', 'Scott Miller', 'Simi Fehoko', 'Skyy Moore', 'Stefon Diggs', 'Sterling Shepard', 'Steven Sims', 'Tank Dell', 'Tee Higgins', 'Terry McLaurin', 'Tim Jones', 'Tim Patrick', 'Tom Kennedy', 'Tre Tucker', 'Trent Sherfield', 'Trent Taylor', 'Trenton Irwin', 'Trey Palmer', 'Treylon Burks', 'Trishton Jackson', 'Troy Franklin', 'Tutu Atwell', 'Tylan Wallace', 'Tyler Boyd', 'Tyler Johnson', 'Tyler Lockett', 'Tyler Scott', 'Tyquan Thornton', 'Tyreek Hill', 'Tyreik McAllister', 'Tyrell Shavers', 'Van Jefferson', \"Wan'Dale Robinson\", 'Xavier Gipson', 'Xavier Hutchinson', 'Xavier Legette', 'Xavier Smith', 'Xavier Weaver', 'Xavier Worthy', 'Zach Pascal', 'Zay Flowers', 'Zay Jones', 'Aaron Jones', 'Aaron Shampklin', 'Adam Prentice', 'Alec Ingold', 'Alexander Mattison', 'Alvin Kamara', 'Ameer Abdullah', 'Andrew Beck', 'Antonio Gibson', 'Audric Estime', 'Austin Ekeler', 'Avery Williams', 'Ben VanSumeren', 'Bijan Robinson', 'Blake Corum', 'Blake Watson', 'Braelon Allen', 'Breece Hall', 'Brian Robinson', 'British Brooks', 'Bucky Irving', 'C.J. Ham', 'Cam Akers', 'Carson Steele', 'Chase Brown', 'Chris Brooks', 'Chuba Hubbard', 'Cordarrelle Patterson', 'Craig Reynolds', \"D'Andre Swift\", \"D'Ernest Johnson\", \"D'Onta Foreman\", 'Dalvin Cook', 'Dameon Pierce', 'Dante Miller', 'Dare Ogunbowale', 'David Montgomery', \"De'Von Achane\", 'Derrick Henry', 'Deuce Vaughn', 'Devin Singletary', 'Dylan Laube', 'Emanuel Wilson', 'Emari Demercado', 'Eric Gray', 'Evan Hull', 'Ezekiel Elliott', 'Gus Edwards', 'Hassan Haskins', 'Hunter Luepke', 'Isaac Guerendo', 'Isaiah Davis', 'Isiah Pacheco', 'J.J. Taylor', 'J.K. Dobbins', 'JaMycal Hasty', 'Jahmyr Gibbs', 'Jakob Johnson', 'Jaleel McLaughlin', 'Jamaal Williams', 'James Conner', 'James Cook', 'Jase McClellan', 'Javonte Williams', 'Jaylen Warren', 'Jaylen Wright', 'Jeff Wilson Jr.', 'Jeremy McNichols', 'Jerome Ford', 'Joe Mixon', 'Jonathan Taylor', 'Jonathan Ward', 'Jordan Mason', 'Jordan Mims', 'Josh Jacobs', 'Julius Chestnut', 'Justice Hill', 'Kareem Hunt', 'Kendre Miller', 'Kenneth Gainwell', 'Kenneth Walker III', 'Kenny McIntosh', 'Khalil Herbert', 'Khari Blasingame', 'Kimani Vidal', 'Kyle Juszczyk', 'Kyren Williams', 'Leo Chenal', 'MarShawn Lloyd', 'Michael Burton', 'Mike Boone', 'Miles Sanders', 'Minkah Fitzpatrick', 'Myles Gaskin', 'Najee Harris', 'Nick Chubb', 'Pat Surtain II', 'Patrick Ricard', 'Patrick Taylor', 'Pierre Strong Jr.', 'Rachaad White', 'Raheem Blackshear', 'Raheem Mostert', 'Ray Davis', 'Reed Blankenship', 'Reggie Gilliam', 'Rhamondre Stevenson', 'Rico Dowdle', 'Ronnie Rivers', 'Roschon Johnson', 'Samaje Perine', 'Saquon Barkley', 'Scott Matlock', 'Sean Tucker', 'Sione Vaki', 'Solomon Thomas', 'Tank Bigsby', 'Terrell Jennings', 'Tony Pollard', 'Travis Etienne Jr.', 'Travis Homer', 'Trey Benson', 'Trey Sermon', 'Ty Chandler', 'Ty Johnson', 'Tyjae Spears', 'Tyler Allgeier', 'Tyler Badie', 'Tyler Goodson', 'Tyrone Tracy', 'Velus Jones Jr.', 'Will Shipley', 'Winston Reid', 'Zach Charbonnet', 'Zack Moss', 'Zamir White', 'AJ Barner', 'Adam Trautman', 'Andrew Ogletree', 'Anthony Firkser', 'Austin Hooper', 'Ben Sims', 'Ben Sinnott', 'Blake Whiteheart', 'Brady Russell', 'Brayden Willis', 'Brenden Bates', 'Brenton Strange', 'Brevin Jordan', 'Brevyn Spann-Ford', 'Brock Bowers', 'Brock Wright', 'Cade Otton', 'Cade Stover', 'Charlie Kolar', 'Charlie Woerner', 'Chigoziem Okonkwo', 'Chris Manhertz', 'Colby Parkinson', 'Cole Kmet', 'Colson Yankoff', 'Connor Heyward', 'Dallas Goedert', 'Dallin Holker', 'Dalton Kincaid', 'Dalton Schultz', 'Daniel Bellinger', 'Darnell Washington', 'David Njoku', 'Davis Allen', 'Dawson Knox', 'Devin Culp', 'Drew Sample', 'Durham Smythe', 'E.J. Jenkins', 'Elijah Higgins', 'Eric Saubert', 'Eric Tomlinson', 'Erick All', 'Evan Engram', 'Feleipe Franks', 'Foster Moreau', 'Geoff Swaim', 'George Kittle', 'Gerald Everett', 'Grant Calcaterra', 'Greg Dulcich', 'Harrison Bryant', 'Hayden Hurst', 'Hunter Henry', 'Hunter Long', 'Ian Thomas', 'Isaiah Likely', \"Ja'Tavion Sanders\", 'Jack Stoll', 'Jaheim Bell', 'Jake Ferguson', 'Jake Tonges', 'Jared Wiley', 'Jeremy Ruckert', 'Jody Fortson', 'John Bates', 'John FitzPatrick', 'John Samuel Shenker', 'Johnny Mundt', 'Jonnu Smith', 'Jordan Akins', 'Jordan Matthews', 'Josh Oliver', 'Josh Whyle', 'Josiah Deguara', 'Julian Hill', 'Justin Shorter', 'Juwan Johnson', 'Ko Kieft', 'Kyle Pitts', 'Kylen Granson', 'Lucas Krull', 'Luke Farrell', 'Luke Musgrave', 'Luke Schoonmaker', 'Marcedes Lewis', 'Mark Andrews', 'Michael Mayer', 'Mike Gesicki', 'Mo Alie-Cox', 'MyCole Pruitt', 'Nate Adkins', 'Nick Muse', 'Nick Vannett', 'Noah Fant', 'Noah Gray', 'Parker Hesse', 'Pat Freiermuth', 'Payne Durham', 'Pharaoh Brown', 'Quintin Morris', 'Robert Tonyan', 'Rodney Williams', 'Ross Dwelley', 'Sam Hubbard', 'Sam LaPorta', 'Scott Matlock', 'Shane Zylstra', 'Stone Smartt', 'Tanner Conner', 'Tanner Hudson', 'Taysom Hill', 'Teagan Quitoriano', 'Theo Johnson', 'Tip Reiman', 'Tommy Tremble', 'Travis Kelce', 'Travis Vokolek', 'Trey McBride', 'Tucker Kraft', 'Tyler Conklin', 'Will Dissly', 'Will Mallory', 'Zach Ertz']\n"
     ]
    }
   ],
   "source": [
    "#For Quarterbacks\n",
    "\n",
    "# players_qb = get_unique_players('C:/Users/rshua/fantasy-football-chatbot/nfl_season_stats_full.json', 'Quarterback')\n",
    "# print(players_qb)\n",
    "\n",
    "#For WR RB TE\n",
    "players_wr = get_unique_players('C:/Users/rshua/fantasy-football-chatbot/nfl_season_stats_rec_rush_partial.json', 'Wide Receiver')\n",
    "players_rb = get_unique_players('C:/Users/rshua/fantasy-football-chatbot/nfl_season_stats_rec_rush_partial.json', 'Running Back')\n",
    "players_te = get_unique_players('C:/Users/rshua/fantasy-football-chatbot/nfl_season_stats_rec_rush_partial.json', 'Tight End')\n",
    "print(players_wr)\n",
    "print(players_rb)\n",
    "print(players_te)\n",
    "\n",
    "combined_players = players_wr + players_rb + players_te\n",
    "print(combined_players)\n"
   ]
  },
  {
   "cell_type": "code",
   "execution_count": 39,
   "id": "2e3efe13-6529-44bc-9f3e-423586ff5d8f",
   "metadata": {},
   "outputs": [],
   "source": [
    "#load json files\n",
    "def load_documents(json_file):\n",
    "    with open(json_file, \"r\", encoding=\"utf-8\") as f:\n",
    "        data = json.load(f)\n",
    "        \n",
    "    return data\n",
    "\n",
    "#generate embeddings for documents\n",
    "def get_embedding(text):\n",
    "    response = client.embeddings.create(model = \"text-embedding-ada-002\", input = text)\n",
    "    embedding_array = np.array(response.data[0].embedding)\n",
    "    \n",
    "    return embedding_array\n"
   ]
  },
  {
   "cell_type": "code",
   "execution_count": 40,
   "id": "8d678628-787f-4713-b3e2-2d5733ae2d04",
   "metadata": {},
   "outputs": [],
   "source": [
    "with open(\"C:/Users/rshua/keys/secret_key.json\", \"r\") as file:\n",
    "    secrets = json.load(file)\n",
    "    api_key = secrets[\"OPENAI_API_KEY\"]\n",
    "\n",
    "client = OpenAI(api_key = api_key)"
   ]
  },
  {
   "cell_type": "code",
   "execution_count": 41,
   "id": "13d9e2ef-c2cf-418c-96c3-665aaf4bfa45",
   "metadata": {},
   "outputs": [],
   "source": [
    "data = load_documents(\"nfl_season_stats_rec_rush_partial.json\")"
   ]
  },
  {
   "cell_type": "code",
   "execution_count": 42,
   "id": "b4a13b9a-e1d7-455e-9594-4d2e4b65778a",
   "metadata": {},
   "outputs": [],
   "source": [
    "#convert json file to text documents\n",
    "documents = []\n",
    "\n",
    "\n",
    "###################################################### QUARTERBACK DATA ##############################################################\n",
    "\n",
    "# for week_data in data[\"Weeks\"]:\n",
    "#     week = week_data[\"week\"]\n",
    "#     for position, position_data in week_data[\"Positions\"].items():\n",
    "#         for player_name, player_stats in position_data[\"Players\"].items():\n",
    "#             text = f\"Week: {week}, Position: {position}, Player: {player_name}, Team: {player_stats['team']}, \"\n",
    "#             text += f\"Dropbacks: {player_stats['dropbacks']}, Attempts: {player_stats['att']}, Completions: {player_stats['comp']}, \"\n",
    "#             text += f\"Yards: {player_stats['yds']}, TDs: {player_stats['tds']}, INTs: {player_stats['ints']}, \"\n",
    "#             text += f\"Sacks: {player_stats['sks']}, Rush Carries: {player_stats['rushCarries']}, Rush Yards: {player_stats['rushYds']}, \"\n",
    "#             text += f\"Rush TDs: {player_stats['rushTds']}, Fumbles: {player_stats['fumbles']}, Fantasy Points: {player_stats['fantasyPts']}\"\n",
    "#             documents.append({\"text\": text})\n",
    "#             # print(week)\n",
    "\n",
    "\n",
    "###################################################### WR/RB/TE RECEIVING/RUSHING DATA ##############################################################\n",
    "\n",
    "for week_data in data[\"Weeks\"]:\n",
    "    week = week_data[\"week\"]\n",
    "    for position, position_data in week_data[\"Positions\"].items():\n",
    "        for player_name, player_stats in position_data[\"Players\"].items():\n",
    "            text = f\"Week: {week}, Position: {position}, Player: {player_name}, Team: {player_stats['team']}, \"\n",
    "            text += f\"Targets: {player_stats['recTarg']}, Receptions: {player_stats['recRec']}, Receiving Yards: {player_stats['recYds']}, \"\n",
    "            text += f\"Receiving TDs: {player_stats['recTds']}, Drops: {player_stats['recDrops']}, Catch Rate: {player_stats['catch']}%, \"\n",
    "            text += f\"Yards per Target: {player_stats['ypt']}, Yards per Reception: {player_stats['ypr']}, RAC: {player_stats['rac']}, \"\n",
    "            text += f\"Red Zone Targets: {player_stats['rzRecTarg']}, Rush Attempts: {player_stats['rushCarries']}, \"\n",
    "            text += f\"Rush Yards: {player_stats['rushYds']}, Rush TDs: {player_stats['rushTds']}, \"\n",
    "            text += f\"Red Zone Rushes: {player_stats['rzRushCarries']}, Red Zone Rush %: {player_stats['rzRushPct']}%, \"\n",
    "            text += f\"Inside 5 Rushes: {player_stats['i5RushCarries']}, Fantasy Points: {player_stats['fantasyPts']}\"\n",
    "            \n",
    "            documents.append({\"text\": text})\n",
    "\n",
    "\n",
    "last_week = week\n",
    "next_week = week + 1\n"
   ]
  },
  {
   "cell_type": "code",
   "execution_count": 43,
   "id": "57d314fa-4b51-4a00-8805-4518f1409003",
   "metadata": {},
   "outputs": [],
   "source": [
    "#create a list of text documents and their embeddings\n",
    "texts = []\n",
    "\n",
    "for i in documents:\n",
    "    text_content = i[\"text\"]\n",
    "    texts.append(text_content)\n",
    "\n",
    "embeddings = np.array([get_embedding(text) for text in texts])\n",
    "\n",
    "#store embeddings in FAISS\n",
    "dimension = embeddings.shape[1]\n",
    "index = faiss.IndexFlatL2(dimension)\n",
    "index.add(embeddings)\n"
   ]
  },
  {
   "cell_type": "code",
   "execution_count": 44,
   "id": "6a157cdb",
   "metadata": {},
   "outputs": [],
   "source": [
    "# print(texts)"
   ]
  },
  {
   "cell_type": "code",
   "execution_count": 45,
   "id": "750232cc",
   "metadata": {},
   "outputs": [],
   "source": [
    "def clean_text(text):\n",
    "    #normalize by removing accents, punctuation, lowercase\n",
    "    text = unidecode(text)\n",
    "    text = re.sub(r\"[^a-zA-Z\\s]\", \"\", text)\n",
    "    return text.lower().strip()\n",
    "\n",
    "def extract_player_names(query, player_data, threshold=85):\n",
    "    cleaned_query = clean_text(query)\n",
    "    matched_players = []\n",
    "\n",
    "    for player in player_data:\n",
    "        cleaned_player = clean_text(player)\n",
    "\n",
    "        #partial_ratio to allow substring matching\n",
    "        score = fuzz.partial_ratio(cleaned_player, cleaned_query)\n",
    "        if score >= threshold:\n",
    "            matched_players.append((player, score))\n",
    "\n",
    "    #return only names, sorted by best match\n",
    "    matched_players.sort(key=lambda x: x[1], reverse=True)\n",
    "    return [player for player, score in matched_players]"
   ]
  },
  {
   "cell_type": "code",
   "execution_count": 46,
   "id": "46221471-09af-4aa9-8fa0-f88bfe89ba60",
   "metadata": {},
   "outputs": [],
   "source": [
    "#function to retrieve the most relevant documents\n",
    "def retrieve_relevant_docs(query, player_names, top_k=None):\n",
    "    if top_k is None:\n",
    "        top_k = last_week  #use the last_week variable as default top_k\n",
    "        \n",
    "    if not player_names:\n",
    "        #if no player names found, proceed with original behavior\n",
    "        query_embedding = get_embedding(query).reshape(1, -1)\n",
    "        distances, indices = index.search(query_embedding, top_k)\n",
    "        return [texts[i] for i in indices[0]]\n",
    "    \n",
    "    relevant_docs = []\n",
    "    \n",
    "    for player_name in player_names:\n",
    "        #create a query focusing on the specific player\n",
    "        player_query = f\"Player: {player_name}\"\n",
    "        query_embedding = get_embedding(player_query).reshape(1, -1)\n",
    "        \n",
    "        distances, indices = index.search(query_embedding, top_k)\n",
    "        \n",
    "        #get the top_k documents for this player; basically extracting the data from all weeks\n",
    "        player_docs = [texts[i] for i in indices[0]]\n",
    "        relevant_docs.extend(player_docs)\n",
    "    \n",
    "    return relevant_docs\n"
   ]
  },
  {
   "cell_type": "code",
   "execution_count": 47,
   "id": "11f832fc-a4aa-4ba1-8916-edf5a6ff3ebd",
   "metadata": {},
   "outputs": [],
   "source": [
    "system_message = \"\"\"\n",
    "### Role & Purpose\n",
    "You are an expert Fantasy Football AI assistant designed to provide data-driven insights, strategic advice, and statistical analysis for NFL player performance. Your responses must be:\n",
    "- **Concise** but informative.\n",
    "- **Factual** (grounded in retrieved data).\n",
    "- **Actionable** (offer clear recommendations when asked).\n",
    "\n",
    "---\n",
    "\n",
    "### Core Responsibilities\n",
    "1. **Statistical Summaries**\n",
    "   - Always specify the week number when referencing data (e.g., \"In Week 7, Player X had...\").\n",
    "   - If no data exists for a requested week/player, state: \"No records found for [Player] in Week [X].\"\n",
    "\n",
    "2. **Lineup Advice (Start/Sit)**\n",
    "   - Compare players using:\n",
    "     - Recent performance (last 2-3 weeks)\n",
    "     - Matchup difficulty (opposing defense strength)\n",
    "     - Volume trends (targets/carries)\n",
    "   - Example: \"Start Player A over Player B due to consistent red-zone targets.\"\n",
    "\n",
    "   - **Response Format:**\n",
    "    [Player A] vs [Player B] (Week {X}):\n",
    "    ▸ **Recent**: [A-PTS] vs [B-PTS] (Last 3 avg)\n",
    "    ▸ **Matchup**: [A-DEF] (Rank) vs [B-DEF] (Rank)\n",
    "    ▸ **Volume**: [A-TGT]/[A-CAR] vs [B-TGT]/[B-CAR]\n",
    "    ---\n",
    "    [Verdict]: \"Start [Player] because [reason].\"\n",
    "\n",
    "3. **Trade Recommendations**\n",
    "   - Use terms like \"Buy low\" or \"Sell high\" based on value trends.\n",
    "   - Highlight under/overperforming players with reasoning.\n",
    "\n",
    "4. **Next-Week Projections (Week {next_week})**\n",
    "   - Base predictions on:\n",
    "     - Recent form (last 3 weeks)\n",
    "     - Matchup context\n",
    "     - Role changes (injuries, depth chart)\n",
    "   - Include estimates for:\n",
    "     - Passing: Yards, TDs, INTs\n",
    "     - Rushing: Yards, TDs\n",
    "     - Fantasy points (specify scoring format)\n",
    "\n",
    "---\n",
    "\n",
    "### Key Rules\n",
    "- **Temporal Context:**\n",
    "  - \"Last week\" = Week {last_week}, \"Next week\" = Week {next_week}.\n",
    "  - Reject requests beyond Week {next_week}: \"I can only project for Week {next_week}.\"\n",
    "\n",
    "- **Data Integrity:**\n",
    "  - Never guess stats. If unsure: \"Insufficient data to answer.\"\n",
    "  - For rookies/injured players: \"Limited sample size; monitor practice reports.\"\n",
    "\n",
    "- **Response Format:**\n",
    "[Week X] [Player Name]:\n",
    "\n",
    "Passing: [YDS]/[TDs]/[INTs]\n",
    "\n",
    "Rushing: [YDS]/[TDs]\n",
    "\n",
    "Fantasy: [PTS] (PPR/Standard)\n",
    "\n",
    "[Insight]: \"[Trend/Matchup Analysis].\"\n",
    "[Advice]: \"[Start/Sit/Trade] because [reason].\"\n",
    "\"\"\""
   ]
  },
  {
   "cell_type": "code",
   "execution_count": 58,
   "id": "023526bb",
   "metadata": {},
   "outputs": [],
   "source": [
    "user_query = \"Can you give me a rundown of Josh Jacobs stats from last week\""
   ]
  },
  {
   "cell_type": "code",
   "execution_count": 59,
   "id": "a2953735",
   "metadata": {},
   "outputs": [
    {
     "name": "stdout",
     "output_type": "stream",
     "text": [
      "['Josh Jacobs']\n"
     ]
    }
   ],
   "source": [
    "detected_names = extract_player_names(user_query, combined_players)\n",
    "print(detected_names)"
   ]
  },
  {
   "cell_type": "code",
   "execution_count": 60,
   "id": "bc3096ff-878c-4172-8c2c-6f78ea70fa8a",
   "metadata": {},
   "outputs": [],
   "source": [
    "retrieved_docs = retrieve_relevant_docs(user_query, detected_names)\n",
    "context = \"\\n\".join(retrieved_docs)\n"
   ]
  },
  {
   "cell_type": "code",
   "execution_count": 61,
   "id": "c754ac1a",
   "metadata": {},
   "outputs": [],
   "source": [
    "# print(retrieved_docs)"
   ]
  },
  {
   "cell_type": "code",
   "execution_count": 62,
   "id": "40720377-4a78-4673-9491-36b821734ca0",
   "metadata": {},
   "outputs": [
    {
     "name": "stdout",
     "output_type": "stream",
     "text": [
      "[Week 8] Josh Jacobs:\n",
      "\n",
      "- **Targets**: 2\n",
      "- **Receptions**: 1\n",
      "- **Receiving Yards**: -2\n",
      "- **Receiving TDs**: 0\n",
      "- **Catch Rate**: 50%\n",
      "- **Yards per Target**: -1.0\n",
      "- **Yards per Reception**: -2.0\n",
      "- **Rushing Attempts**: 25\n",
      "- **Rushing Yards**: 127\n",
      "- **Rush TDs**: 2\n",
      "- **Red Zone Rushes**: 4\n",
      "- **Fantasy Points**: 25.5\n",
      "\n",
      "[Insight]: \"Jacobs had a strong performance in Week 8, mainly driven by his rushing, particularly with two touchdowns and significant yardage. Although his receiving metrics were negative, his ground game more than compensated for fantasy performance.\"\n"
     ]
    }
   ],
   "source": [
    "prompt = f\"Use the following information to answer the query:\\n\\n{context}\\n\\nUser Query: {user_query}\\n\\nAnswer:\"\n",
    "\n",
    "completion = client.chat.completions.create(\n",
    "    model=\"gpt-4-turbo\",\n",
    "    messages=[\n",
    "        {\"role\": \"system\", \"content\": system_message},\n",
    "        {\"role\": \"user\", \"content\": prompt}\n",
    "    ]\n",
    ")\n",
    "\n",
    "print(completion.choices[0].message.content)\n"
   ]
  },
  {
   "cell_type": "code",
   "execution_count": null,
   "id": "0a3e0fec",
   "metadata": {},
   "outputs": [],
   "source": []
  }
 ],
 "metadata": {
  "kernelspec": {
   "display_name": "myenv2",
   "language": "python",
   "name": "python3"
  },
  "language_info": {
   "codemirror_mode": {
    "name": "ipython",
    "version": 3
   },
   "file_extension": ".py",
   "mimetype": "text/x-python",
   "name": "python",
   "nbconvert_exporter": "python",
   "pygments_lexer": "ipython3",
   "version": "3.12.2"
  }
 },
 "nbformat": 4,
 "nbformat_minor": 5
}
