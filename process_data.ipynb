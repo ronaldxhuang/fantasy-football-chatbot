{
 "cells": [
  {
   "cell_type": "code",
   "execution_count": 5,
   "id": "f574e1bf-e1dd-44b6-b329-088c7239149f",
   "metadata": {},
   "outputs": [],
   "source": [
    "import numpy as np\n",
    "import pandas as pd\n",
    "import os"
   ]
  },
  {
   "cell_type": "code",
   "execution_count": 6,
   "id": "a03cdb40-c746-4438-aac0-1e52baed32de",
   "metadata": {},
   "outputs": [],
   "source": [
    "def process_data(orig_data_folder, output_folder, features_to_remove):\n",
    "\n",
    "    os.chmod(output_folder, 0o777)\n",
    "    for file_name in os.listdir(orig_data_folder):\n",
    "        file_path = os.path.join(orig_data_folder, file_name) \n",
    "\n",
    "        df = pd.read_csv(file_path)\n",
    "\n",
    "        week_num = int(file_name.split('_week')[1].split('.')[0])\n",
    "        df['Week'] = week_num\n",
    "\n",
    "        df = df.drop(columns = features_to_remove, errors='ignore')\n",
    "\n",
    "        output_file_path = os.path.join(output_folder, file_name)\n",
    "        df.to_csv(output_file_path, index = False)\n",
    "        print(f\"Processed: {file_name}\")\n",
    "\n",
    "        \n",
    "        "
   ]
  },
  {
   "cell_type": "code",
   "execution_count": 7,
   "id": "03c755d7-56da-4197-a5e7-1c32803c9ab0",
   "metadata": {},
   "outputs": [],
   "source": [
    "features_to_drop_qb = ['games', 'comDrop', 'passYds300Games', 'td40s', 'td50s', 'ezAtt', 'ezTds', 'ezInts', \n",
    "                       'ezPct', 'ezTdPct', 'rushTd40s', 'rzRushTds', 'i5RushCarries', 'i5RushTds', 'i5RushPct', 'ptsPerDb']"
   ]
  },
  {
   "cell_type": "code",
   "execution_count": 8,
   "id": "599de0f2-6c70-474f-ab66-c399bbd7e04d",
   "metadata": {},
   "outputs": [
    {
     "name": "stdout",
     "output_type": "stream",
     "text": [
      "Processed: fantasy-stats-passing_week1.csv\n",
      "Processed: fantasy-stats-passing_week10.csv\n",
      "Processed: fantasy-stats-passing_week11.csv\n",
      "Processed: fantasy-stats-passing_week12.csv\n",
      "Processed: fantasy-stats-passing_week13.csv\n",
      "Processed: fantasy-stats-passing_week14.csv\n",
      "Processed: fantasy-stats-passing_week15.csv\n",
      "Processed: fantasy-stats-passing_week16.csv\n",
      "Processed: fantasy-stats-passing_week17.csv\n",
      "Processed: fantasy-stats-passing_week18.csv\n",
      "Processed: fantasy-stats-passing_week2.csv\n",
      "Processed: fantasy-stats-passing_week3.csv\n",
      "Processed: fantasy-stats-passing_week4.csv\n",
      "Processed: fantasy-stats-passing_week5.csv\n",
      "Processed: fantasy-stats-passing_week6.csv\n",
      "Processed: fantasy-stats-passing_week7.csv\n",
      "Processed: fantasy-stats-passing_week8.csv\n",
      "Processed: fantasy-stats-passing_week9.csv\n"
     ]
    }
   ],
   "source": [
    "data_folder = \"data/2024_weekly_passing_stats\"\n",
    "pre_processed_folder = \"preprocessed_data/processed_2024_weekly_passing_stats\"\n",
    "\n",
    "process_data(data_folder, pre_processed_folder, features_to_drop_qb)\n"
   ]
  },
  {
   "cell_type": "code",
   "execution_count": null,
   "id": "27e0d7e4-ae52-4331-90a5-4180de68126f",
   "metadata": {},
   "outputs": [],
   "source": []
  }
 ],
 "metadata": {
  "kernelspec": {
   "display_name": "Python 3 (ipykernel)",
   "language": "python",
   "name": "python3"
  },
  "language_info": {
   "codemirror_mode": {
    "name": "ipython",
    "version": 3
   },
   "file_extension": ".py",
   "mimetype": "text/x-python",
   "name": "python",
   "nbconvert_exporter": "python",
   "pygments_lexer": "ipython3",
   "version": "3.12.2"
  }
 },
 "nbformat": 4,
 "nbformat_minor": 5
}
