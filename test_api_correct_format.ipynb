{
 "cells": [
  {
   "cell_type": "code",
   "execution_count": 102,
   "id": "f6e564a0-b023-4efa-b329-a869f1e92ff2",
   "metadata": {},
   "outputs": [],
   "source": [
    "from openai import OpenAI\n",
    "import numpy as np\n",
    "import json\n",
    "import faiss"
   ]
  },
  {
   "cell_type": "code",
   "execution_count": 103,
   "id": "2e3efe13-6529-44bc-9f3e-423586ff5d8f",
   "metadata": {},
   "outputs": [],
   "source": [
    "#load json files\n",
    "def load_documents(json_file):\n",
    "    with open(json_file, \"r\", encoding=\"utf-8\") as f:\n",
    "        data = json.load(f)\n",
    "        \n",
    "    return data\n",
    "\n",
    "# Generate embeddings for each document\n",
    "def get_embedding(text):\n",
    "    response = client.embeddings.create(model = \"text-embedding-ada-002\", input = text)\n",
    "    embedding_array = np.array(response.data[0].embedding)\n",
    "    \n",
    "    return embedding_array\n"
   ]
  },
  {
   "cell_type": "code",
   "execution_count": 104,
   "id": "8d678628-787f-4713-b3e2-2d5733ae2d04",
   "metadata": {},
   "outputs": [],
   "source": [
    "with open(\"C:/Users/rshua/keys/secret_key.json\", \"r\") as file:\n",
    "    secrets = json.load(file)\n",
    "    api_key = secrets[\"OPENAI_API_KEY\"]\n",
    "\n",
    "client = OpenAI(api_key = api_key)"
   ]
  },
  {
   "cell_type": "code",
   "execution_count": 105,
   "id": "13d9e2ef-c2cf-418c-96c3-665aaf4bfa45",
   "metadata": {},
   "outputs": [],
   "source": [
    "data = load_documents(\"format_correct_TEST2.json\")"
   ]
  },
  {
   "cell_type": "code",
   "execution_count": 106,
   "id": "9547d28e-ba37-4c84-84d0-08b42f58fc23",
   "metadata": {},
   "outputs": [],
   "source": [
    "# data.items()"
   ]
  },
  {
   "cell_type": "code",
   "execution_count": 107,
   "id": "b4a13b9a-e1d7-455e-9594-4d2e4b65778a",
   "metadata": {},
   "outputs": [
    {
     "name": "stdout",
     "output_type": "stream",
     "text": [
      "1\n",
      "1\n",
      "2\n",
      "2\n",
      "3\n",
      "3\n"
     ]
    }
   ],
   "source": [
    "# Convert JSON to a list of text documents\n",
    "documents = []\n",
    "\n",
    "for week_data in data[\"Weeks\"]:\n",
    "    week = week_data[\"week\"]\n",
    "    for position, position_data in week_data[\"Positions\"].items():\n",
    "        for player_name, player_stats in position_data[\"Players\"].items():\n",
    "            text = f\"Week: {week}, Position: {position}, Player: {player_name}, Team: {player_stats['team']}, \"\n",
    "            text += f\"Dropbacks: {player_stats['dropbacks']}, Attempts: {player_stats['att']}, Completions: {player_stats['comp']}, \"\n",
    "            text += f\"Yards: {player_stats['yds']}, TDs: {player_stats['tds']}, INTs: {player_stats['ints']}, \"\n",
    "            text += f\"Sacks: {player_stats['sks']}, Rush Carries: {player_stats['rushCarries']}, Rush Yards: {player_stats['rushYds']}, \"\n",
    "            text += f\"Rush TDs: {player_stats['rushTds']}, Fumbles: {player_stats['fumbles']}, Fantasy Points: {player_stats['fantasyPts']}\"\n",
    "            documents.append({\"text\": text})\n",
    "            print(week)\n",
    "\n",
    "last_week = week\n",
    "next_week = week + 1\n"
   ]
  },
  {
   "cell_type": "code",
   "execution_count": 108,
   "id": "3e5aae94-bb3c-4773-a9cf-5eaf6c067bbb",
   "metadata": {},
   "outputs": [
    {
     "name": "stdout",
     "output_type": "stream",
     "text": [
      "Week: 1, Position: Quarterback, Player: Josh Allen, Team: BUF, Dropbacks: 30, Attempts: 23, Completions: 18, Yards: 232, TDs: 2, INTs: 0, Sacks: 2, Rush Carries: 9, Rush Yards: 39, Rush TDs: 2, Fumbles: 1, Fantasy Points: 33.2\n",
      "Week: 1, Position: Quarterback, Player: Baker Mayfield, Team: TB, Dropbacks: 34, Attempts: 30, Completions: 24, Yards: 289, TDs: 4, INTs: 0, Sacks: 1, Rush Carries: 3, Rush Yards: 21, Rush TDs: 0, Fumbles: 0, Fantasy Points: 29.7\n",
      "Week: 2, Position: Quarterback, Player: Josh Allen, Team: BUF, Dropbacks: 20, Attempts: 19, Completions: 13, Yards: 139, TDs: 1, INTs: 0, Sacks: 0, Rush Carries: 2, Rush Yards: 2, Rush TDs: 0, Fumbles: 1, Fantasy Points: 9.8\n",
      "Week: 2, Position: Quarterback, Player: Baker Mayfield, Team: TB, Dropbacks: 28, Attempts: 19, Completions: 12, Yards: 185, TDs: 1, INTs: 1, Sacks: 5, Rush Carries: 5, Rush Yards: 34, Rush TDs: 1, Fumbles: 2, Fantasy Points: 19.8\n",
      "Week: 3, Position: Quarterback, Player: Josh Allen, Team: BUF, Dropbacks: 34, Attempts: 30, Completions: 23, Yards: 263, TDs: 4, INTs: 0, Sacks: 0, Rush Carries: 6, Rush Yards: 44, Rush TDs: 0, Fumbles: 0, Fantasy Points: 30.9\n",
      "Week: 3, Position: Quarterback, Player: Baker Mayfield, Team: TB, Dropbacks: 40, Attempts: 33, Completions: 25, Yards: 163, TDs: 1, INTs: 1, Sacks: 7, Rush Carries: 0, Rush Yards: 0, Rush TDs: 0, Fumbles: 0, Fantasy Points: 9.5\n"
     ]
    }
   ],
   "source": [
    "for doc in documents:\n",
    "    print(doc[\"text\"])"
   ]
  },
  {
   "cell_type": "code",
   "execution_count": 109,
   "id": "57d314fa-4b51-4a00-8805-4518f1409003",
   "metadata": {},
   "outputs": [],
   "source": [
    "# Create a list of text documents and their embeddings\n",
    "# texts = [doc[\"text\"] for doc in documents]\n",
    "texts = []\n",
    "\n",
    "for i in documents:\n",
    "    text_content = i[\"text\"]\n",
    "    texts.append(text_content)\n",
    "\n",
    "embeddings = np.array([get_embedding(text) for text in texts])\n",
    "\n",
    "# Store embeddings in FAISS\n",
    "dimension = embeddings.shape[1]\n",
    "index = faiss.IndexFlatL2(dimension)\n",
    "index.add(embeddings)\n",
    "\n",
    "# dimension = embeddings.shape[1]\n",
    "# index = faiss.IndexFlatL2(dimension)\n",
    "# index.add(np.array([embeddings]))\n",
    "# faiss.write_index(index, \"vector_store.index\")\n",
    "\n"
   ]
  },
  {
   "cell_type": "code",
   "execution_count": 110,
   "id": "44f377ed-6ab8-4fc9-b80b-02ef47dca7d2",
   "metadata": {},
   "outputs": [
    {
     "name": "stdout",
     "output_type": "stream",
     "text": [
      "(6, 1536)\n"
     ]
    }
   ],
   "source": [
    "print(embeddings.shape)"
   ]
  },
  {
   "cell_type": "code",
   "execution_count": 111,
   "id": "b8efb32a-1239-43e9-89a5-212b7c60a148",
   "metadata": {},
   "outputs": [
    {
     "name": "stdout",
     "output_type": "stream",
     "text": [
      "1536\n"
     ]
    }
   ],
   "source": [
    "print(dimension)"
   ]
  },
  {
   "cell_type": "code",
   "execution_count": 112,
   "id": "46221471-09af-4aa9-8fa0-f88bfe89ba60",
   "metadata": {},
   "outputs": [],
   "source": [
    "# Function to retrieve the most relevant documents\n",
    "def retrieve_relevant_docs(query, top_k=2):\n",
    "    query_embedding = get_embedding(query)\n",
    "    query_embedding = query_embedding.reshape(1, -1)\n",
    "\n",
    "    distances, indices = index.search(query_embedding, top_k)\n",
    "\n",
    "    relevant_docs = []\n",
    "\n",
    "    for i in indices[0]:\n",
    "        relevant_docs.append(texts[i])\n",
    "\n",
    "    return relevant_docs\n",
    "\n",
    "\n",
    "    # query_embedding = get_embedding(query)\n",
    "    # distances, indices = index.search(query_embedding.reshape(1, -1), top_k)\n",
    "    \n",
    "    # return [texts[i] for i in indices[0]]\n",
    "\n"
   ]
  },
  {
   "cell_type": "code",
   "execution_count": 113,
   "id": "bc3096ff-878c-4172-8c2c-6f78ea70fa8a",
   "metadata": {},
   "outputs": [],
   "source": [
    "user_query = \"How did Baker Mayfield do in Week 1? \"\n",
    "\n",
    "retrieved_docs = retrieve_relevant_docs(user_query)\n",
    "context = \"\\n\".join(retrieved_docs)\n"
   ]
  },
  {
   "cell_type": "code",
   "execution_count": 114,
   "id": "11f832fc-a4aa-4ba1-8916-edf5a6ff3ebd",
   "metadata": {},
   "outputs": [],
   "source": [
    "system_message = (\n",
    "    \"You are a helpful Fantasy Football assistant specializing in providing fantasy football advice. You assist with:\"\n",
    "    \"Summarizing NFL player statistics based on retrieved information\"\n",
    "    \"Providing valuable line up suggestions like start/sit recommendations\"\n",
    "    \"Providing insightful trade advice\"\n",
    "\n",
    "    \"If asked about information from a certain week, always mention the specific week number in your response.\\n\"\n",
    "\n",
    "    f\"'Last week' refers to Week {last_week} of the season, and 'next week' refers to Week {next_week}.\\n\"\n",
    "\n",
    "    \"If asked to predict performance for 'next week', base your prediction on the player's skill level, \"\n",
    "    \"recent performances, and overall season trends.\\n\"\n",
    "\n",
    "    \"Your 'next week' predictions should include key metrics such as passing yards, passing touchdowns, rushing yards, \"\n",
    "    \"and total fantasy points. Ensure your estimates are reasonable based on past data.\\n\"\n",
    ")"
   ]
  },
  {
   "cell_type": "code",
   "execution_count": 115,
   "id": "40720377-4a78-4673-9491-36b821734ca0",
   "metadata": {},
   "outputs": [
    {
     "name": "stdout",
     "output_type": "stream",
     "text": [
      "In Week 1 of the season, Baker Mayfield, playing as quarterback for the Tampa Bay Buccaneers, had an impressive performance. Here are his detailed statistics:\n",
      "\n",
      "- Dropbacks: 34\n",
      "- Pass Attempts: 30\n",
      "- Completions: 24\n",
      "- Passing Yards: 289\n",
      "- Passing Touchdowns: 4\n",
      "- Interceptions: 0\n",
      "- Sacks: 1\n",
      "- Rushing Attempts: 3\n",
      "- Rushing Yards: 21\n",
      "- Rushing Touchdowns: 0\n",
      "- Fumbles: 0\n",
      "- Fantasy Points: 29.7\n",
      "\n",
      "This performance was notable for its high efficiency and productivity, as evidenced by his high completion rate and multiple touchdowns, contributing to a significant fantasy score of 29.7 points.\n"
     ]
    }
   ],
   "source": [
    "prompt = f\"Use the following information to answer the query:\\n\\n{context}\\n\\nUser Query: {user_query}\\n\\nAnswer:\"\n",
    "\n",
    "# print(prompt)\n",
    "\n",
    "completion = client.chat.completions.create(\n",
    "    model=\"gpt-4-turbo\",\n",
    "    messages=[\n",
    "        {\"role\": \"system\", \"content\": system_message},\n",
    "        {\"role\": \"user\", \"content\": prompt}\n",
    "    ]\n",
    ")\n",
    "\n",
    "print(completion.choices[0].message.content)\n"
   ]
  },
  {
   "cell_type": "code",
   "execution_count": 74,
   "id": "2f78a478-1a4f-4e94-b6d0-a689e2c57d40",
   "metadata": {},
   "outputs": [],
   "source": [
    "# completion = client.chat.completions.create(\n",
    "#   model=\"gpt-4o-mini\",\n",
    "#   store=True,\n",
    "#   messages=[\n",
    "#     {\"role\": \"user\", \"content\": \"How did Saquon Barkley do in the 2024 season?\"}\n",
    "#   ]\n",
    "# )\n",
    "\n",
    "# print(completion.choices[0].message);\n"
   ]
  },
  {
   "cell_type": "code",
   "execution_count": null,
   "id": "ba1a222e-4d8b-4df9-8171-19eefb3a6134",
   "metadata": {},
   "outputs": [],
   "source": []
  }
 ],
 "metadata": {
  "kernelspec": {
   "display_name": "Python 3 (ipykernel)",
   "language": "python",
   "name": "python3"
  },
  "language_info": {
   "codemirror_mode": {
    "name": "ipython",
    "version": 3
   },
   "file_extension": ".py",
   "mimetype": "text/x-python",
   "name": "python",
   "nbconvert_exporter": "python",
   "pygments_lexer": "ipython3",
   "version": "3.12.2"
  }
 },
 "nbformat": 4,
 "nbformat_minor": 5
}
