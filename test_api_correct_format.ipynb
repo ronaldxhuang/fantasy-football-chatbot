{
 "cells": [
  {
   "cell_type": "code",
   "execution_count": 126,
   "id": "f6e564a0-b023-4efa-b329-a869f1e92ff2",
   "metadata": {},
   "outputs": [],
   "source": [
    "from openai import OpenAI\n",
    "import numpy as np\n",
    "import json\n",
    "import faiss\n",
    "import os\n",
    "import re"
   ]
  },
  {
   "cell_type": "code",
   "execution_count": 108,
   "id": "c859debd",
   "metadata": {},
   "outputs": [],
   "source": [
    "# from langchain_openai import ChatOpenAI\n",
    "# from dotenv import load_dotenv\n",
    "# load_dotenv()\n",
    "\n",
    "# # print(\"Key exists:\", \"OPENAI_API_KEY\" in os.environ)  # Should be True\n",
    "# # print(\"Key length:\", len(os.getenv(\"OPENAI_API_KEY\")))  # Should be ~51 chars\n",
    "\n",
    "# llm = ChatOpenAI()\n",
    "# llm.invoke(\"Hello, world!\")"
   ]
  },
  {
   "cell_type": "code",
   "execution_count": 109,
   "id": "2e3efe13-6529-44bc-9f3e-423586ff5d8f",
   "metadata": {},
   "outputs": [],
   "source": [
    "#load json files\n",
    "def load_documents(json_file):\n",
    "    with open(json_file, \"r\", encoding=\"utf-8\") as f:\n",
    "        data = json.load(f)\n",
    "        \n",
    "    return data\n",
    "\n",
    "# Generate embeddings for each document\n",
    "def get_embedding(text):\n",
    "    response = client.embeddings.create(model = \"text-embedding-ada-002\", input = text)\n",
    "    embedding_array = np.array(response.data[0].embedding)\n",
    "    \n",
    "    return embedding_array\n"
   ]
  },
  {
   "cell_type": "code",
   "execution_count": 110,
   "id": "8d678628-787f-4713-b3e2-2d5733ae2d04",
   "metadata": {},
   "outputs": [],
   "source": [
    "with open(\"C:/Users/rshua/keys/secret_key.json\", \"r\") as file:\n",
    "    secrets = json.load(file)\n",
    "    api_key = secrets[\"OPENAI_API_KEY\"]\n",
    "\n",
    "client = OpenAI(api_key = api_key)"
   ]
  },
  {
   "cell_type": "code",
   "execution_count": 111,
   "id": "13d9e2ef-c2cf-418c-96c3-665aaf4bfa45",
   "metadata": {},
   "outputs": [],
   "source": [
    "# data = load_documents(\"C:/Users/rshua/fantasy-football-chatbot/nfl_season_stats_partial.json\")\n",
    "data = load_documents(\"nfl_season_stats_partial.json\")"
   ]
  },
  {
   "cell_type": "code",
   "execution_count": 112,
   "id": "b4a13b9a-e1d7-455e-9594-4d2e4b65778a",
   "metadata": {},
   "outputs": [],
   "source": [
    "# Convert JSON to a list of text documents\n",
    "documents = []\n",
    "\n",
    "for week_data in data[\"Weeks\"]:\n",
    "    week = week_data[\"week\"]\n",
    "    for position, position_data in week_data[\"Positions\"].items():\n",
    "        for player_name, player_stats in position_data[\"Players\"].items():\n",
    "            text = f\"Week: {week}, Position: {position}, Player: {player_name}, Team: {player_stats['team']}, \"\n",
    "            text += f\"Dropbacks: {player_stats['dropbacks']}, Attempts: {player_stats['att']}, Completions: {player_stats['comp']}, \"\n",
    "            text += f\"Yards: {player_stats['yds']}, TDs: {player_stats['tds']}, INTs: {player_stats['ints']}, \"\n",
    "            text += f\"Sacks: {player_stats['sks']}, Rush Carries: {player_stats['rushCarries']}, Rush Yards: {player_stats['rushYds']}, \"\n",
    "            text += f\"Rush TDs: {player_stats['rushTds']}, Fumbles: {player_stats['fumbles']}, Fantasy Points: {player_stats['fantasyPts']}\"\n",
    "            documents.append({\"text\": text})\n",
    "            # print(week)\n",
    "\n",
    "last_week = week\n",
    "next_week = week + 1\n"
   ]
  },
  {
   "cell_type": "code",
   "execution_count": 113,
   "id": "57d314fa-4b51-4a00-8805-4518f1409003",
   "metadata": {},
   "outputs": [],
   "source": [
    "# Create a list of text documents and their embeddings\n",
    "# texts = [doc[\"text\"] for doc in documents]\n",
    "texts = []\n",
    "\n",
    "for i in documents:\n",
    "    text_content = i[\"text\"]\n",
    "    texts.append(text_content)\n",
    "\n",
    "embeddings = np.array([get_embedding(text) for text in texts])\n",
    "\n",
    "# Store embeddings in FAISS\n",
    "dimension = embeddings.shape[1]\n",
    "index = faiss.IndexFlatL2(dimension)\n",
    "index.add(embeddings)\n",
    "\n",
    "# dimension = embeddings.shape[1]\n",
    "# index = faiss.IndexFlatL2(dimension)\n",
    "# index.add(np.array([embeddings]))\n",
    "# faiss.write_index(index, \"vector_store.index\")\n",
    "\n"
   ]
  },
  {
   "cell_type": "code",
   "execution_count": 114,
   "id": "6a157cdb",
   "metadata": {},
   "outputs": [
    {
     "name": "stdout",
     "output_type": "stream",
     "text": [
      "['Week: 1, Position: Quarterback, Player: Josh Allen, Team: BUF, Dropbacks: 30, Attempts: 23, Completions: 18, Yards: 232, TDs: 2, INTs: 0, Sacks: 2, Rush Carries: 9, Rush Yards: 39, Rush TDs: 2, Fumbles: 1, Fantasy Points: 33.2', 'Week: 1, Position: Quarterback, Player: Baker Mayfield, Team: TB, Dropbacks: 34, Attempts: 30, Completions: 24, Yards: 289, TDs: 4, INTs: 0, Sacks: 1, Rush Carries: 3, Rush Yards: 21, Rush TDs: 0, Fumbles: 0, Fantasy Points: 29.7', 'Week: 1, Position: Quarterback, Player: Jayden Daniels, Team: WAS, Dropbacks: 34, Attempts: 24, Completions: 17, Yards: 184, TDs: 0, INTs: 0, Sacks: 2, Rush Carries: 16, Rush Yards: 88, Rush TDs: 2, Fumbles: 3, Fantasy Points: 28.2', 'Week: 1, Position: Quarterback, Player: Anthony Richardson, Team: IND, Dropbacks: 24, Attempts: 19, Completions: 9, Yards: 212, TDs: 2, INTs: 1, Sacks: 2, Rush Carries: 6, Rush Yards: 56, Rush TDs: 1, Fumbles: 0, Fantasy Points: 27.1', 'Week: 1, Position: Quarterback, Player: Lamar Jackson, Team: BLT, Dropbacks: 51, Attempts: 41, Completions: 26, Yards: 273, TDs: 1, INTs: 0, Sacks: 1, Rush Carries: 16, Rush Yards: 122, Rush TDs: 0, Fumbles: 1, Fantasy Points: 27.1', 'Week: 1, Position: Quarterback, Player: Derek Carr, Team: NO, Dropbacks: 25, Attempts: 23, Completions: 19, Yards: 200, TDs: 3, INTs: 0, Sacks: 1, Rush Carries: 2, Rush Yards: 13, Rush TDs: 0, Fumbles: 0, Fantasy Points: 21.3', 'Week: 1, Position: Quarterback, Player: Jalen Hurts, Team: PHI, Dropbacks: 39, Attempts: 34, Completions: 20, Yards: 278, TDs: 2, INTs: 2, Sacks: 2, Rush Carries: 13, Rush Yards: 33, Rush TDs: 0, Fumbles: 2, Fantasy Points: 20.4', 'Week: 1, Position: Quarterback, Player: Geno Smith, Team: SEA, Dropbacks: 28, Attempts: 25, Completions: 18, Yards: 171, TDs: 1, INTs: 1, Sacks: 2, Rush Carries: 4, Rush Yards: 30, Rush TDs: 1, Fumbles: 0, Fantasy Points: 18.8', 'Week: 1, Position: Quarterback, Player: C.J. Stroud, Team: HST, Dropbacks: 38, Attempts: 32, Completions: 24, Yards: 234, TDs: 2, INTs: 0, Sacks: 4, Rush Carries: 4, Rush Yards: 13, Rush TDs: 0, Fumbles: 0, Fantasy Points: 18.7', 'Week: 1, Position: Quarterback, Player: Tua Tagovailoa, Team: MIA, Dropbacks: 44, Attempts: 37, Completions: 23, Yards: 338, TDs: 1, INTs: 0, Sacks: 3, Rush Carries: 1, Rush Yards: 11, Rush TDs: 0, Fumbles: 0, Fantasy Points: 18.6', 'Week: 1, Position: Quarterback, Player: Jordan Love, Team: GB, Dropbacks: 36, Attempts: 34, Completions: 17, Yards: 260, TDs: 2, INTs: 1, Sacks: 1, Rush Carries: 0, Rush Yards: 0, Rush TDs: 0, Fumbles: 0, Fantasy Points: 17.4', 'Week: 1, Position: Quarterback, Player: Kyler Murray, Team: ARZ, Dropbacks: 38, Attempts: 31, Completions: 21, Yards: 162, TDs: 1, INTs: 0, Sacks: 4, Rush Carries: 5, Rush Yards: 57, Rush TDs: 0, Fumbles: 1, Fantasy Points: 16.2', 'Week: 1, Position: Quarterback, Player: Matthew Stafford, Team: LA, Dropbacks: 51, Attempts: 49, Completions: 34, Yards: 317, TDs: 1, INTs: 1, Sacks: 2, Rush Carries: 0, Rush Yards: 0, Rush TDs: 0, Fumbles: 0, Fantasy Points: 15.7', 'Week: 1, Position: Quarterback, Player: Sam Darnold, Team: MIN, Dropbacks: 26, Attempts: 24, Completions: 19, Yards: 208, TDs: 2, INTs: 1, Sacks: 1, Rush Carries: 3, Rush Yards: 3, Rush TDs: 0, Fumbles: 0, Fantasy Points: 15.6', 'Week: 1, Position: Quarterback, Player: Patrick Mahomes, Team: KC, Dropbacks: 31, Attempts: 28, Completions: 20, Yards: 291, TDs: 1, INTs: 1, Sacks: 2, Rush Carries: 2, Rush Yards: 3, Rush TDs: 0, Fumbles: 0, Fantasy Points: 14.9', 'Week: 1, Position: Quarterback, Player: Gardner Minshew, Team: LV, Dropbacks: 40, Attempts: 33, Completions: 25, Yards: 257, TDs: 1, INTs: 1, Sacks: 4, Rush Carries: 3, Rush Yards: 5, Rush TDs: 0, Fumbles: 1, Fantasy Points: 13.8', 'Week: 1, Position: Quarterback, Player: Bo Nix, Team: DEN, Dropbacks: 51, Attempts: 42, Completions: 26, Yards: 138, TDs: 0, INTs: 2, Sacks: 2, Rush Carries: 5, Rush Yards: 35, Rush TDs: 1, Fumbles: 0, Fantasy Points: 13.0', 'Week: 1, Position: Quarterback, Player: Deshaun Watson, Team: CLV, Dropbacks: 56, Attempts: 45, Completions: 24, Yards: 169, TDs: 1, INTs: 2, Sacks: 6, Rush Carries: 5, Rush Yards: 39, Rush TDs: 0, Fumbles: 1, Fantasy Points: 12.7', 'Week: 1, Position: Quarterback, Player: Jared Goff, Team: DET, Dropbacks: 32, Attempts: 28, Completions: 18, Yards: 217, TDs: 1, INTs: 1, Sacks: 2, Rush Carries: 1, Rush Yards: 7, Rush TDs: 0, Fumbles: 0, Fantasy Points: 12.4', 'Week: 1, Position: Quarterback, Player: Justin Fields, Team: PIT, Dropbacks: 29, Attempts: 23, Completions: 17, Yards: 156, TDs: 0, INTs: 0, Sacks: 2, Rush Carries: 14, Rush Yards: 57, Rush TDs: 0, Fumbles: 1, Fantasy Points: 11.9', 'Week: 1, Position: Quarterback, Player: Bryce Young, Team: CAR, Dropbacks: 38, Attempts: 30, Completions: 13, Yards: 161, TDs: 0, INTs: 2, Sacks: 4, Rush Carries: 4, Rush Yards: 12, Rush TDs: 1, Fumbles: 0, Fantasy Points: 11.6', 'Week: 1, Position: Quarterback, Player: Dak Prescott, Team: DAL, Dropbacks: 36, Attempts: 32, Completions: 19, Yards: 179, TDs: 1, INTs: 0, Sacks: 3, Rush Carries: 1, Rush Yards: 3, Rush TDs: 0, Fumbles: 1, Fantasy Points: 11.5', 'Week: 1, Position: Quarterback, Player: Trevor Lawrence, Team: JAX, Dropbacks: 26, Attempts: 21, Completions: 12, Yards: 162, TDs: 1, INTs: 0, Sacks: 3, Rush Carries: 1, Rush Yards: 8, Rush TDs: 0, Fumbles: 0, Fantasy Points: 11.3', 'Week: 1, Position: Quarterback, Player: Will Levis, Team: TEN, Dropbacks: 38, Attempts: 32, Completions: 19, Yards: 127, TDs: 1, INTs: 2, Sacks: 3, Rush Carries: 4, Rush Yards: 36, Rush TDs: 0, Fumbles: 1, Fantasy Points: 10.7', 'Week: 1, Position: Quarterback, Player: Justin Herbert, Team: LAC, Dropbacks: 29, Attempts: 26, Completions: 17, Yards: 144, TDs: 1, INTs: 0, Sacks: 1, Rush Carries: 4, Rush Yards: 6, Rush TDs: 0, Fumbles: 0, Fantasy Points: 10.4', 'Week: 1, Position: Quarterback, Player: Brock Purdy, Team: SF, Dropbacks: 33, Attempts: 29, Completions: 19, Yards: 231, TDs: 0, INTs: 0, Sacks: 2, Rush Carries: 1, Rush Yards: 11, Rush TDs: 0, Fumbles: 0, Fantasy Points: 10.3', 'Week: 1, Position: Quarterback, Player: Aaron Rodgers, Team: NYJ, Dropbacks: 22, Attempts: 21, Completions: 13, Yards: 167, TDs: 1, INTs: 1, Sacks: 1, Rush Carries: 1, Rush Yards: -1, Rush TDs: 0, Fumbles: 0, Fantasy Points: 9.6', 'Week: 1, Position: Quarterback, Player: Kirk Cousins, Team: ATL, Dropbacks: 28, Attempts: 26, Completions: 16, Yards: 155, TDs: 1, INTs: 2, Sacks: 2, Rush Carries: 1, Rush Yards: 0, Rush TDs: 0, Fumbles: 0, Fantasy Points: 8.2', 'Week: 1, Position: Quarterback, Player: Joe Burrow, Team: CIN, Dropbacks: 35, Attempts: 29, Completions: 21, Yards: 164, TDs: 0, INTs: 0, Sacks: 3, Rush Carries: 4, Rush Yards: 15, Rush TDs: 0, Fumbles: 1, Fantasy Points: 8.1', 'Week: 1, Position: Quarterback, Player: Jacoby Brissett, Team: NE, Dropbacks: 29, Attempts: 24, Completions: 15, Yards: 121, TDs: 0, INTs: 0, Sacks: 1, Rush Carries: 7, Rush Yards: 32, Rush TDs: 0, Fumbles: 0, Fantasy Points: 8.0', 'Week: 1, Position: Quarterback, Player: Daniel Jones, Team: NYG, Dropbacks: 50, Attempts: 42, Completions: 22, Yards: 186, TDs: 0, INTs: 2, Sacks: 5, Rush Carries: 6, Rush Yards: 15, Rush TDs: 0, Fumbles: 0, Fantasy Points: 6.9', 'Week: 1, Position: Quarterback, Player: Tyrod Taylor, Team: NYJ, Dropbacks: 9, Attempts: 8, Completions: 6, Yards: 36, TDs: 1, INTs: 0, Sacks: 0, Rush Carries: 1, Rush Yards: 7, Rush TDs: 0, Fumbles: 0, Fantasy Points: 6.1', 'Week: 1, Position: Quarterback, Player: Caleb Williams, Team: CHI, Dropbacks: 33, Attempts: 29, Completions: 14, Yards: 93, TDs: 0, INTs: 0, Sacks: 2, Rush Carries: 5, Rush Yards: 15, Rush TDs: 0, Fumbles: 1, Fantasy Points: 5.2', 'Week: 1, Position: Quarterback, Player: Jake Haener, Team: NO, Dropbacks: 1, Attempts: 1, Completions: 0, Yards: 0, TDs: 0, INTs: 0, Sacks: 0, Rush Carries: 0, Rush Yards: 0, Rush TDs: 0, Fumbles: 0, Fantasy Points: 0.0', 'Week: 1, Position: Quarterback, Player: Malik Willis, Team: GB, Dropbacks: 2, Attempts: 1, Completions: 0, Yards: 0, TDs: 0, INTs: 0, Sacks: 1, Rush Carries: 0, Rush Yards: 0, Rush TDs: 0, Fumbles: 0, Fantasy Points: 0.0', 'Week: 1, Position: Quarterback, Player: Andy Dalton, Team: CAR, Dropbacks: 1, Attempts: 1, Completions: 0, Yards: 0, TDs: 0, INTs: 0, Sacks: 0, Rush Carries: 0, Rush Yards: 0, Rush TDs: 0, Fumbles: 0, Fantasy Points: 0.0', 'Week: 1, Position: Quarterback, Player: Cooper Rush, Team: DAL, Dropbacks: 0, Attempts: 0, Completions: 0, Yards: 0, TDs: 0, INTs: 0, Sacks: 0, Rush Carries: 1, Rush Yards: -1, Rush TDs: 0, Fumbles: 0, Fantasy Points: -0.1', 'Week: 1, Position: Quarterback, Player: Brandon Allen, Team: SF, Dropbacks: 0, Attempts: 0, Completions: 0, Yards: 0, TDs: 0, INTs: 0, Sacks: 0, Rush Carries: 1, Rush Yards: -1, Rush TDs: 0, Fumbles: 0, Fantasy Points: -0.1', 'Week: 1, Position: Quarterback, Player: Kyle Trask, Team: TB, Dropbacks: 0, Attempts: 0, Completions: 0, Yards: 0, TDs: 0, INTs: 0, Sacks: 0, Rush Carries: 2, Rush Yards: -2, Rush TDs: 0, Fumbles: 0, Fantasy Points: -0.2', 'Week: 2, Position: Quarterback, Player: Kyler Murray, Team: ARZ, Dropbacks: 26, Attempts: 21, Completions: 17, Yards: 266, TDs: 3, INTs: 0, Sacks: 1, Rush Carries: 5, Rush Yards: 59, Rush TDs: 0, Fumbles: 0, Fantasy Points: 28.5', 'Week: 2, Position: Quarterback, Player: Jalen Hurts, Team: PHI, Dropbacks: 35, Attempts: 30, Completions: 23, Yards: 183, TDs: 1, INTs: 1, Sacks: 1, Rush Carries: 13, Rush Yards: 85, Rush TDs: 1, Fumbles: 0, Fantasy Points: 24.8', 'Week: 2, Position: Quarterback, Player: Derek Carr, Team: NO, Dropbacks: 18, Attempts: 16, Completions: 11, Yards: 243, TDs: 2, INTs: 1, Sacks: 1, Rush Carries: 1, Rush Yards: 1, Rush TDs: 1, Fumbles: 0, Fantasy Points: 22.8', 'Week: 2, Position: Quarterback, Player: Sam Darnold, Team: MIN, Dropbacks: 31, Attempts: 26, Completions: 17, Yards: 268, TDs: 2, INTs: 1, Sacks: 3, Rush Carries: 5, Rush Yards: 32, Rush TDs: 0, Fumbles: 2, Fantasy Points: 20.9', 'Week: 2, Position: Quarterback, Player: Baker Mayfield, Team: TB, Dropbacks: 28, Attempts: 19, Completions: 12, Yards: 185, TDs: 1, INTs: 1, Sacks: 5, Rush Carries: 5, Rush Yards: 34, Rush TDs: 1, Fumbles: 2, Fantasy Points: 19.8', 'Week: 2, Position: Quarterback, Player: Joe Burrow, Team: CIN, Dropbacks: 41, Attempts: 36, Completions: 23, Yards: 258, TDs: 2, INTs: 0, Sacks: 3, Rush Carries: 6, Rush Yards: 9, Rush TDs: 0, Fumbles: 2, Fantasy Points: 19.2', 'Week: 2, Position: Quarterback, Player: Daniel Jones, Team: NYG, Dropbacks: 30, Attempts: 28, Completions: 16, Yards: 178, TDs: 2, INTs: 0, Sacks: 1, Rush Carries: 5, Rush Yards: 32, Rush TDs: 0, Fumbles: 0, Fantasy Points: 18.3', 'Week: 2, Position: Quarterback, Player: Geno Smith, Team: SEA, Dropbacks: 48, Attempts: 44, Completions: 33, Yards: 327, TDs: 1, INTs: 0, Sacks: 3, Rush Carries: 5, Rush Yards: 8, Rush TDs: 0, Fumbles: 0, Fantasy Points: 17.9', 'Week: 2, Position: Quarterback, Player: Kirk Cousins, Team: ATL, Dropbacks: 31, Attempts: 29, Completions: 20, Yards: 241, TDs: 2, INTs: 0, Sacks: 1, Rush Carries: 4, Rush Yards: -1, Rush TDs: 0, Fumbles: 1, Fantasy Points: 17.5', 'Week: 2, Position: Quarterback, Player: Lamar Jackson, Team: BLT, Dropbacks: 37, Attempts: 34, Completions: 21, Yards: 247, TDs: 1, INTs: 1, Sacks: 2, Rush Carries: 5, Rush Yards: 45, Rush TDs: 0, Fumbles: 0, Fantasy Points: 17.4', 'Week: 2, Position: Quarterback, Player: Brock Purdy, Team: SF, Dropbacks: 45, Attempts: 36, Completions: 28, Yards: 319, TDs: 1, INTs: 1, Sacks: 6, Rush Carries: 2, Rush Yards: 12, Rush TDs: 0, Fumbles: 1, Fantasy Points: 17.0', 'Week: 2, Position: Quarterback, Player: Deshaun Watson, Team: CLV, Dropbacks: 38, Attempts: 34, Completions: 22, Yards: 186, TDs: 0, INTs: 0, Sacks: 2, Rush Carries: 5, Rush Yards: 20, Rush TDs: 1, Fumbles: 0, Fantasy Points: 15.4', 'Week: 2, Position: Quarterback, Player: Aaron Rodgers, Team: NYJ, Dropbacks: 33, Attempts: 30, Completions: 18, Yards: 176, TDs: 2, INTs: 0, Sacks: 2, Rush Carries: 2, Rush Yards: 1, Rush TDs: 0, Fumbles: 0, Fantasy Points: 15.1', 'Week: 2, Position: Quarterback, Player: Patrick Mahomes, Team: KC, Dropbacks: 32, Attempts: 25, Completions: 18, Yards: 151, TDs: 2, INTs: 2, Sacks: 2, Rush Carries: 4, Rush Yards: 29, Rush TDs: 0, Fumbles: 0, Fantasy Points: 14.9', 'Week: 2, Position: Quarterback, Player: Dak Prescott, Team: DAL, Dropbacks: 43, Attempts: 39, Completions: 27, Yards: 293, TDs: 1, INTs: 2, Sacks: 3, Rush Carries: 2, Rush Yards: 12, Rush TDs: 0, Fumbles: 1, Fantasy Points: 14.9', 'Week: 2, Position: Quarterback, Player: Will Levis, Team: TEN, Dropbacks: 35, Attempts: 28, Completions: 19, Yards: 192, TDs: 1, INTs: 1, Sacks: 4, Rush Carries: 4, Rush Yards: 38, Rush TDs: 0, Fumbles: 1, Fantasy Points: 14.5', 'Week: 2, Position: Quarterback, Player: C.J. Stroud, Team: HST, Dropbacks: 39, Attempts: 36, Completions: 23, Yards: 260, TDs: 1, INTs: 0, Sacks: 3, Rush Carries: 1, Rush Yards: -1, Rush TDs: 0, Fumbles: 0, Fantasy Points: 14.3', 'Week: 2, Position: Quarterback, Player: Justin Herbert, Team: LAC, Dropbacks: 22, Attempts: 20, Completions: 14, Yards: 130, TDs: 2, INTs: 1, Sacks: 1, Rush Carries: 6, Rush Yards: 18, Rush TDs: 0, Fumbles: 1, Fantasy Points: 14.0', 'Week: 2, Position: Quarterback, Player: Gardner Minshew, Team: LV, Dropbacks: 43, Attempts: 38, Completions: 30, Yards: 276, TDs: 1, INTs: 1, Sacks: 5, Rush Carries: 1, Rush Yards: -1, Rush TDs: 0, Fumbles: 1, Fantasy Points: 13.9', 'Week: 2, Position: Quarterback, Player: Jayden Daniels, Team: WAS, Dropbacks: 38, Attempts: 29, Completions: 23, Yards: 226, TDs: 0, INTs: 0, Sacks: 5, Rush Carries: 10, Rush Yards: 44, Rush TDs: 0, Fumbles: 0, Fantasy Points: 13.4', 'Week: 2, Position: Quarterback, Player: Trevor Lawrence, Team: JAX, Dropbacks: 36, Attempts: 30, Completions: 14, Yards: 220, TDs: 0, INTs: 0, Sacks: 4, Rush Carries: 2, Rush Yards: 45, Rush TDs: 0, Fumbles: 1, Fantasy Points: 13.3', 'Week: 2, Position: Quarterback, Player: Malik Willis, Team: GB, Dropbacks: 18, Attempts: 14, Completions: 12, Yards: 122, TDs: 1, INTs: 0, Sacks: 0, Rush Carries: 6, Rush Yards: 41, Rush TDs: 0, Fumbles: 0, Fantasy Points: 13.0', 'Week: 2, Position: Quarterback, Player: Anthony Richardson, Team: IND, Dropbacks: 37, Attempts: 34, Completions: 17, Yards: 204, TDs: 1, INTs: 3, Sacks: 1, Rush Carries: 4, Rush Yards: 37, Rush TDs: 0, Fumbles: 2, Fantasy Points: 12.9', 'Week: 2, Position: Quarterback, Player: Justin Fields, Team: PIT, Dropbacks: 26, Attempts: 20, Completions: 13, Yards: 117, TDs: 1, INTs: 0, Sacks: 2, Rush Carries: 8, Rush Yards: 27, Rush TDs: 0, Fumbles: 1, Fantasy Points: 11.4', 'Week: 2, Position: Quarterback, Player: Jared Goff, Team: DET, Dropbacks: 58, Attempts: 55, Completions: 34, Yards: 307, TDs: 0, INTs: 2, Sacks: 0, Rush Carries: 2, Rush Yards: 5, Rush TDs: 0, Fumbles: 0, Fantasy Points: 10.8', 'Week: 2, Position: Quarterback, Player: Jacoby Brissett, Team: NE, Dropbacks: 32, Attempts: 27, Completions: 15, Yards: 149, TDs: 1, INTs: 0, Sacks: 3, Rush Carries: 2, Rush Yards: 6, Rush TDs: 0, Fumbles: 0, Fantasy Points: 10.6', 'Week: 2, Position: Quarterback, Player: Bo Nix, Team: DEN, Dropbacks: 39, Attempts: 35, Completions: 20, Yards: 246, TDs: 0, INTs: 2, Sacks: 2, Rush Carries: 4, Rush Yards: 25, Rush TDs: 0, Fumbles: 0, Fantasy Points: 10.3', 'Week: 2, Position: Quarterback, Player: Josh Allen, Team: BUF, Dropbacks: 20, Attempts: 19, Completions: 13, Yards: 139, TDs: 1, INTs: 0, Sacks: 0, Rush Carries: 2, Rush Yards: 2, Rush TDs: 0, Fumbles: 1, Fantasy Points: 9.8', 'Week: 2, Position: Quarterback, Player: Caleb Williams, Team: CHI, Dropbacks: 47, Attempts: 37, Completions: 23, Yards: 174, TDs: 0, INTs: 2, Sacks: 7, Rush Carries: 5, Rush Yards: 44, Rush TDs: 0, Fumbles: 0, Fantasy Points: 9.4', 'Week: 2, Position: Quarterback, Player: Matthew Stafford, Team: LA, Dropbacks: 32, Attempts: 27, Completions: 19, Yards: 216, TDs: 0, INTs: 0, Sacks: 5, Rush Carries: 0, Rush Yards: 0, Rush TDs: 0, Fumbles: 1, Fantasy Points: 8.6', 'Week: 2, Position: Quarterback, Player: Tua Tagovailoa, Team: MIA, Dropbacks: 29, Attempts: 25, Completions: 17, Yards: 145, TDs: 1, INTs: 3, Sacks: 1, Rush Carries: 2, Rush Yards: 17, Rush TDs: 0, Fumbles: 0, Fantasy Points: 8.5', 'Week: 2, Position: Quarterback, Player: Skylar Thompson, Team: MIA, Dropbacks: 16, Attempts: 14, Completions: 8, Yards: 80, TDs: 0, INTs: 0, Sacks: 1, Rush Carries: 1, Rush Yards: 4, Rush TDs: 0, Fumbles: 0, Fantasy Points: 3.6', 'Week: 2, Position: Quarterback, Player: Bryce Young, Team: CAR, Dropbacks: 29, Attempts: 26, Completions: 18, Yards: 84, TDs: 0, INTs: 1, Sacks: 2, Rush Carries: 1, Rush Yards: 6, Rush TDs: 0, Fumbles: 0, Fantasy Points: 3.0', 'Week: 2, Position: Quarterback, Player: Jameis Winston, Team: CLV, Dropbacks: 0, Attempts: 0, Completions: 0, Yards: 0, TDs: 0, INTs: 0, Sacks: 0, Rush Carries: 2, Rush Yards: 4, Rush TDs: 0, Fumbles: 0, Fantasy Points: 0.4', 'Week: 2, Position: Quarterback, Player: Cooper Rush, Team: DAL, Dropbacks: 3, Attempts: 3, Completions: 1, Yards: 6, TDs: 0, INTs: 0, Sacks: 0, Rush Carries: 0, Rush Yards: 0, Rush TDs: 0, Fumbles: 0, Fantasy Points: 0.2', 'Week: 2, Position: Quarterback, Player: Jeff Driskel, Team: WAS, Dropbacks: 0, Attempts: 0, Completions: 0, Yards: 0, TDs: 0, INTs: 0, Sacks: 0, Rush Carries: 0, Rush Yards: 0, Rush TDs: 0, Fumbles: 0, Fantasy Points: 0.0', 'Week: 2, Position: Quarterback, Player: Mitch Trubisky, Team: BUF, Dropbacks: 0, Attempts: 0, Completions: 0, Yards: 0, TDs: 0, INTs: 0, Sacks: 0, Rush Carries: 2, Rush Yards: -2, Rush TDs: 0, Fumbles: 0, Fantasy Points: -0.2', 'Week: 2, Position: Quarterback, Player: Jake Haener, Team: NO, Dropbacks: 0, Attempts: 0, Completions: 0, Yards: 0, TDs: 0, INTs: 0, Sacks: 0, Rush Carries: 3, Rush Yards: -3, Rush TDs: 0, Fumbles: 0, Fantasy Points: -0.3', 'Week: 2, Position: Quarterback, Player: Clayton Tune, Team: ARZ, Dropbacks: 0, Attempts: 0, Completions: 0, Yards: 0, TDs: 0, INTs: 0, Sacks: 0, Rush Carries: 1, Rush Yards: -6, Rush TDs: 0, Fumbles: 1, Fantasy Points: -0.6', 'Week: 3, Position: Quarterback, Player: Josh Allen, Team: BUF, Dropbacks: 34, Attempts: 30, Completions: 23, Yards: 263, TDs: 4, INTs: 0, Sacks: 0, Rush Carries: 6, Rush Yards: 44, Rush TDs: 0, Fumbles: 0, Fantasy Points: 30.9', 'Week: 3, Position: Quarterback, Player: Dak Prescott, Team: DAL, Dropbacks: 55, Attempts: 51, Completions: 28, Yards: 379, TDs: 2, INTs: 0, Sacks: 3, Rush Carries: 2, Rush Yards: 7, Rush TDs: 1, Fumbles: 1, Fantasy Points: 29.9', 'Week: 3, Position: Quarterback, Player: Jayden Daniels, Team: WAS, Dropbacks: 31, Attempts: 23, Completions: 21, Yards: 254, TDs: 2, INTs: 0, Sacks: 2, Rush Carries: 12, Rush Yards: 39, Rush TDs: 1, Fumbles: 0, Fantasy Points: 28.1', 'Week: 3, Position: Quarterback, Player: Brock Purdy, Team: SF, Dropbacks: 38, Attempts: 30, Completions: 22, Yards: 292, TDs: 3, INTs: 0, Sacks: 1, Rush Carries: 10, Rush Yards: 41, Rush TDs: 0, Fumbles: 1, Fantasy Points: 27.8', 'Week: 3, Position: Quarterback, Player: Lamar Jackson, Team: BLT, Dropbacks: 17, Attempts: 15, Completions: 12, Yards: 182, TDs: 1, INTs: 0, Sacks: 0, Rush Carries: 14, Rush Yards: 87, Rush TDs: 1, Fumbles: 0, Fantasy Points: 26.0', 'Week: 3, Position: Quarterback, Player: Malik Willis, Team: GB, Dropbacks: 25, Attempts: 19, Completions: 13, Yards: 202, TDs: 1, INTs: 0, Sacks: 3, Rush Carries: 6, Rush Yards: 73, Rush TDs: 1, Fumbles: 0, Fantasy Points: 25.4', 'Week: 3, Position: Quarterback, Player: Joe Burrow, Team: CIN, Dropbacks: 41, Attempts: 38, Completions: 29, Yards: 324, TDs: 3, INTs: 0, Sacks: 2, Rush Carries: 1, Rush Yards: 4, Rush TDs: 0, Fumbles: 0, Fantasy Points: 25.4', 'Week: 3, Position: Quarterback, Player: Andy Dalton, Team: CAR, Dropbacks: 39, Attempts: 37, Completions: 26, Yards: 319, TDs: 3, INTs: 0, Sacks: 2, Rush Carries: 2, Rush Yards: -2, Rush TDs: 0, Fumbles: 0, Fantasy Points: 24.6', 'Week: 3, Position: Quarterback, Player: Sam Darnold, Team: MIN, Dropbacks: 32, Attempts: 28, Completions: 17, Yards: 181, TDs: 4, INTs: 0, Sacks: 4, Rush Carries: 0, Rush Yards: 0, Rush TDs: 0, Fumbles: 1, Fantasy Points: 23.2', 'Week: 3, Position: Quarterback, Player: Caleb Williams, Team: CHI, Dropbacks: 56, Attempts: 52, Completions: 33, Yards: 363, TDs: 2, INTs: 2, Sacks: 4, Rush Carries: 1, Rush Yards: 8, Rush TDs: 0, Fumbles: 1, Fantasy Points: 21.3', 'Week: 3, Position: Quarterback, Player: Aaron Rodgers, Team: NYJ, Dropbacks: 40, Attempts: 35, Completions: 27, Yards: 281, TDs: 2, INTs: 0, Sacks: 2, Rush Carries: 3, Rush Yards: 18, Rush TDs: 0, Fumbles: 0, Fantasy Points: 21.0', 'Week: 3, Position: Quarterback, Player: Justin Fields, Team: PIT, Dropbacks: 35, Attempts: 32, Completions: 25, Yards: 245, TDs: 1, INTs: 1, Sacks: 2, Rush Carries: 6, Rush Yards: 6, Rush TDs: 1, Fumbles: 0, Fantasy Points: 19.4', 'Week: 3, Position: Quarterback, Player: Daniel Jones, Team: NYG, Dropbacks: 39, Attempts: 34, Completions: 24, Yards: 236, TDs: 2, INTs: 0, Sacks: 2, Rush Carries: 8, Rush Yards: 20, Rush TDs: 0, Fumbles: 1, Fantasy Points: 19.4', 'Week: 3, Position: Quarterback, Player: Bo Nix, Team: DEN, Dropbacks: 40, Attempts: 36, Completions: 25, Yards: 216, TDs: 0, INTs: 0, Sacks: 0, Rush Carries: 9, Rush Yards: 47, Rush TDs: 1, Fumbles: 0, Fantasy Points: 19.3', 'Week: 3, Position: Quarterback, Player: Deshaun Watson, Team: CLV, Dropbacks: 47, Attempts: 37, Completions: 21, Yards: 196, TDs: 2, INTs: 0, Sacks: 8, Rush Carries: 4, Rush Yards: 26, Rush TDs: 0, Fumbles: 2, Fantasy Points: 18.4', 'Week: 3, Position: Quarterback, Player: Will Levis, Team: TEN, Dropbacks: 44, Attempts: 34, Completions: 26, Yards: 260, TDs: 2, INTs: 2, Sacks: 8, Rush Carries: 3, Rush Yards: 12, Rush TDs: 0, Fumbles: 1, Fantasy Points: 17.6', 'Week: 3, Position: Quarterback, Player: Patrick Mahomes, Team: KC, Dropbacks: 44, Attempts: 39, Completions: 26, Yards: 217, TDs: 2, INTs: 1, Sacks: 0, Rush Carries: 6, Rush Yards: 17, Rush TDs: 0, Fumbles: 0, Fantasy Points: 17.4', 'Week: 3, Position: Quarterback, Player: Kyler Murray, Team: ARZ, Dropbacks: 37, Attempts: 34, Completions: 21, Yards: 207, TDs: 1, INTs: 1, Sacks: 1, Rush Carries: 5, Rush Yards: 45, Rush TDs: 0, Fumbles: 0, Fantasy Points: 15.8', 'Week: 3, Position: Quarterback, Player: Jared Goff, Team: DET, Dropbacks: 26, Attempts: 23, Completions: 18, Yards: 199, TDs: 2, INTs: 1, Sacks: 2, Rush Carries: 3, Rush Yards: 6, Rush TDs: 0, Fumbles: 0, Fantasy Points: 15.6', 'Week: 3, Position: Quarterback, Player: Jalen Hurts, Team: PHI, Dropbacks: 45, Attempts: 38, Completions: 29, Yards: 311, TDs: 0, INTs: 1, Sacks: 4, Rush Carries: 8, Rush Yards: 25, Rush TDs: 0, Fumbles: 1, Fantasy Points: 13.9', 'Week: 3, Position: Quarterback, Player: Geno Smith, Team: SEA, Dropbacks: 37, Attempts: 34, Completions: 26, Yards: 289, TDs: 1, INTs: 2, Sacks: 3, Rush Carries: 2, Rush Yards: -2, Rush TDs: 0, Fumbles: 1, Fantasy Points: 13.4', 'Week: 3, Position: Quarterback, Player: Gardner Minshew, Team: LV, Dropbacks: 32, Attempts: 28, Completions: 18, Yards: 214, TDs: 1, INTs: 1, Sacks: 2, Rush Carries: 3, Rush Yards: 14, Rush TDs: 0, Fumbles: 0, Fantasy Points: 13.0', 'Week: 3, Position: Quarterback, Player: Matthew Stafford, Team: LA, Dropbacks: 28, Attempts: 25, Completions: 16, Yards: 221, TDs: 1, INTs: 0, Sacks: 3, Rush Carries: 0, Rush Yards: 0, Rush TDs: 0, Fumbles: 0, Fantasy Points: 12.8', 'Week: 3, Position: Quarterback, Player: Kirk Cousins, Team: ATL, Dropbacks: 31, Attempts: 29, Completions: 20, Yards: 230, TDs: 1, INTs: 1, Sacks: 2, Rush Carries: 1, Rush Yards: -1, Rush TDs: 0, Fumbles: 2, Fantasy Points: 12.1', 'Week: 3, Position: Quarterback, Player: C.J. Stroud, Team: HST, Dropbacks: 38, Attempts: 31, Completions: 20, Yards: 215, TDs: 1, INTs: 2, Sacks: 4, Rush Carries: 3, Rush Yards: 12, Rush TDs: 0, Fumbles: 0, Fantasy Points: 11.8', 'Week: 3, Position: Quarterback, Player: Trevor Lawrence, Team: JAX, Dropbacks: 43, Attempts: 38, Completions: 21, Yards: 178, TDs: 1, INTs: 1, Sacks: 4, Rush Carries: 2, Rush Yards: 3, Rush TDs: 0, Fumbles: 0, Fantasy Points: 10.4', 'Week: 3, Position: Quarterback, Player: Baker Mayfield, Team: TB, Dropbacks: 40, Attempts: 33, Completions: 25, Yards: 163, TDs: 1, INTs: 1, Sacks: 7, Rush Carries: 0, Rush Yards: 0, Rush TDs: 0, Fumbles: 0, Fantasy Points: 9.5', 'Week: 3, Position: Quarterback, Player: Justin Herbert, Team: LAC, Dropbacks: 20, Attempts: 18, Completions: 12, Yards: 125, TDs: 1, INTs: 0, Sacks: 2, Rush Carries: 1, Rush Yards: 0, Rush TDs: 0, Fumbles: 1, Fantasy Points: 9.0', 'Week: 3, Position: Quarterback, Player: Derek Carr, Team: NO, Dropbacks: 27, Attempts: 25, Completions: 14, Yards: 142, TDs: 1, INTs: 1, Sacks: 1, Rush Carries: 2, Rush Yards: 3, Rush TDs: 0, Fumbles: 0, Fantasy Points: 9.0', \"Week: 3, Position: Quarterback, Player: Aidan O'Connell, Team: LV, Dropbacks: 13, Attempts: 12, Completions: 9, Yards: 82, TDs: 1, INTs: 0, Sacks: 1, Rush Carries: 0, Rush Yards: 0, Rush TDs: 0, Fumbles: 0, Fantasy Points: 7.3\", 'Week: 3, Position: Quarterback, Player: Anthony Richardson, Team: IND, Dropbacks: 22, Attempts: 20, Completions: 10, Yards: 167, TDs: 0, INTs: 2, Sacks: 1, Rush Carries: 8, Rush Yards: 24, Rush TDs: 0, Fumbles: 0, Fantasy Points: 7.1', 'Week: 3, Position: Quarterback, Player: Skylar Thompson, Team: MIA, Dropbacks: 24, Attempts: 19, Completions: 13, Yards: 107, TDs: 0, INTs: 0, Sacks: 5, Rush Carries: 0, Rush Yards: 0, Rush TDs: 0, Fumbles: 2, Fantasy Points: 4.3', 'Week: 3, Position: Quarterback, Player: Jacoby Brissett, Team: NE, Dropbacks: 23, Attempts: 18, Completions: 12, Yards: 98, TDs: 0, INTs: 0, Sacks: 5, Rush Carries: 0, Rush Yards: 0, Rush TDs: 0, Fumbles: 0, Fantasy Points: 3.9', 'Week: 3, Position: Quarterback, Player: Tim Boyle, Team: MIA, Dropbacks: 15, Attempts: 13, Completions: 7, Yards: 79, TDs: 0, INTs: 0, Sacks: 1, Rush Carries: 1, Rush Yards: 6, Rush TDs: 0, Fumbles: 0, Fantasy Points: 3.8', 'Week: 3, Position: Quarterback, Player: Davis Mills, Team: HST, Dropbacks: 13, Attempts: 12, Completions: 7, Yards: 79, TDs: 0, INTs: 0, Sacks: 1, Rush Carries: 0, Rush Yards: 0, Rush TDs: 0, Fumbles: 0, Fantasy Points: 3.2', 'Week: 3, Position: Quarterback, Player: Drake Maye, Team: NE, Dropbacks: 12, Attempts: 8, Completions: 4, Yards: 22, TDs: 0, INTs: 0, Sacks: 2, Rush Carries: 2, Rush Yards: 12, Rush TDs: 0, Fumbles: 0, Fantasy Points: 2.1', 'Week: 3, Position: Quarterback, Player: Taylor Heinicke, Team: LAC, Dropbacks: 5, Attempts: 2, Completions: 2, Yards: 24, TDs: 0, INTs: 0, Sacks: 3, Rush Carries: 0, Rush Yards: 0, Rush TDs: 0, Fumbles: 0, Fantasy Points: 1.0', 'Week: 3, Position: Quarterback, Player: Mac Jones, Team: JAX, Dropbacks: 9, Attempts: 8, Completions: 5, Yards: 22, TDs: 0, INTs: 0, Sacks: 1, Rush Carries: 0, Rush Yards: 0, Rush TDs: 0, Fumbles: 1, Fantasy Points: 0.9', 'Week: 3, Position: Quarterback, Player: Jameis Winston, Team: CLV, Dropbacks: 0, Attempts: 0, Completions: 0, Yards: 0, TDs: 0, INTs: 0, Sacks: 0, Rush Carries: 2, Rush Yards: 1, Rush TDs: 0, Fumbles: 0, Fantasy Points: 0.1', 'Week: 3, Position: Quarterback, Player: Nick Mullens, Team: MIN, Dropbacks: 0, Attempts: 0, Completions: 0, Yards: 0, TDs: 0, INTs: 0, Sacks: 0, Rush Carries: 1, Rush Yards: 0, Rush TDs: 0, Fumbles: 0, Fantasy Points: 0.0', 'Week: 3, Position: Quarterback, Player: Mitch Trubisky, Team: BUF, Dropbacks: 1, Attempts: 1, Completions: 1, Yards: 3, TDs: 0, INTs: 0, Sacks: 0, Rush Carries: 1, Rush Yards: -1, Rush TDs: 0, Fumbles: 0, Fantasy Points: 0.0', 'Week: 4, Position: Quarterback, Player: Justin Fields, Team: PIT, Dropbacks: 42, Attempts: 34, Completions: 22, Yards: 312, TDs: 1, INTs: 0, Sacks: 4, Rush Carries: 10, Rush Yards: 55, Rush TDs: 2, Fumbles: 2, Fantasy Points: 34.0', 'Week: 4, Position: Quarterback, Player: Jordan Love, Team: GB, Dropbacks: 56, Attempts: 54, Completions: 32, Yards: 389, TDs: 4, INTs: 3, Sacks: 1, Rush Carries: 1, Rush Yards: 6, Rush TDs: 0, Fumbles: 0, Fantasy Points: 29.2', 'Week: 4, Position: Quarterback, Player: Baker Mayfield, Team: TB, Dropbacks: 51, Attempts: 47, Completions: 30, Yards: 347, TDs: 2, INTs: 0, Sacks: 2, Rush Carries: 4, Rush Yards: 10, Rush TDs: 1, Fumbles: 1, Fantasy Points: 28.9', 'Week: 4, Position: Quarterback, Player: Lamar Jackson, Team: BLT, Dropbacks: 20, Attempts: 18, Completions: 13, Yards: 156, TDs: 2, INTs: 0, Sacks: 1, Rush Carries: 6, Rush Yards: 54, Rush TDs: 1, Fumbles: 1, Fantasy Points: 25.6', 'Week: 4, Position: Quarterback, Player: C.J. Stroud, Team: HST, Dropbacks: 45, Attempts: 40, Completions: 27, Yards: 345, TDs: 2, INTs: 0, Sacks: 2, Rush Carries: 3, Rush Yards: 17, Rush TDs: 0, Fumbles: 0, Fantasy Points: 23.5', 'Week: 4, Position: Quarterback, Player: Sam Darnold, Team: MIN, Dropbacks: 33, Attempts: 28, Completions: 20, Yards: 275, TDs: 3, INTs: 1, Sacks: 2, Rush Carries: 7, Rush Yards: 15, Rush TDs: 0, Fumbles: 1, Fantasy Points: 23.5', 'Week: 4, Position: Quarterback, Player: Jayden Daniels, Team: WAS, Dropbacks: 36, Attempts: 30, Completions: 26, Yards: 233, TDs: 1, INTs: 1, Sacks: 0, Rush Carries: 8, Rush Yards: 47, Rush TDs: 1, Fumbles: 0, Fantasy Points: 23.0', 'Week: 4, Position: Quarterback, Player: Geno Smith, Team: SEA, Dropbacks: 62, Attempts: 56, Completions: 38, Yards: 395, TDs: 1, INTs: 1, Sacks: 3, Rush Carries: 5, Rush Yards: 38, Rush TDs: 0, Fumbles: 0, Fantasy Points: 22.6', 'Week: 4, Position: Quarterback, Player: Jared Goff, Team: DET, Dropbacks: 21, Attempts: 18, Completions: 18, Yards: 292, TDs: 2, INTs: 0, Sacks: 3, Rush Carries: 2, Rush Yards: -2, Rush TDs: 0, Fumbles: 0, Fantasy Points: 19.5', 'Week: 4, Position: Quarterback, Player: Jalen Hurts, Team: PHI, Dropbacks: 37, Attempts: 30, Completions: 18, Yards: 158, TDs: 1, INTs: 0, Sacks: 6, Rush Carries: 8, Rush Yards: 20, Rush TDs: 1, Fumbles: 2, Fantasy Points: 18.3', 'Week: 4, Position: Quarterback, Player: Joe Burrow, Team: CIN, Dropbacks: 33, Attempts: 31, Completions: 22, Yards: 232, TDs: 2, INTs: 1, Sacks: 0, Rush Carries: 1, Rush Yards: 10, Rush TDs: 0, Fumbles: 0, Fantasy Points: 17.3', 'Week: 4, Position: Quarterback, Player: Dak Prescott, Team: DAL, Dropbacks: 28, Attempts: 27, Completions: 22, Yards: 221, TDs: 2, INTs: 0, Sacks: 1, Rush Carries: 2, Rush Yards: -1, Rush TDs: 0, Fumbles: 0, Fantasy Points: 16.7', 'Week: 4, Position: Quarterback, Player: Andy Dalton, Team: CAR, Dropbacks: 42, Attempts: 40, Completions: 25, Yards: 220, TDs: 2, INTs: 1, Sacks: 0, Rush Carries: 3, Rush Yards: 9, Rush TDs: 0, Fumbles: 0, Fantasy Points: 16.7', 'Week: 4, Position: Quarterback, Player: Brock Purdy, Team: SF, Dropbacks: 30, Attempts: 27, Completions: 15, Yards: 288, TDs: 1, INTs: 1, Sacks: 1, Rush Carries: 5, Rush Yards: 11, Rush TDs: 0, Fumbles: 2, Fantasy Points: 15.6', 'Week: 4, Position: Quarterback, Player: Trevor Lawrence, Team: JAX, Dropbacks: 35, Attempts: 33, Completions: 18, Yards: 169, TDs: 2, INTs: 0, Sacks: 1, Rush Carries: 3, Rush Yards: 5, Rush TDs: 0, Fumbles: 1, Fantasy Points: 15.3', 'Week: 4, Position: Quarterback, Player: Joe Flacco, Team: IND, Dropbacks: 29, Attempts: 26, Completions: 16, Yards: 168, TDs: 2, INTs: 0, Sacks: 2, Rush Carries: 2, Rush Yards: 3, Rush TDs: 0, Fumbles: 0, Fantasy Points: 15.0', 'Week: 4, Position: Quarterback, Player: Patrick Mahomes, Team: KC, Dropbacks: 34, Attempts: 29, Completions: 19, Yards: 245, TDs: 1, INTs: 1, Sacks: 3, Rush Carries: 5, Rush Yards: 12, Rush TDs: 0, Fumbles: 0, Fantasy Points: 14.0', 'Week: 4, Position: Quarterback, Player: Tyler Huntley, Team: MIA, Dropbacks: 28, Attempts: 22, Completions: 14, Yards: 96, TDs: 0, INTs: 0, Sacks: 2, Rush Carries: 8, Rush Yards: 40, Rush TDs: 1, Fumbles: 1, Fantasy Points: 13.8', 'Week: 4, Position: Quarterback, Player: Deshaun Watson, Team: CLV, Dropbacks: 42, Attempts: 32, Completions: 24, Yards: 176, TDs: 1, INTs: 1, Sacks: 3, Rush Carries: 8, Rush Yards: 32, Rush TDs: 0, Fumbles: 1, Fantasy Points: 13.2', 'Week: 4, Position: Quarterback, Player: Aaron Rodgers, Team: NYJ, Dropbacks: 51, Attempts: 42, Completions: 24, Yards: 225, TDs: 0, INTs: 0, Sacks: 5, Rush Carries: 5, Rush Yards: 26, Rush TDs: 0, Fumbles: 0, Fantasy Points: 11.6', 'Week: 4, Position: Quarterback, Player: Caleb Williams, Team: CHI, Dropbacks: 26, Attempts: 23, Completions: 17, Yards: 157, TDs: 1, INTs: 0, Sacks: 3, Rush Carries: 5, Rush Yards: 12, Rush TDs: 0, Fumbles: 1, Fantasy Points: 11.5', 'Week: 4, Position: Quarterback, Player: Justin Herbert, Team: LAC, Dropbacks: 29, Attempts: 27, Completions: 16, Yards: 179, TDs: 1, INTs: 0, Sacks: 2, Rush Carries: 3, Rush Yards: 0, Rush TDs: 0, Fumbles: 1, Fantasy Points: 11.2', 'Week: 4, Position: Quarterback, Player: Daniel Jones, Team: NYG, Dropbacks: 41, Attempts: 40, Completions: 29, Yards: 281, TDs: 0, INTs: 1, Sacks: 1, Rush Carries: 4, Rush Yards: 3, Rush TDs: 0, Fumbles: 0, Fantasy Points: 10.5', 'Week: 4, Position: Quarterback, Player: Kyler Murray, Team: ARZ, Dropbacks: 28, Attempts: 22, Completions: 16, Yards: 142, TDs: 1, INTs: 0, Sacks: 4, Rush Carries: 1, Rush Yards: 3, Rush TDs: 0, Fumbles: 0, Fantasy Points: 10.0', 'Week: 4, Position: Quarterback, Player: Jacoby Brissett, Team: NE, Dropbacks: 39, Attempts: 32, Completions: 19, Yards: 168, TDs: 1, INTs: 1, Sacks: 6, Rush Carries: 2, Rush Yards: 3, Rush TDs: 0, Fumbles: 3, Fantasy Points: 10.0', 'Week: 4, Position: Quarterback, Player: Josh Allen, Team: BUF, Dropbacks: 35, Attempts: 29, Completions: 16, Yards: 180, TDs: 0, INTs: 0, Sacks: 3, Rush Carries: 5, Rush Yards: 21, Rush TDs: 0, Fumbles: 1, Fantasy Points: 9.3', 'Week: 4, Position: Quarterback, Player: Derek Carr, Team: NO, Dropbacks: 39, Attempts: 36, Completions: 28, Yards: 239, TDs: 0, INTs: 1, Sacks: 1, Rush Carries: 3, Rush Yards: 5, Rush TDs: 0, Fumbles: 0, Fantasy Points: 9.1', 'Week: 4, Position: Quarterback, Player: Kirk Cousins, Team: ATL, Dropbacks: 36, Attempts: 35, Completions: 21, Yards: 238, TDs: 0, INTs: 1, Sacks: 1, Rush Carries: 0, Rush Yards: 0, Rush TDs: 0, Fumbles: 1, Fantasy Points: 8.5', 'Week: 4, Position: Quarterback, Player: Matthew Stafford, Team: LA, Dropbacks: 32, Attempts: 29, Completions: 20, Yards: 224, TDs: 0, INTs: 1, Sacks: 3, Rush Carries: 1, Rush Yards: -1, Rush TDs: 0, Fumbles: 1, Fantasy Points: 7.9', 'Week: 4, Position: Quarterback, Player: Bo Nix, Team: DEN, Dropbacks: 26, Attempts: 25, Completions: 12, Yards: 60, TDs: 1, INTs: 0, Sacks: 0, Rush Carries: 5, Rush Yards: 3, Rush TDs: 0, Fumbles: 0, Fantasy Points: 6.7', 'Week: 4, Position: Quarterback, Player: Anthony Richardson, Team: IND, Dropbacks: 4, Attempts: 4, Completions: 3, Yards: 71, TDs: 0, INTs: 0, Sacks: 0, Rush Carries: 3, Rush Yards: 24, Rush TDs: 0, Fumbles: 1, Fantasy Points: 5.2', 'Week: 4, Position: Quarterback, Player: Gardner Minshew, Team: LV, Dropbacks: 26, Attempts: 24, Completions: 14, Yards: 130, TDs: 0, INTs: 0, Sacks: 2, Rush Carries: 2, Rush Yards: -2, Rush TDs: 0, Fumbles: 0, Fantasy Points: 5.0', 'Week: 4, Position: Quarterback, Player: Mason Rudolph, Team: TEN, Dropbacks: 18, Attempts: 17, Completions: 9, Yards: 85, TDs: 0, INTs: 0, Sacks: 1, Rush Carries: 0, Rush Yards: 0, Rush TDs: 0, Fumbles: 0, Fantasy Points: 3.4', 'Week: 4, Position: Quarterback, Player: Will Levis, Team: TEN, Dropbacks: 5, Attempts: 4, Completions: 3, Yards: 25, TDs: 0, INTs: 1, Sacks: 0, Rush Carries: 2, Rush Yards: 5, Rush TDs: 0, Fumbles: 0, Fantasy Points: 0.5', 'Week: 4, Position: Quarterback, Player: Mitch Trubisky, Team: BUF, Dropbacks: 2, Attempts: 2, Completions: 1, Yards: 2, TDs: 0, INTs: 0, Sacks: 0, Rush Carries: 0, Rush Yards: 0, Rush TDs: 0, Fumbles: 0, Fantasy Points: 0.1', 'Week: 4, Position: Quarterback, Player: Josh Johnson, Team: BLT, Dropbacks: 1, Attempts: 1, Completions: 1, Yards: 1, TDs: 0, INTs: 0, Sacks: 0, Rush Carries: 0, Rush Yards: 0, Rush TDs: 0, Fumbles: 0, Fantasy Points: 0.0', 'Week: 5, Position: Quarterback, Player: Lamar Jackson, Team: BLT, Dropbacks: 47, Attempts: 42, Completions: 26, Yards: 348, TDs: 4, INTs: 0, Sacks: 1, Rush Carries: 12, Rush Yards: 55, Rush TDs: 0, Fumbles: 2, Fantasy Points: 35.4', 'Week: 5, Position: Quarterback, Player: Kirk Cousins, Team: ATL, Dropbacks: 63, Attempts: 58, Completions: 42, Yards: 509, TDs: 4, INTs: 1, Sacks: 4, Rush Carries: 0, Rush Yards: 0, Rush TDs: 0, Fumbles: 0, Fantasy Points: 35.4', 'Week: 5, Position: Quarterback, Player: Joe Burrow, Team: CIN, Dropbacks: 43, Attempts: 39, Completions: 30, Yards: 392, TDs: 5, INTs: 1, Sacks: 3, Rush Carries: 2, Rush Yards: 1, Rush TDs: 0, Fumbles: 0, Fantasy Points: 34.8', 'Week: 5, Position: Quarterback, Player: Joe Flacco, Team: IND, Dropbacks: 49, Attempts: 44, Completions: 33, Yards: 359, TDs: 3, INTs: 0, Sacks: 4, Rush Carries: 3, Rush Yards: 22, Rush TDs: 0, Fumbles: 1, Fantasy Points: 28.6', 'Week: 5, Position: Quarterback, Player: Kyler Murray, Team: ARZ, Dropbacks: 32, Attempts: 30, Completions: 19, Yards: 195, TDs: 1, INTs: 1, Sacks: 1, Rush Carries: 7, Rush Yards: 83, Rush TDs: 1, Fumbles: 1, Fantasy Points: 25.1', 'Week: 5, Position: Quarterback, Player: Caleb Williams, Team: CHI, Dropbacks: 35, Attempts: 29, Completions: 20, Yards: 304, TDs: 2, INTs: 0, Sacks: 1, Rush Carries: 5, Rush Yards: 34, Rush TDs: 0, Fumbles: 0, Fantasy Points: 23.6', 'Week: 5, Position: Quarterback, Player: Baker Mayfield, Team: TB, Dropbacks: 30, Attempts: 24, Completions: 19, Yards: 180, TDs: 3, INTs: 0, Sacks: 1, Rush Carries: 6, Rush Yards: 42, Rush TDs: 0, Fumbles: 0, Fantasy Points: 23.4', 'Week: 5, Position: Quarterback, Player: Bo Nix, Team: DEN, Dropbacks: 32, Attempts: 27, Completions: 19, Yards: 206, TDs: 2, INTs: 0, Sacks: 3, Rush Carries: 8, Rush Yards: 9, Rush TDs: 1, Fumbles: 0, Fantasy Points: 23.1', 'Week: 5, Position: Quarterback, Player: Geno Smith, Team: SEA, Dropbacks: 51, Attempts: 40, Completions: 28, Yards: 284, TDs: 1, INTs: 0, Sacks: 7, Rush Carries: 4, Rush Yards: 72, Rush TDs: 0, Fumbles: 0, Fantasy Points: 22.6', 'Week: 5, Position: Quarterback, Player: Trevor Lawrence, Team: JAX, Dropbacks: 34, Attempts: 34, Completions: 28, Yards: 371, TDs: 2, INTs: 1, Sacks: 0, Rush Carries: 2, Rush Yards: 4, Rush TDs: 0, Fumbles: 0, Fantasy Points: 22.2', 'Week: 5, Position: Quarterback, Player: Daniel Jones, Team: NYG, Dropbacks: 40, Attempts: 34, Completions: 23, Yards: 257, TDs: 2, INTs: 0, Sacks: 3, Rush Carries: 11, Rush Yards: 38, Rush TDs: 0, Fumbles: 1, Fantasy Points: 22.1', 'Week: 5, Position: Quarterback, Player: Jayden Daniels, Team: WAS, Dropbacks: 33, Attempts: 25, Completions: 14, Yards: 238, TDs: 1, INTs: 1, Sacks: 3, Rush Carries: 11, Rush Yards: 82, Rush TDs: 0, Fumbles: 0, Fantasy Points: 20.7', 'Week: 5, Position: Quarterback, Player: Dak Prescott, Team: DAL, Dropbacks: 45, Attempts: 42, Completions: 29, Yards: 352, TDs: 2, INTs: 2, Sacks: 2, Rush Carries: 1, Rush Yards: 3, Rush TDs: 0, Fumbles: 1, Fantasy Points: 20.4', 'Week: 5, Position: Quarterback, Player: C.J. Stroud, Team: HST, Dropbacks: 42, Attempts: 38, Completions: 28, Yards: 331, TDs: 1, INTs: 1, Sacks: 1, Rush Carries: 3, Rush Yards: 27, Rush TDs: 0, Fumbles: 1, Fantasy Points: 18.9', 'Week: 5, Position: Quarterback, Player: Jordan Love, Team: GB, Dropbacks: 29, Attempts: 26, Completions: 15, Yards: 224, TDs: 2, INTs: 1, Sacks: 2, Rush Carries: 3, Rush Yards: 10, Rush TDs: 0, Fumbles: 1, Fantasy Points: 17.0', 'Week: 5, Position: Quarterback, Player: Justin Fields, Team: PIT, Dropbacks: 30, Attempts: 27, Completions: 15, Yards: 131, TDs: 2, INTs: 0, Sacks: 3, Rush Carries: 6, Rush Yards: 27, Rush TDs: 0, Fumbles: 1, Fantasy Points: 15.9', 'Week: 5, Position: Quarterback, Player: Brock Purdy, Team: SF, Dropbacks: 41, Attempts: 35, Completions: 19, Yards: 244, TDs: 1, INTs: 2, Sacks: 2, Rush Carries: 4, Rush Yards: 33, Rush TDs: 0, Fumbles: 0, Fantasy Points: 15.1', 'Week: 5, Position: Quarterback, Player: Aaron Rodgers, Team: NYJ, Dropbacks: 57, Attempts: 54, Completions: 29, Yards: 244, TDs: 2, INTs: 3, Sacks: 3, Rush Carries: 0, Rush Yards: 0, Rush TDs: 0, Fumbles: 1, Fantasy Points: 14.8', 'Week: 5, Position: Quarterback, Player: Josh Allen, Team: BUF, Dropbacks: 36, Attempts: 30, Completions: 9, Yards: 131, TDs: 1, INTs: 0, Sacks: 1, Rush Carries: 4, Rush Yards: 54, Rush TDs: 0, Fumbles: 0, Fantasy Points: 14.6', 'Week: 5, Position: Quarterback, Player: Patrick Mahomes, Team: KC, Dropbacks: 44, Attempts: 39, Completions: 28, Yards: 331, TDs: 0, INTs: 1, Sacks: 2, Rush Carries: 6, Rush Yards: 22, Rush TDs: 0, Fumbles: 0, Fantasy Points: 14.4', 'Week: 5, Position: Quarterback, Player: Derek Carr, Team: NO, Dropbacks: 29, Attempts: 28, Completions: 18, Yards: 165, TDs: 2, INTs: 1, Sacks: 1, Rush Carries: 0, Rush Yards: 0, Rush TDs: 0, Fumbles: 0, Fantasy Points: 13.6', 'Week: 5, Position: Quarterback, Player: Matthew Stafford, Team: LA, Dropbacks: 48, Attempts: 45, Completions: 29, Yards: 260, TDs: 1, INTs: 1, Sacks: 3, Rush Carries: 0, Rush Yards: 0, Rush TDs: 0, Fumbles: 0, Fantasy Points: 13.4', 'Week: 5, Position: Quarterback, Player: Deshaun Watson, Team: CLV, Dropbacks: 38, Attempts: 28, Completions: 15, Yards: 125, TDs: 1, INTs: 0, Sacks: 7, Rush Carries: 3, Rush Yards: 14, Rush TDs: 0, Fumbles: 1, Fantasy Points: 10.4', 'Week: 5, Position: Quarterback, Player: Gardner Minshew, Team: LV, Dropbacks: 21, Attempts: 17, Completions: 12, Yards: 137, TDs: 1, INTs: 2, Sacks: 2, Rush Carries: 2, Rush Yards: 22, Rush TDs: 0, Fumbles: 0, Fantasy Points: 9.7', 'Week: 5, Position: Quarterback, Player: Tyler Huntley, Team: MIA, Dropbacks: 36, Attempts: 31, Completions: 18, Yards: 194, TDs: 0, INTs: 1, Sacks: 3, Rush Carries: 3, Rush Yards: 7, Rush TDs: 0, Fumbles: 0, Fantasy Points: 7.5', 'Week: 5, Position: Quarterback, Player: Jacoby Brissett, Team: NE, Dropbacks: 37, Attempts: 34, Completions: 18, Yards: 160, TDs: 0, INTs: 0, Sacks: 2, Rush Carries: 1, Rush Yards: 10, Rush TDs: 0, Fumbles: 0, Fantasy Points: 7.4', 'Week: 5, Position: Quarterback, Player: Sam Darnold, Team: MIN, Dropbacks: 36, Attempts: 31, Completions: 14, Yards: 179, TDs: 0, INTs: 1, Sacks: 4, Rush Carries: 5, Rush Yards: 11, Rush TDs: 0, Fumbles: 1, Fantasy Points: 7.3', 'Week: 5, Position: Quarterback, Player: Andy Dalton, Team: CAR, Dropbacks: 33, Attempts: 28, Completions: 18, Yards: 136, TDs: 0, INTs: 1, Sacks: 3, Rush Carries: 1, Rush Yards: 3, Rush TDs: 0, Fumbles: 2, Fantasy Points: 4.7', 'Week: 5, Position: Quarterback, Player: Bryce Young, Team: CAR, Dropbacks: 9, Attempts: 7, Completions: 4, Yards: 58, TDs: 0, INTs: 0, Sacks: 1, Rush Carries: 1, Rush Yards: 8, Rush TDs: 0, Fumbles: 0, Fantasy Points: 3.1', \"Week: 5, Position: Quarterback, Player: Aidan O'Connell, Team: LV, Dropbacks: 21, Attempts: 20, Completions: 10, Yards: 94, TDs: 0, INTs: 1, Sacks: 1, Rush Carries: 0, Rush Yards: 0, Rush TDs: 0, Fumbles: 0, Fantasy Points: 2.8\", 'Week: 5, Position: Quarterback, Player: Jake Haener, Team: NO, Dropbacks: 9, Attempts: 7, Completions: 2, Yards: 17, TDs: 0, INTs: 0, Sacks: 0, Rush Carries: 2, Rush Yards: 11, Rush TDs: 0, Fumbles: 0, Fantasy Points: 1.8', 'Week: 5, Position: Quarterback, Player: Nick Mullens, Team: MIN, Dropbacks: 1, Attempts: 1, Completions: 1, Yards: 24, TDs: 0, INTs: 0, Sacks: 0, Rush Carries: 0, Rush Yards: 0, Rush TDs: 0, Fumbles: 0, Fantasy Points: 1.0', 'Week: 5, Position: Quarterback, Player: Kyle Allen, Team: PIT, Dropbacks: 1, Attempts: 1, Completions: 1, Yards: 19, TDs: 0, INTs: 0, Sacks: 0, Rush Carries: 0, Rush Yards: 0, Rush TDs: 0, Fumbles: 0, Fantasy Points: 0.8', 'Week: 5, Position: Quarterback, Player: Jameis Winston, Team: CLV, Dropbacks: 1, Attempts: 1, Completions: 1, Yards: 16, TDs: 0, INTs: 0, Sacks: 0, Rush Carries: 1, Rush Yards: -3, Rush TDs: 0, Fumbles: 0, Fantasy Points: 0.3', 'Week: 5, Position: Quarterback, Player: Marcus Mariota, Team: WAS, Dropbacks: 3, Attempts: 3, Completions: 1, Yards: -2, TDs: 0, INTs: 0, Sacks: 0, Rush Carries: 2, Rush Yards: 2, Rush TDs: 0, Fumbles: 0, Fantasy Points: 0.1', 'Week: 5, Position: Quarterback, Player: Mitch Trubisky, Team: BUF, Dropbacks: 0, Attempts: 0, Completions: 0, Yards: 0, TDs: 0, INTs: 0, Sacks: 0, Rush Carries: 0, Rush Yards: 0, Rush TDs: 0, Fumbles: 0, Fantasy Points: 0.0', 'Week: 5, Position: Quarterback, Player: Tyson Bagent, Team: CHI, Dropbacks: 0, Attempts: 0, Completions: 0, Yards: 0, TDs: 0, INTs: 0, Sacks: 0, Rush Carries: 3, Rush Yards: -4, Rush TDs: 0, Fumbles: 0, Fantasy Points: -0.4', 'Week: 6, Position: Quarterback, Player: Caleb Williams, Team: CHI, Dropbacks: 34, Attempts: 29, Completions: 23, Yards: 226, TDs: 4, INTs: 1, Sacks: 3, Rush Carries: 4, Rush Yards: 56, Rush TDs: 0, Fumbles: 0, Fantasy Points: 29.6', 'Week: 6, Position: Quarterback, Player: Baker Mayfield, Team: TB, Dropbacks: 41, Attempts: 36, Completions: 24, Yards: 325, TDs: 4, INTs: 3, Sacks: 1, Rush Carries: 3, Rush Yards: 29, Rush TDs: 0, Fumbles: 0, Fantasy Points: 28.9', 'Week: 6, Position: Quarterback, Player: Jordan Love, Team: GB, Dropbacks: 36, Attempts: 32, Completions: 22, Yards: 258, TDs: 4, INTs: 1, Sacks: 0, Rush Carries: 5, Rush Yards: 13, Rush TDs: 0, Fumbles: 0, Fantasy Points: 26.6', 'Week: 6, Position: Quarterback, Player: Jared Goff, Team: DET, Dropbacks: 29, Attempts: 25, Completions: 18, Yards: 315, TDs: 3, INTs: 0, Sacks: 2, Rush Carries: 3, Rush Yards: 5, Rush TDs: 0, Fumbles: 0, Fantasy Points: 25.1', 'Week: 6, Position: Quarterback, Player: Josh Allen, Team: BUF, Dropbacks: 30, Attempts: 25, Completions: 19, Yards: 215, TDs: 2, INTs: 0, Sacks: 2, Rush Carries: 9, Rush Yards: 18, Rush TDs: 1, Fumbles: 1, Fantasy Points: 24.4', 'Week: 6, Position: Quarterback, Player: Brock Purdy, Team: SF, Dropbacks: 31, Attempts: 28, Completions: 18, Yards: 255, TDs: 3, INTs: 0, Sacks: 0, Rush Carries: 4, Rush Yards: 19, Rush TDs: 0, Fumbles: 0, Fantasy Points: 24.1', 'Week: 6, Position: Quarterback, Player: Justin Fields, Team: PIT, Dropbacks: 33, Attempts: 24, Completions: 14, Yards: 145, TDs: 0, INTs: 0, Sacks: 3, Rush Carries: 11, Rush Yards: 59, Rush TDs: 2, Fumbles: 1, Fantasy Points: 23.7', 'Week: 6, Position: Quarterback, Player: Drake Maye, Team: NE, Dropbacks: 42, Attempts: 33, Completions: 20, Yards: 243, TDs: 3, INTs: 2, Sacks: 4, Rush Carries: 5, Rush Yards: 38, Rush TDs: 0, Fumbles: 1, Fantasy Points: 23.5', 'Week: 6, Position: Quarterback, Player: Jalen Hurts, Team: PHI, Dropbacks: 27, Attempts: 25, Completions: 16, Yards: 264, TDs: 2, INTs: 0, Sacks: 1, Rush Carries: 14, Rush Yards: 33, Rush TDs: 0, Fumbles: 1, Fantasy Points: 21.9', 'Week: 6, Position: Quarterback, Player: Bo Nix, Team: DEN, Dropbacks: 41, Attempts: 33, Completions: 19, Yards: 216, TDs: 2, INTs: 1, Sacks: 2, Rush Carries: 6, Rush Yards: 61, Rush TDs: 0, Fumbles: 0, Fantasy Points: 21.7', 'Week: 6, Position: Quarterback, Player: Jayden Daniels, Team: WAS, Dropbacks: 43, Attempts: 35, Completions: 24, Yards: 269, TDs: 2, INTs: 0, Sacks: 3, Rush Carries: 6, Rush Yards: 22, Rush TDs: 0, Fumbles: 0, Fantasy Points: 21.0', 'Week: 6, Position: Quarterback, Player: Lamar Jackson, Team: BLT, Dropbacks: 30, Attempts: 26, Completions: 20, Yards: 323, TDs: 1, INTs: 1, Sacks: 2, Rush Carries: 11, Rush Yards: 40, Rush TDs: 0, Fumbles: 0, Fantasy Points: 19.9', 'Week: 6, Position: Quarterback, Player: Joe Burrow, Team: CIN, Dropbacks: 35, Attempts: 28, Completions: 19, Yards: 208, TDs: 0, INTs: 0, Sacks: 4, Rush Carries: 4, Rush Yards: 55, Rush TDs: 1, Fumbles: 0, Fantasy Points: 19.8', 'Week: 6, Position: Quarterback, Player: C.J. Stroud, Team: HST, Dropbacks: 34, Attempts: 31, Completions: 20, Yards: 192, TDs: 3, INTs: 1, Sacks: 2, Rush Carries: 3, Rush Yards: 7, Rush TDs: 0, Fumbles: 1, Fantasy Points: 19.4', 'Week: 6, Position: Quarterback, Player: Aaron Rodgers, Team: NYJ, Dropbacks: 38, Attempts: 35, Completions: 23, Yards: 294, TDs: 2, INTs: 1, Sacks: 3, Rush Carries: 0, Rush Yards: 0, Rush TDs: 0, Fumbles: 1, Fantasy Points: 18.8', 'Week: 6, Position: Quarterback, Player: Trevor Lawrence, Team: JAX, Dropbacks: 41, Attempts: 35, Completions: 23, Yards: 234, TDs: 2, INTs: 1, Sacks: 3, Rush Carries: 4, Rush Yards: 17, Rush TDs: 0, Fumbles: 0, Fantasy Points: 18.1', 'Week: 6, Position: Quarterback, Player: Andy Dalton, Team: CAR, Dropbacks: 40, Attempts: 38, Completions: 26, Yards: 221, TDs: 2, INTs: 2, Sacks: 0, Rush Carries: 3, Rush Yards: 21, Rush TDs: 0, Fumbles: 0, Fantasy Points: 16.9', 'Week: 6, Position: Quarterback, Player: Joe Flacco, Team: IND, Dropbacks: 40, Attempts: 38, Completions: 22, Yards: 189, TDs: 2, INTs: 1, Sacks: 0, Rush Carries: 1, Rush Yards: 1, Rush TDs: 0, Fumbles: 0, Fantasy Points: 14.7', 'Week: 6, Position: Quarterback, Player: Geno Smith, Team: SEA, Dropbacks: 53, Attempts: 52, Completions: 30, Yards: 312, TDs: 1, INTs: 2, Sacks: 1, Rush Carries: 1, Rush Yards: 0, Rush TDs: 0, Fumbles: 0, Fantasy Points: 14.5', 'Week: 6, Position: Quarterback, Player: Spencer Rattler, Team: NO, Dropbacks: 48, Attempts: 40, Completions: 22, Yards: 243, TDs: 1, INTs: 2, Sacks: 5, Rush Carries: 4, Rush Yards: 27, Rush TDs: 0, Fumbles: 1, Fantasy Points: 14.4', 'Week: 6, Position: Quarterback, Player: Kyler Murray, Team: ARZ, Dropbacks: 36, Attempts: 32, Completions: 22, Yards: 214, TDs: 1, INTs: 0, Sacks: 0, Rush Carries: 7, Rush Yards: 14, Rush TDs: 0, Fumbles: 1, Fantasy Points: 14.0', 'Week: 6, Position: Quarterback, Player: Justin Herbert, Team: LAC, Dropbacks: 38, Attempts: 34, Completions: 21, Yards: 237, TDs: 1, INTs: 0, Sacks: 3, Rush Carries: 4, Rush Yards: 2, Rush TDs: 0, Fumbles: 1, Fantasy Points: 13.7', 'Week: 6, Position: Quarterback, Player: Daniel Jones, Team: NYG, Dropbacks: 45, Attempts: 41, Completions: 22, Yards: 205, TDs: 0, INTs: 1, Sacks: 2, Rush Carries: 11, Rush Yards: 56, Rush TDs: 0, Fumbles: 0, Fantasy Points: 12.8', 'Week: 6, Position: Quarterback, Player: Kirk Cousins, Team: ATL, Dropbacks: 30, Attempts: 30, Completions: 19, Yards: 225, TDs: 1, INTs: 0, Sacks: 0, Rush Carries: 4, Rush Yards: -5, Rush TDs: 0, Fumbles: 0, Fantasy Points: 12.5', \"Week: 6, Position: Quarterback, Player: Aidan O'Connell, Team: LV, Dropbacks: 41, Attempts: 40, Completions: 27, Yards: 227, TDs: 1, INTs: 1, Sacks: 1, Rush Carries: 0, Rush Yards: 0, Rush TDs: 0, Fumbles: 0, Fantasy Points: 12.1\", 'Week: 6, Position: Quarterback, Player: Deshaun Watson, Team: CLV, Dropbacks: 30, Attempts: 23, Completions: 16, Yards: 168, TDs: 0, INTs: 0, Sacks: 5, Rush Carries: 4, Rush Yards: 17, Rush TDs: 0, Fumbles: 0, Fantasy Points: 8.4', 'Week: 6, Position: Quarterback, Player: Will Levis, Team: TEN, Dropbacks: 30, Attempts: 27, Completions: 16, Yards: 95, TDs: 1, INTs: 1, Sacks: 0, Rush Carries: 3, Rush Yards: 15, Rush TDs: 0, Fumbles: 0, Fantasy Points: 8.3', 'Week: 6, Position: Quarterback, Player: Dak Prescott, Team: DAL, Dropbacks: 38, Attempts: 33, Completions: 17, Yards: 178, TDs: 0, INTs: 2, Sacks: 4, Rush Carries: 1, Rush Yards: 1, Rush TDs: 0, Fumbles: 0, Fantasy Points: 5.2', 'Week: 6, Position: Quarterback, Player: Cooper Rush, Team: DAL, Dropbacks: 11, Attempts: 11, Completions: 8, Yards: 46, TDs: 0, INTs: 1, Sacks: 0, Rush Carries: 1, Rush Yards: 2, Rush TDs: 0, Fumbles: 0, Fantasy Points: 1.0', 'Week: 6, Position: Quarterback, Player: Hendon Hooker, Team: DET, Dropbacks: 3, Attempts: 2, Completions: 1, Yards: 19, TDs: 0, INTs: 0, Sacks: 1, Rush Carries: 1, Rush Yards: -1, Rush TDs: 0, Fumbles: 0, Fantasy Points: 0.7', 'Week: 6, Position: Quarterback, Player: Mac Jones, Team: JAX, Dropbacks: 2, Attempts: 1, Completions: 1, Yards: 6, TDs: 0, INTs: 0, Sacks: 1, Rush Carries: 0, Rush Yards: 0, Rush TDs: 0, Fumbles: 0, Fantasy Points: 0.2', 'Week: 6, Position: Quarterback, Player: Davis Mills, Team: HST, Dropbacks: 1, Attempts: 1, Completions: 0, Yards: 0, TDs: 0, INTs: 0, Sacks: 0, Rush Carries: 0, Rush Yards: 0, Rush TDs: 0, Fumbles: 0, Fantasy Points: 0.0', 'Week: 6, Position: Quarterback, Player: Jameis Winston, Team: CLV, Dropbacks: 0, Attempts: 0, Completions: 0, Yards: 0, TDs: 0, INTs: 0, Sacks: 0, Rush Carries: 0, Rush Yards: 0, Rush TDs: 0, Fumbles: 0, Fantasy Points: 0.0', 'Week: 6, Position: Quarterback, Player: Tyson Bagent, Team: CHI, Dropbacks: 0, Attempts: 0, Completions: 0, Yards: 0, TDs: 0, INTs: 0, Sacks: 0, Rush Carries: 3, Rush Yards: -3, Rush TDs: 0, Fumbles: 0, Fantasy Points: -0.3', 'Week: 7, Position: Quarterback, Player: Lamar Jackson, Team: BLT, Dropbacks: 28, Attempts: 22, Completions: 17, Yards: 281, TDs: 5, INTs: 0, Sacks: 2, Rush Carries: 9, Rush Yards: 52, Rush TDs: 0, Fumbles: 1, Fantasy Points: 36.4', 'Week: 7, Position: Quarterback, Player: Baker Mayfield, Team: TB, Dropbacks: 52, Attempts: 45, Completions: 31, Yards: 370, TDs: 3, INTs: 2, Sacks: 3, Rush Carries: 5, Rush Yards: 22, Rush TDs: 0, Fumbles: 0, Fantasy Points: 27.0', 'Week: 7, Position: Quarterback, Player: Russell Wilson, Team: PIT, Dropbacks: 31, Attempts: 29, Completions: 16, Yards: 264, TDs: 2, INTs: 0, Sacks: 1, Rush Carries: 3, Rush Yards: 3, Rush TDs: 1, Fumbles: 0, Fantasy Points: 24.9', 'Week: 7, Position: Quarterback, Player: Jalen Hurts, Team: PHI, Dropbacks: 21, Attempts: 14, Completions: 10, Yards: 114, TDs: 1, INTs: 0, Sacks: 4, Rush Carries: 7, Rush Yards: 22, Rush TDs: 2, Fumbles: 0, Fantasy Points: 22.8', 'Week: 7, Position: Quarterback, Player: Kyler Murray, Team: ARZ, Dropbacks: 30, Attempts: 26, Completions: 14, Yards: 145, TDs: 1, INTs: 1, Sacks: 0, Rush Carries: 6, Rush Yards: 64, Rush TDs: 1, Fumbles: 0, Fantasy Points: 21.2', 'Week: 7, Position: Quarterback, Player: Josh Allen, Team: BUF, Dropbacks: 35, Attempts: 33, Completions: 21, Yards: 323, TDs: 2, INTs: 0, Sacks: 1, Rush Carries: 3, Rush Yards: 1, Rush TDs: 0, Fumbles: 0, Fantasy Points: 21.0', 'Week: 7, Position: Quarterback, Player: Drake Maye, Team: NE, Dropbacks: 42, Attempts: 37, Completions: 26, Yards: 276, TDs: 2, INTs: 0, Sacks: 2, Rush Carries: 3, Rush Yards: 18, Rush TDs: 0, Fumbles: 0, Fantasy Points: 20.8', 'Week: 7, Position: Quarterback, Player: Brock Purdy, Team: SF, Dropbacks: 37, Attempts: 31, Completions: 17, Yards: 212, TDs: 0, INTs: 3, Sacks: 1, Rush Carries: 8, Rush Yards: 27, Rush TDs: 2, Fumbles: 0, Fantasy Points: 20.2', 'Week: 7, Position: Quarterback, Player: Marcus Mariota, Team: WAS, Dropbacks: 26, Attempts: 23, Completions: 18, Yards: 205, TDs: 2, INTs: 0, Sacks: 1, Rush Carries: 11, Rush Yards: 34, Rush TDs: 0, Fumbles: 1, Fantasy Points: 19.6', 'Week: 7, Position: Quarterback, Player: Jordan Love, Team: GB, Dropbacks: 37, Attempts: 33, Completions: 24, Yards: 220, TDs: 3, INTs: 2, Sacks: 3, Rush Carries: 0, Rush Yards: 0, Rush TDs: 0, Fumbles: 0, Fantasy Points: 18.8', 'Week: 7, Position: Quarterback, Player: Jared Goff, Team: DET, Dropbacks: 29, Attempts: 25, Completions: 22, Yards: 280, TDs: 2, INTs: 0, Sacks: 4, Rush Carries: 2, Rush Yards: -4, Rush TDs: 0, Fumbles: 2, Fantasy Points: 18.8', 'Week: 7, Position: Quarterback, Player: Geno Smith, Team: SEA, Dropbacks: 32, Attempts: 28, Completions: 18, Yards: 207, TDs: 2, INTs: 0, Sacks: 1, Rush Carries: 4, Rush Yards: 15, Rush TDs: 0, Fumbles: 1, Fantasy Points: 17.8', 'Week: 7, Position: Quarterback, Player: Sam Darnold, Team: MIN, Dropbacks: 35, Attempts: 27, Completions: 22, Yards: 259, TDs: 1, INTs: 1, Sacks: 4, Rush Carries: 4, Rush Yards: 39, Rush TDs: 0, Fumbles: 0, Fantasy Points: 17.3', 'Week: 7, Position: Quarterback, Player: Joe Burrow, Team: CIN, Dropbacks: 28, Attempts: 25, Completions: 15, Yards: 181, TDs: 2, INTs: 0, Sacks: 3, Rush Carries: 3, Rush Yards: -3, Rush TDs: 0, Fumbles: 0, Fantasy Points: 14.9', 'Week: 7, Position: Quarterback, Player: Justin Herbert, Team: LAC, Dropbacks: 44, Attempts: 39, Completions: 27, Yards: 349, TDs: 0, INTs: 0, Sacks: 3, Rush Carries: 2, Rush Yards: 8, Rush TDs: 0, Fumbles: 0, Fantasy Points: 14.8', 'Week: 7, Position: Quarterback, Player: Bo Nix, Team: DEN, Dropbacks: 33, Attempts: 26, Completions: 16, Yards: 164, TDs: 0, INTs: 0, Sacks: 0, Rush Carries: 10, Rush Yards: 75, Rush TDs: 0, Fumbles: 0, Fantasy Points: 14.1', 'Week: 7, Position: Quarterback, Player: Patrick Mahomes, Team: KC, Dropbacks: 32, Attempts: 27, Completions: 16, Yards: 154, TDs: 0, INTs: 2, Sacks: 2, Rush Carries: 5, Rush Yards: 39, Rush TDs: 1, Fumbles: 0, Fantasy Points: 14.1', 'Week: 7, Position: Quarterback, Player: Trevor Lawrence, Team: JAX, Dropbacks: 21, Attempts: 20, Completions: 15, Yards: 193, TDs: 1, INTs: 0, Sacks: 0, Rush Carries: 2, Rush Yards: 13, Rush TDs: 0, Fumbles: 0, Fantasy Points: 13.0', 'Week: 7, Position: Quarterback, Player: Aaron Rodgers, Team: NYJ, Dropbacks: 40, Attempts: 39, Completions: 24, Yards: 276, TDs: 1, INTs: 2, Sacks: 1, Rush Carries: 0, Rush Yards: 0, Rush TDs: 0, Fumbles: 0, Fantasy Points: 13.0', 'Week: 7, Position: Quarterback, Player: Mason Rudolph, Team: TEN, Dropbacks: 44, Attempts: 40, Completions: 25, Yards: 215, TDs: 1, INTs: 1, Sacks: 3, Rush Carries: 5, Rush Yards: 13, Rush TDs: 0, Fumbles: 3, Fantasy Points: 12.9', 'Week: 7, Position: Quarterback, Player: Kirk Cousins, Team: ATL, Dropbacks: 38, Attempts: 35, Completions: 24, Yards: 232, TDs: 1, INTs: 2, Sacks: 3, Rush Carries: 1, Rush Yards: -1, Rush TDs: 0, Fumbles: 1, Fantasy Points: 11.2', 'Week: 7, Position: Quarterback, Player: Anthony Richardson, Team: IND, Dropbacks: 29, Attempts: 24, Completions: 10, Yards: 129, TDs: 0, INTs: 0, Sacks: 0, Rush Carries: 14, Rush Yards: 56, Rush TDs: 0, Fumbles: 1, Fantasy Points: 10.8', 'Week: 7, Position: Quarterback, Player: Spencer Rattler, Team: NO, Dropbacks: 44, Attempts: 35, Completions: 25, Yards: 172, TDs: 0, INTs: 0, Sacks: 6, Rush Carries: 5, Rush Yards: 34, Rush TDs: 0, Fumbles: 2, Fantasy Points: 10.3', 'Week: 7, Position: Quarterback, Player: Tyler Huntley, Team: MIA, Dropbacks: 18, Attempts: 13, Completions: 7, Yards: 87, TDs: 1, INTs: 0, Sacks: 2, Rush Carries: 5, Rush Yards: 20, Rush TDs: 0, Fumbles: 0, Fantasy Points: 9.5', 'Week: 7, Position: Quarterback, Player: Jameis Winston, Team: CLV, Dropbacks: 12, Attempts: 11, Completions: 5, Yards: 67, TDs: 1, INTs: 0, Sacks: 1, Rush Carries: 0, Rush Yards: 0, Rush TDs: 0, Fumbles: 0, Fantasy Points: 6.7', 'Week: 7, Position: Quarterback, Player: Daniel Jones, Team: NYG, Dropbacks: 30, Attempts: 21, Completions: 14, Yards: 99, TDs: 0, INTs: 0, Sacks: 7, Rush Carries: 5, Rush Yards: 20, Rush TDs: 0, Fumbles: 0, Fantasy Points: 6.0', 'Week: 7, Position: Quarterback, Player: Dorian Thompson-Robinson, Team: CLV, Dropbacks: 26, Attempts: 24, Completions: 11, Yards: 82, TDs: 0, INTs: 2, Sacks: 1, Rush Carries: 3, Rush Yards: 44, Rush TDs: 0, Fumbles: 1, Fantasy Points: 5.7', 'Week: 7, Position: Quarterback, Player: Jake Haener, Team: NO, Dropbacks: 4, Attempts: 4, Completions: 3, Yards: 38, TDs: 1, INTs: 0, Sacks: 0, Rush Carries: 0, Rush Yards: 0, Rush TDs: 0, Fumbles: 0, Fantasy Points: 5.5', 'Week: 7, Position: Quarterback, Player: C.J. Stroud, Team: HST, Dropbacks: 29, Attempts: 21, Completions: 10, Yards: 86, TDs: 0, INTs: 0, Sacks: 4, Rush Carries: 5, Rush Yards: 19, Rush TDs: 0, Fumbles: 0, Fantasy Points: 5.3', 'Week: 7, Position: Quarterback, Player: Jayden Daniels, Team: WAS, Dropbacks: 2, Attempts: 2, Completions: 2, Yards: 6, TDs: 0, INTs: 0, Sacks: 0, Rush Carries: 3, Rush Yards: 50, Rush TDs: 0, Fumbles: 0, Fantasy Points: 5.2', 'Week: 7, Position: Quarterback, Player: Deshaun Watson, Team: CLV, Dropbacks: 19, Attempts: 17, Completions: 15, Yards: 128, TDs: 0, INTs: 0, Sacks: 2, Rush Carries: 2, Rush Yards: 0, Rush TDs: 0, Fumbles: 0, Fantasy Points: 5.1', 'Week: 7, Position: Quarterback, Player: Matthew Stafford, Team: LA, Dropbacks: 24, Attempts: 23, Completions: 14, Yards: 154, TDs: 0, INTs: 1, Sacks: 1, Rush Carries: 2, Rush Yards: -2, Rush TDs: 0, Fumbles: 0, Fantasy Points: 5.0', 'Week: 7, Position: Quarterback, Player: Gardner Minshew, Team: LV, Dropbacks: 36, Attempts: 34, Completions: 15, Yards: 154, TDs: 0, INTs: 3, Sacks: 2, Rush Carries: 1, Rush Yards: 2, Rush TDs: 0, Fumbles: 1, Fantasy Points: 3.4', 'Week: 7, Position: Quarterback, Player: Tim Boyle, Team: MIA, Dropbacks: 14, Attempts: 13, Completions: 8, Yards: 74, TDs: 0, INTs: 0, Sacks: 0, Rush Carries: 1, Rush Yards: 4, Rush TDs: 0, Fumbles: 0, Fantasy Points: 3.4', \"Week: 7, Position: Quarterback, Player: Aidan O'Connell, Team: LV, Dropbacks: 10, Attempts: 10, Completions: 6, Yards: 52, TDs: 0, INTs: 0, Sacks: 0, Rush Carries: 0, Rush Yards: 0, Rush TDs: 0, Fumbles: 0, Fantasy Points: 2.1\", 'Week: 7, Position: Quarterback, Player: Andy Dalton, Team: CAR, Dropbacks: 20, Attempts: 16, Completions: 11, Yards: 93, TDs: 0, INTs: 2, Sacks: 2, Rush Carries: 2, Rush Yards: 3, Rush TDs: 0, Fumbles: 0, Fantasy Points: 2.0', 'Week: 7, Position: Quarterback, Player: Drew Lock, Team: NYG, Dropbacks: 10, Attempts: 8, Completions: 3, Yards: 6, TDs: 0, INTs: 0, Sacks: 1, Rush Carries: 1, Rush Yards: 13, Rush TDs: 0, Fumbles: 2, Fantasy Points: 1.5', 'Week: 7, Position: Quarterback, Player: Michael Penix Jr., Team: ATL, Dropbacks: 1, Attempts: 1, Completions: 1, Yards: 14, TDs: 0, INTs: 0, Sacks: 0, Rush Carries: 0, Rush Yards: 0, Rush TDs: 0, Fumbles: 0, Fantasy Points: 0.6', 'Week: 7, Position: Quarterback, Player: Clayton Tune, Team: ARZ, Dropbacks: 0, Attempts: 0, Completions: 0, Yards: 0, TDs: 0, INTs: 0, Sacks: 0, Rush Carries: 3, Rush Yards: 2, Rush TDs: 0, Fumbles: 0, Fantasy Points: 0.2', 'Week: 7, Position: Quarterback, Player: Sam Howell, Team: SEA, Dropbacks: 0, Attempts: 0, Completions: 0, Yards: 0, TDs: 0, INTs: 0, Sacks: 0, Rush Carries: 0, Rush Yards: 0, Rush TDs: 0, Fumbles: 0, Fantasy Points: 0.0', 'Week: 7, Position: Quarterback, Player: Kenny Pickett, Team: PHI, Dropbacks: 2, Attempts: 1, Completions: 0, Yards: 0, TDs: 0, INTs: 0, Sacks: 1, Rush Carries: 0, Rush Yards: 0, Rush TDs: 0, Fumbles: 0, Fantasy Points: 0.0', 'Week: 7, Position: Quarterback, Player: Carson Wentz, Team: KC, Dropbacks: 0, Attempts: 0, Completions: 0, Yards: 0, TDs: 0, INTs: 0, Sacks: 0, Rush Carries: 0, Rush Yards: 0, Rush TDs: 0, Fumbles: 0, Fantasy Points: 0.0', 'Week: 7, Position: Quarterback, Player: Josh Johnson, Team: BLT, Dropbacks: 0, Attempts: 0, Completions: 0, Yards: 0, TDs: 0, INTs: 0, Sacks: 0, Rush Carries: 0, Rush Yards: 0, Rush TDs: 0, Fumbles: 0, Fantasy Points: 0.0', 'Week: 7, Position: Quarterback, Player: Bryce Young, Team: CAR, Dropbacks: 2, Attempts: 2, Completions: 2, Yards: -4, TDs: 0, INTs: 0, Sacks: 0, Rush Carries: 0, Rush Yards: 0, Rush TDs: 0, Fumbles: 0, Fantasy Points: -0.2', 'Week: 7, Position: Quarterback, Player: Jarrett Stidham, Team: DEN, Dropbacks: 0, Attempts: 0, Completions: 0, Yards: 0, TDs: 0, INTs: 0, Sacks: 0, Rush Carries: 2, Rush Yards: -2, Rush TDs: 0, Fumbles: 0, Fantasy Points: -0.2', 'Week: 8, Position: Quarterback, Player: Jalen Hurts, Team: PHI, Dropbacks: 22, Attempts: 20, Completions: 16, Yards: 236, TDs: 1, INTs: 0, Sacks: 0, Rush Carries: 10, Rush Yards: 37, Rush TDs: 3, Fumbles: 0, Fantasy Points: 35.1', 'Week: 8, Position: Quarterback, Player: Bo Nix, Team: DEN, Dropbacks: 40, Attempts: 37, Completions: 28, Yards: 284, TDs: 3, INTs: 0, Sacks: 2, Rush Carries: 5, Rush Yards: 4, Rush TDs: 1, Fumbles: 0, Fantasy Points: 29.8', 'Week: 8, Position: Quarterback, Player: Kirk Cousins, Team: ATL, Dropbacks: 31, Attempts: 29, Completions: 23, Yards: 276, TDs: 4, INTs: 0, Sacks: 1, Rush Carries: 4, Rush Yards: 14, Rush TDs: 0, Fumbles: 1, Fantasy Points: 28.4', 'Week: 8, Position: Quarterback, Player: Trevor Lawrence, Team: JAX, Dropbacks: 35, Attempts: 32, Completions: 21, Yards: 308, TDs: 2, INTs: 1, Sacks: 1, Rush Carries: 4, Rush Yards: 10, Rush TDs: 1, Fumbles: 1, Fantasy Points: 26.3', 'Week: 8, Position: Quarterback, Player: Brock Purdy, Team: SF, Dropbacks: 34, Attempts: 26, Completions: 18, Yards: 260, TDs: 1, INTs: 0, Sacks: 2, Rush Carries: 8, Rush Yards: 56, Rush TDs: 1, Fumbles: 1, Fantasy Points: 26.0', 'Week: 8, Position: Quarterback, Player: Matthew Stafford, Team: LA, Dropbacks: 34, Attempts: 34, Completions: 25, Yards: 279, TDs: 4, INTs: 1, Sacks: 0, Rush Carries: 3, Rush Yards: -4, Rush TDs: 0, Fumbles: 0, Fantasy Points: 25.8', 'Week: 8, Position: Quarterback, Player: Jameis Winston, Team: CLV, Dropbacks: 43, Attempts: 41, Completions: 27, Yards: 334, TDs: 3, INTs: 0, Sacks: 2, Rush Carries: 2, Rush Yards: 2, Rush TDs: 0, Fumbles: 1, Fantasy Points: 25.6', 'Week: 8, Position: Quarterback, Player: Baker Mayfield, Team: TB, Dropbacks: 51, Attempts: 50, Completions: 37, Yards: 330, TDs: 3, INTs: 2, Sacks: 0, Rush Carries: 3, Rush Yards: 11, Rush TDs: 0, Fumbles: 1, Fantasy Points: 24.3', 'Week: 8, Position: Quarterback, Player: Lamar Jackson, Team: BLT, Dropbacks: 43, Attempts: 38, Completions: 23, Yards: 289, TDs: 2, INTs: 0, Sacks: 3, Rush Carries: 8, Rush Yards: 46, Rush TDs: 0, Fumbles: 0, Fantasy Points: 24.2', 'Week: 8, Position: Quarterback, Player: Justin Herbert, Team: LAC, Dropbacks: 38, Attempts: 32, Completions: 20, Yards: 279, TDs: 2, INTs: 0, Sacks: 3, Rush Carries: 4, Rush Yards: 49, Rush TDs: 0, Fumbles: 0, Fantasy Points: 24.1', 'Week: 8, Position: Quarterback, Player: Jayden Daniels, Team: WAS, Dropbacks: 47, Attempts: 38, Completions: 21, Yards: 326, TDs: 1, INTs: 0, Sacks: 2, Rush Carries: 8, Rush Yards: 52, Rush TDs: 0, Fumbles: 0, Fantasy Points: 22.2', 'Week: 8, Position: Quarterback, Player: Kyler Murray, Team: ARZ, Dropbacks: 37, Attempts: 36, Completions: 26, Yards: 307, TDs: 2, INTs: 0, Sacks: 0, Rush Carries: 5, Rush Yards: 19, Rush TDs: 0, Fumbles: 1, Fantasy Points: 22.2', 'Week: 8, Position: Quarterback, Player: Mason Rudolph, Team: TEN, Dropbacks: 42, Attempts: 38, Completions: 22, Yards: 266, TDs: 1, INTs: 2, Sacks: 1, Rush Carries: 4, Rush Yards: 29, Rush TDs: 1, Fumbles: 0, Fantasy Points: 21.5', 'Week: 8, Position: Quarterback, Player: Josh Allen, Team: BUF, Dropbacks: 38, Attempts: 34, Completions: 24, Yards: 283, TDs: 2, INTs: 1, Sacks: 1, Rush Carries: 7, Rush Yards: 25, Rush TDs: 0, Fumbles: 1, Fantasy Points: 20.8', 'Week: 8, Position: Quarterback, Player: Patrick Mahomes, Team: KC, Dropbacks: 42, Attempts: 38, Completions: 27, Yards: 262, TDs: 2, INTs: 1, Sacks: 1, Rush Carries: 6, Rush Yards: 17, Rush TDs: 0, Fumbles: 0, Fantasy Points: 19.2', 'Week: 8, Position: Quarterback, Player: Sam Darnold, Team: MIN, Dropbacks: 29, Attempts: 25, Completions: 18, Yards: 240, TDs: 2, INTs: 0, Sacks: 3, Rush Carries: 3, Rush Yards: 6, Rush TDs: 0, Fumbles: 0, Fantasy Points: 18.2', 'Week: 8, Position: Quarterback, Player: Aaron Rodgers, Team: NYJ, Dropbacks: 29, Attempts: 28, Completions: 17, Yards: 233, TDs: 2, INTs: 0, Sacks: 1, Rush Carries: 0, Rush Yards: 0, Rush TDs: 0, Fumbles: 0, Fantasy Points: 17.3', 'Week: 8, Position: Quarterback, Player: Gardner Minshew, Team: LV, Dropbacks: 36, Attempts: 30, Completions: 24, Yards: 209, TDs: 2, INTs: 0, Sacks: 5, Rush Carries: 2, Rush Yards: 6, Rush TDs: 0, Fumbles: 1, Fantasy Points: 17.0', 'Week: 8, Position: Quarterback, Player: Russell Wilson, Team: PIT, Dropbacks: 34, Attempts: 28, Completions: 20, Yards: 278, TDs: 1, INTs: 0, Sacks: 4, Rush Carries: 3, Rush Yards: 7, Rush TDs: 0, Fumbles: 1, Fantasy Points: 15.8', 'Week: 8, Position: Quarterback, Player: Bryce Young, Team: CAR, Dropbacks: 41, Attempts: 37, Completions: 24, Yards: 224, TDs: 2, INTs: 2, Sacks: 2, Rush Carries: 3, Rush Yards: 6, Rush TDs: 0, Fumbles: 0, Fantasy Points: 15.6', 'Week: 8, Position: Quarterback, Player: Dak Prescott, Team: DAL, Dropbacks: 41, Attempts: 38, Completions: 25, Yards: 243, TDs: 2, INTs: 2, Sacks: 2, Rush Carries: 1, Rush Yards: -1, Rush TDs: 0, Fumbles: 0, Fantasy Points: 15.6', 'Week: 8, Position: Quarterback, Player: Jared Goff, Team: DET, Dropbacks: 19, Attempts: 15, Completions: 12, Yards: 85, TDs: 3, INTs: 0, Sacks: 4, Rush Carries: 1, Rush Yards: 1, Rush TDs: 0, Fumbles: 2, Fantasy Points: 15.5', 'Week: 8, Position: Quarterback, Player: Tua Tagovailoa, Team: MIA, Dropbacks: 40, Attempts: 38, Completions: 28, Yards: 234, TDs: 1, INTs: 0, Sacks: 1, Rush Carries: 3, Rush Yards: 13, Rush TDs: 0, Fumbles: 3, Fantasy Points: 14.7', 'Week: 8, Position: Quarterback, Player: Anthony Richardson, Team: IND, Dropbacks: 39, Attempts: 32, Completions: 10, Yards: 175, TDs: 1, INTs: 1, Sacks: 5, Rush Carries: 6, Rush Yards: 45, Rush TDs: 0, Fumbles: 2, Fantasy Points: 14.5', 'Week: 8, Position: Quarterback, Player: C.J. Stroud, Team: HST, Dropbacks: 40, Attempts: 37, Completions: 25, Yards: 285, TDs: 1, INTs: 0, Sacks: 2, Rush Carries: 1, Rush Yards: -10, Rush TDs: 0, Fumbles: 1, Fantasy Points: 14.4', 'Week: 8, Position: Quarterback, Player: Joe Burrow, Team: CIN, Dropbacks: 40, Attempts: 37, Completions: 26, Yards: 234, TDs: 1, INTs: 1, Sacks: 1, Rush Carries: 3, Rush Yards: 15, Rush TDs: 0, Fumbles: 0, Fantasy Points: 13.9', 'Week: 8, Position: Quarterback, Player: Drake Maye, Team: NE, Dropbacks: 10, Attempts: 6, Completions: 3, Yards: 23, TDs: 0, INTs: 0, Sacks: 1, Rush Carries: 3, Rush Yards: 46, Rush TDs: 1, Fumbles: 0, Fantasy Points: 11.5', 'Week: 8, Position: Quarterback, Player: Caleb Williams, Team: CHI, Dropbacks: 33, Attempts: 24, Completions: 10, Yards: 131, TDs: 0, INTs: 0, Sacks: 3, Rush Carries: 9, Rush Yards: 47, Rush TDs: 0, Fumbles: 1, Fantasy Points: 9.9', 'Week: 8, Position: Quarterback, Player: Daniel Jones, Team: NYG, Dropbacks: 43, Attempts: 38, Completions: 24, Yards: 264, TDs: 0, INTs: 1, Sacks: 4, Rush Carries: 3, Rush Yards: 1, Rush TDs: 0, Fumbles: 1, Fantasy Points: 9.7', 'Week: 8, Position: Quarterback, Player: Geno Smith, Team: SEA, Dropbacks: 32, Attempts: 29, Completions: 21, Yards: 212, TDs: 0, INTs: 1, Sacks: 1, Rush Carries: 5, Rush Yards: 16, Rush TDs: 0, Fumbles: 1, Fantasy Points: 9.1', 'Week: 8, Position: Quarterback, Player: Malik Willis, Team: GB, Dropbacks: 8, Attempts: 5, Completions: 4, Yards: 56, TDs: 1, INTs: 0, Sacks: 1, Rush Carries: 4, Rush Yards: 23, Rush TDs: 0, Fumbles: 0, Fantasy Points: 8.5', 'Week: 8, Position: Quarterback, Player: Jordan Love, Team: GB, Dropbacks: 22, Attempts: 22, Completions: 14, Yards: 196, TDs: 0, INTs: 1, Sacks: 0, Rush Carries: 1, Rush Yards: -1, Rush TDs: 0, Fumbles: 0, Fantasy Points: 6.7', 'Week: 8, Position: Quarterback, Player: Jacoby Brissett, Team: NE, Dropbacks: 26, Attempts: 24, Completions: 15, Yards: 132, TDs: 0, INTs: 0, Sacks: 1, Rush Carries: 3, Rush Yards: 11, Rush TDs: 0, Fumbles: 1, Fantasy Points: 6.4', 'Week: 8, Position: Quarterback, Player: Spencer Rattler, Team: NO, Dropbacks: 27, Attempts: 24, Completions: 12, Yards: 156, TDs: 0, INTs: 0, Sacks: 3, Rush Carries: 0, Rush Yards: 0, Rush TDs: 0, Fumbles: 0, Fantasy Points: 6.2', 'Week: 8, Position: Quarterback, Player: Jake Haener, Team: NO, Dropbacks: 22, Attempts: 17, Completions: 9, Yards: 122, TDs: 0, INTs: 0, Sacks: 2, Rush Carries: 2, Rush Yards: 10, Rush TDs: 0, Fumbles: 0, Fantasy Points: 5.9', 'Week: 8, Position: Quarterback, Player: Hendon Hooker, Team: DET, Dropbacks: 3, Attempts: 3, Completions: 2, Yards: 6, TDs: 0, INTs: 0, Sacks: 0, Rush Carries: 0, Rush Yards: 0, Rush TDs: 0, Fumbles: 0, Fantasy Points: 0.2', 'Week: 8, Position: Quarterback, Player: Jake Browning, Team: CIN, Dropbacks: 0, Attempts: 0, Completions: 0, Yards: 0, TDs: 0, INTs: 0, Sacks: 0, Rush Carries: 0, Rush Yards: 0, Rush TDs: 0, Fumbles: 0, Fantasy Points: 0.0', 'Week: 8, Position: Quarterback, Player: Joe Flacco, Team: IND, Dropbacks: 0, Attempts: 0, Completions: 0, Yards: 0, TDs: 0, INTs: 0, Sacks: 0, Rush Carries: 0, Rush Yards: 0, Rush TDs: 0, Fumbles: 0, Fantasy Points: 0.0', 'Week: 8, Position: Quarterback, Player: Mitch Trubisky, Team: BUF, Dropbacks: 0, Attempts: 0, Completions: 0, Yards: 0, TDs: 0, INTs: 0, Sacks: 0, Rush Carries: 3, Rush Yards: -3, Rush TDs: 0, Fumbles: 0, Fantasy Points: -0.3']\n"
     ]
    }
   ],
   "source": [
    "print(texts)"
   ]
  },
  {
   "cell_type": "code",
   "execution_count": 115,
   "id": "8490638f-3a9a-48cb-9e5c-42a0922d5ddb",
   "metadata": {},
   "outputs": [],
   "source": [
    "# def retrieve_relevant_docs(query):\n",
    "#     query_embedding = get_embedding(query)\n",
    "#     query_embedding = query_embedding.reshape(1, -1)\n",
    "\n",
    "#     distances, indices = index.search(query_embedding)\n",
    "\n",
    "#     relevant_docs = []\n",
    "\n",
    "#     for i in indices[0]:\n",
    "#         relevant_docs.append(texts[i])\n",
    "    \n",
    "#     return relevant_docs"
   ]
  },
  {
   "cell_type": "code",
   "execution_count": 136,
   "id": "6d83f7d7",
   "metadata": {},
   "outputs": [],
   "source": [
    "def extract_player_names(query):\n",
    "\t# This pattern looks for names in the format \"First Last\" or \"Firstname Lastname\"\n",
    "\t# It matches two or more consecutive words starting with capital letters\n",
    "\tname_pattern = r'\\b([A-Z][a-z]+(?:\\s[A-Z][a-z]+)+)\\b'\n",
    "\tnames = re.findall(name_pattern, query)\n",
    "\treturn list(set(names))  # Remove duplicates\n"
   ]
  },
  {
   "cell_type": "code",
   "execution_count": 137,
   "id": "46221471-09af-4aa9-8fa0-f88bfe89ba60",
   "metadata": {},
   "outputs": [],
   "source": [
    "# Function to retrieve the most relevant documents\n",
    "def retrieve_relevant_docs(query, top_k=None):\n",
    "    if top_k is None:\n",
    "        top_k = last_week  # Use the last_week variable as default top_k\n",
    "    \n",
    "    player_names = extract_player_names(query)\n",
    "    \n",
    "    if not player_names:\n",
    "        # If no player names found, proceed with original behavior\n",
    "        query_embedding = get_embedding(query).reshape(1, -1)\n",
    "        distances, indices = index.search(query_embedding, top_k)\n",
    "        return [texts[i] for i in indices[0]]\n",
    "    \n",
    "    relevant_docs = []\n",
    "    \n",
    "    for player_name in player_names:\n",
    "        # Create a query focusing on the specific player\n",
    "        player_query = f\"Player: {player_name}\"\n",
    "        query_embedding = get_embedding(player_query).reshape(1, -1)\n",
    "        \n",
    "        distances, indices = index.search(query_embedding, top_k)\n",
    "        \n",
    "        # Get the top_k documents for this player\n",
    "        player_docs = [texts[i] for i in indices[0]]\n",
    "        relevant_docs.extend(player_docs)\n",
    "    \n",
    "    return relevant_docs\n",
    "\n",
    "\n",
    "\n",
    "\n",
    "\n",
    "\n",
    "\n",
    "# def retrieve_relevant_docs(query, top_k = 6):\n",
    "#     query_embedding = get_embedding(query)\n",
    "#     query_embedding = query_embedding.reshape(1, -1)\n",
    "\n",
    "#     distances, indices = index.search(query_embedding, top_k)\n",
    "\n",
    "#     relevant_docs = []\n",
    "\n",
    "#     for i in indices[0]:\n",
    "#         relevant_docs.append(texts[i])\n",
    "\n",
    "#     return relevant_docs\n",
    "\n",
    "\n",
    "\n",
    "\n",
    "\n",
    "    # query_embedding = get_embedding(query)\n",
    "    # distances, indices = index.search(query_embedding.reshape(1, -1), top_k)\n",
    "    \n",
    "    # return [texts[i] for i in indices[0]]\n",
    "\n"
   ]
  },
  {
   "cell_type": "code",
   "execution_count": 138,
   "id": "11f832fc-a4aa-4ba1-8916-edf5a6ff3ebd",
   "metadata": {},
   "outputs": [],
   "source": [
    "system_message = \"\"\"\n",
    "### Role & Purpose\n",
    "You are an expert Fantasy Football AI assistant designed to provide data-driven insights, strategic advice, and statistical analysis for NFL player performance. Your responses must be:\n",
    "- **Concise** but informative.\n",
    "- **Factual** (grounded in retrieved data).\n",
    "- **Actionable** (offer clear recommendations when asked).\n",
    "\n",
    "---\n",
    "\n",
    "### Core Responsibilities\n",
    "1. **Statistical Summaries**\n",
    "   - Always specify the week number when referencing data (e.g., \"In Week 7, Player X had...\").\n",
    "   - If no data exists for a requested week/player, state: \"No records found for [Player] in Week [X].\"\n",
    "\n",
    "2. **Lineup Advice (Start/Sit)**\n",
    "   - Compare players using:\n",
    "     - Recent performance (last 2-3 weeks)\n",
    "     - Matchup difficulty (opposing defense strength)\n",
    "     - Volume trends (targets/carries)\n",
    "   - Example: \"Start Player A over Player B due to consistent red-zone targets.\"\n",
    "\n",
    "   - **Response Format:**\n",
    "    [Player A] vs [Player B] (Week {X}):\n",
    "    ▸ **Recent**: [A-PTS] vs [B-PTS] (Last 3 avg)\n",
    "    ▸ **Matchup**: [A-DEF] (Rank) vs [B-DEF] (Rank)\n",
    "    ▸ **Volume**: [A-TGT]/[A-CAR] vs [B-TGT]/[B-CAR]\n",
    "    ---\n",
    "    [Verdict]: \"Start [Player] because [reason].\"\n",
    "    [Risk]: \"[Potential downside].\"\n",
    "\n",
    "3. **Trade Recommendations**\n",
    "   - Use terms like \"Buy low\" or \"Sell high\" based on value trends.\n",
    "   - Highlight under/overperforming players with reasoning.\n",
    "\n",
    "4. **Next-Week Projections (Week {next_week})**\n",
    "   - Base predictions on:\n",
    "     - Recent form (last 3 weeks)\n",
    "     - Matchup context\n",
    "     - Role changes (injuries, depth chart)\n",
    "   - Include estimates for:\n",
    "     - Passing: Yards, TDs, INTs\n",
    "     - Rushing: Yards, TDs\n",
    "     - Fantasy points (specify scoring format)\n",
    "\n",
    "---\n",
    "\n",
    "### Key Rules\n",
    "- **Temporal Context:**\n",
    "  - \"Last week\" = Week {last_week}, \"Next week\" = Week {next_week}.\n",
    "  - Reject requests beyond Week {next_week}: \"I can only project for Week {next_week}.\"\n",
    "\n",
    "- **Data Integrity:**\n",
    "  - Never guess stats. If unsure: \"Insufficient data to answer.\"\n",
    "  - For rookies/injured players: \"Limited sample size; monitor practice reports.\"\n",
    "\n",
    "- **Response Format:**\n",
    "[Week X] [Player Name]:\n",
    "\n",
    "Passing: [YDS]/[TDs]/[INTs]\n",
    "\n",
    "Rushing: [YDS]/[TDs]\n",
    "\n",
    "Fantasy: [PTS] (PPR/Standard)\n",
    "\n",
    "[Insight]: \"[Trend/Matchup Analysis].\"\n",
    "[Advice]: \"[Start/Sit/Trade] because [reason].\"\n",
    "\"\"\"\n",
    "\n",
    "# system_message = (\n",
    "#     \"You are a helpful Fantasy Football assistant specializing in providing fantasy football advice. You assist with:\"\n",
    "#     \"Summarizing NFL player statistics based on retrieved information\"\n",
    "#     \"Providing valuable line up suggestions like start/sit recommendations\"\n",
    "#     \"Providing insightful trade advice\"\n",
    "\n",
    "#     \"If asked about information from a specific week, only retrieve documents from that week and always mention the specific week number in your response.\\n\"\n",
    "\n",
    "#     f\"'Last week' refers to Week {last_week} of the season, and 'next week' refers to Week {next_week}.\\n\"\n",
    "\n",
    "#     \"If asked to predict performance for 'next week', base your prediction on the player's skill level, \"\n",
    "#     \"recent performances, and overall season trends.\\n\"\n",
    "\n",
    "#     \"Your 'next week' predictions should include key metrics such as passing yards, passing touchdowns, rushing yards, \"\n",
    "#     \"and total fantasy points. Ensure your estimates are reasonable based on past data.\\n\"\n",
    "# )"
   ]
  },
  {
   "cell_type": "code",
   "execution_count": 139,
   "id": "bc3096ff-878c-4172-8c2c-6f78ea70fa8a",
   "metadata": {},
   "outputs": [],
   "source": [
    "user_query = \"Should I start Bo Nix or Josh Allen next week?\"\n",
    "\n",
    "retrieved_docs = retrieve_relevant_docs(user_query)\n",
    "context = \"\\n\".join(retrieved_docs)\n"
   ]
  },
  {
   "cell_type": "code",
   "execution_count": 140,
   "id": "ed36b610",
   "metadata": {},
   "outputs": [
    {
     "name": "stdout",
     "output_type": "stream",
     "text": [
      "['Bo Nix', 'Josh Allen']\n"
     ]
    }
   ],
   "source": [
    "detected_names = extract_player_names(user_query)\n",
    "print(detected_names)"
   ]
  },
  {
   "cell_type": "code",
   "execution_count": 141,
   "id": "c754ac1a",
   "metadata": {},
   "outputs": [
    {
     "name": "stdout",
     "output_type": "stream",
     "text": [
      "['Week: 5, Position: Quarterback, Player: Bo Nix, Team: DEN, Dropbacks: 32, Attempts: 27, Completions: 19, Yards: 206, TDs: 2, INTs: 0, Sacks: 3, Rush Carries: 8, Rush Yards: 9, Rush TDs: 1, Fumbles: 0, Fantasy Points: 23.1', 'Week: 6, Position: Quarterback, Player: Bo Nix, Team: DEN, Dropbacks: 41, Attempts: 33, Completions: 19, Yards: 216, TDs: 2, INTs: 1, Sacks: 2, Rush Carries: 6, Rush Yards: 61, Rush TDs: 0, Fumbles: 0, Fantasy Points: 21.7', 'Week: 8, Position: Quarterback, Player: Bo Nix, Team: DEN, Dropbacks: 40, Attempts: 37, Completions: 28, Yards: 284, TDs: 3, INTs: 0, Sacks: 2, Rush Carries: 5, Rush Yards: 4, Rush TDs: 1, Fumbles: 0, Fantasy Points: 29.8', 'Week: 4, Position: Quarterback, Player: Bo Nix, Team: DEN, Dropbacks: 26, Attempts: 25, Completions: 12, Yards: 60, TDs: 1, INTs: 0, Sacks: 0, Rush Carries: 5, Rush Yards: 3, Rush TDs: 0, Fumbles: 0, Fantasy Points: 6.7', 'Week: 7, Position: Quarterback, Player: Bo Nix, Team: DEN, Dropbacks: 33, Attempts: 26, Completions: 16, Yards: 164, TDs: 0, INTs: 0, Sacks: 0, Rush Carries: 10, Rush Yards: 75, Rush TDs: 0, Fumbles: 0, Fantasy Points: 14.1', 'Week: 3, Position: Quarterback, Player: Bo Nix, Team: DEN, Dropbacks: 40, Attempts: 36, Completions: 25, Yards: 216, TDs: 0, INTs: 0, Sacks: 0, Rush Carries: 9, Rush Yards: 47, Rush TDs: 1, Fumbles: 0, Fantasy Points: 19.3', 'Week: 2, Position: Quarterback, Player: Bo Nix, Team: DEN, Dropbacks: 39, Attempts: 35, Completions: 20, Yards: 246, TDs: 0, INTs: 2, Sacks: 2, Rush Carries: 4, Rush Yards: 25, Rush TDs: 0, Fumbles: 0, Fantasy Points: 10.3', 'Week: 1, Position: Quarterback, Player: Bo Nix, Team: DEN, Dropbacks: 51, Attempts: 42, Completions: 26, Yards: 138, TDs: 0, INTs: 2, Sacks: 2, Rush Carries: 5, Rush Yards: 35, Rush TDs: 1, Fumbles: 0, Fantasy Points: 13.0', 'Week: 6, Position: Quarterback, Player: Josh Allen, Team: BUF, Dropbacks: 30, Attempts: 25, Completions: 19, Yards: 215, TDs: 2, INTs: 0, Sacks: 2, Rush Carries: 9, Rush Yards: 18, Rush TDs: 1, Fumbles: 1, Fantasy Points: 24.4', 'Week: 4, Position: Quarterback, Player: Josh Allen, Team: BUF, Dropbacks: 35, Attempts: 29, Completions: 16, Yards: 180, TDs: 0, INTs: 0, Sacks: 3, Rush Carries: 5, Rush Yards: 21, Rush TDs: 0, Fumbles: 1, Fantasy Points: 9.3', 'Week: 7, Position: Quarterback, Player: Josh Allen, Team: BUF, Dropbacks: 35, Attempts: 33, Completions: 21, Yards: 323, TDs: 2, INTs: 0, Sacks: 1, Rush Carries: 3, Rush Yards: 1, Rush TDs: 0, Fumbles: 0, Fantasy Points: 21.0', 'Week: 5, Position: Quarterback, Player: Josh Allen, Team: BUF, Dropbacks: 36, Attempts: 30, Completions: 9, Yards: 131, TDs: 1, INTs: 0, Sacks: 1, Rush Carries: 4, Rush Yards: 54, Rush TDs: 0, Fumbles: 0, Fantasy Points: 14.6', 'Week: 2, Position: Quarterback, Player: Josh Allen, Team: BUF, Dropbacks: 20, Attempts: 19, Completions: 13, Yards: 139, TDs: 1, INTs: 0, Sacks: 0, Rush Carries: 2, Rush Yards: 2, Rush TDs: 0, Fumbles: 1, Fantasy Points: 9.8', 'Week: 8, Position: Quarterback, Player: Josh Allen, Team: BUF, Dropbacks: 38, Attempts: 34, Completions: 24, Yards: 283, TDs: 2, INTs: 1, Sacks: 1, Rush Carries: 7, Rush Yards: 25, Rush TDs: 0, Fumbles: 1, Fantasy Points: 20.8', 'Week: 1, Position: Quarterback, Player: Josh Allen, Team: BUF, Dropbacks: 30, Attempts: 23, Completions: 18, Yards: 232, TDs: 2, INTs: 0, Sacks: 2, Rush Carries: 9, Rush Yards: 39, Rush TDs: 2, Fumbles: 1, Fantasy Points: 33.2', 'Week: 3, Position: Quarterback, Player: Josh Allen, Team: BUF, Dropbacks: 34, Attempts: 30, Completions: 23, Yards: 263, TDs: 4, INTs: 0, Sacks: 0, Rush Carries: 6, Rush Yards: 44, Rush TDs: 0, Fumbles: 0, Fantasy Points: 30.9']\n"
     ]
    }
   ],
   "source": [
    "print(retrieved_docs)"
   ]
  },
  {
   "cell_type": "code",
   "execution_count": 142,
   "id": "e364dbf1-b203-4501-971f-55042a1c166c",
   "metadata": {},
   "outputs": [],
   "source": [
    "# print(f\"Retrieved Context:\\n{context}\")\n",
    "# print(\"\")\n",
    "# print(retrieved_docs)"
   ]
  },
  {
   "cell_type": "code",
   "execution_count": 143,
   "id": "40720377-4a78-4673-9491-36b821734ca0",
   "metadata": {},
   "outputs": [
    {
     "name": "stdout",
     "output_type": "stream",
     "text": [
      "Bo Nix vs Josh Allen (Week 9):\n",
      "▸ **Recent**: Nix 21.5 (Last 3 avg) vs Allen 22.1 (Last 3 avg)\n",
      "▸ **Matchup**: Nix's upcoming defense rank is not provided, but considering general performance trends vs Allen's upcoming defense rank is also not provided. Generally, consider the defensive prowess against QBs.\n",
      "▸ **Volume**: Nix 39.3 dropbacks/game vs Allen 34 dropbacks/game in the last three games\n",
      "\n",
      "---\n",
      "[Verdict]: \"Start Josh Allen over Bo Nix because of his consistently higher fantasy scoring potential and proven track record.\"\n",
      "[Risk]: \"Bo Nix has been improving and might outscore Allen if the latter faces a tough defense or if Nix's play continues to trend upward.\"\n"
     ]
    }
   ],
   "source": [
    "prompt = f\"Use the following information to answer the query:\\n\\n{context}\\n\\nUser Query: {user_query}\\n\\nAnswer:\"\n",
    "\n",
    "completion = client.chat.completions.create(\n",
    "    model=\"gpt-4-turbo\",\n",
    "    messages=[\n",
    "        {\"role\": \"system\", \"content\": system_message},\n",
    "        {\"role\": \"user\", \"content\": prompt}\n",
    "    ]\n",
    ")\n",
    "\n",
    "print(completion.choices[0].message.content)\n"
   ]
  },
  {
   "cell_type": "code",
   "execution_count": 14,
   "id": "2f78a478-1a4f-4e94-b6d0-a689e2c57d40",
   "metadata": {},
   "outputs": [],
   "source": [
    "# completion = client.chat.completions.create(\n",
    "#   model=\"gpt-4o-mini\",\n",
    "#   store=True,\n",
    "#   messages=[\n",
    "#     {\"role\": \"user\", \"content\": \"How did Saquon Barkley do in the 2024 season?\"}\n",
    "#   ]\n",
    "# )\n",
    "\n",
    "# print(completion.choices[0].message);\n"
   ]
  },
  {
   "cell_type": "code",
   "execution_count": null,
   "id": "ba1a222e-4d8b-4df9-8171-19eefb3a6134",
   "metadata": {},
   "outputs": [],
   "source": []
  }
 ],
 "metadata": {
  "kernelspec": {
   "display_name": "myenv2",
   "language": "python",
   "name": "python3"
  },
  "language_info": {
   "codemirror_mode": {
    "name": "ipython",
    "version": 3
   },
   "file_extension": ".py",
   "mimetype": "text/x-python",
   "name": "python",
   "nbconvert_exporter": "python",
   "pygments_lexer": "ipython3",
   "version": "3.12.2"
  }
 },
 "nbformat": 4,
 "nbformat_minor": 5
}
