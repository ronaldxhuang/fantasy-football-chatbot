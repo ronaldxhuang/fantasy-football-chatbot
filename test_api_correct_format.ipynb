{
 "cells": [
  {
   "cell_type": "code",
   "execution_count": 198,
   "id": "f6e564a0-b023-4efa-b329-a869f1e92ff2",
   "metadata": {},
   "outputs": [],
   "source": [
    "from openai import OpenAI\n",
    "import numpy as np\n",
    "import json\n",
    "import faiss\n",
    "import os\n",
    "import re\n",
    "\n",
    "from fuzzywuzzy import process\n",
    "import jellyfish\n",
    "from rapidfuzz import fuzz, process\n",
    "from unidecode import unidecode"
   ]
  },
  {
   "cell_type": "code",
   "execution_count": 199,
   "id": "c859debd",
   "metadata": {},
   "outputs": [],
   "source": [
    "# from langchain_openai import ChatOpenAI\n",
    "# from dotenv import load_dotenv\n",
    "# load_dotenv()\n",
    "\n",
    "# # print(\"Key exists:\", \"OPENAI_API_KEY\" in os.environ)  # Should be True\n",
    "# # print(\"Key length:\", len(os.getenv(\"OPENAI_API_KEY\")))  # Should be ~51 chars\n",
    "\n",
    "# llm = ChatOpenAI()\n",
    "# llm.invoke(\"Hello, world!\")"
   ]
  },
  {
   "cell_type": "code",
   "execution_count": 200,
   "id": "09265559",
   "metadata": {},
   "outputs": [],
   "source": [
    "def get_unique_players(json_file_path, position):\n",
    "\n",
    "    try:\n",
    "        with open(json_file_path) as f:\n",
    "            data = json.load(f)\n",
    "    except Exception as e:\n",
    "        print(f\"Error loading JSON file: {e}\")\n",
    "        return []\n",
    "\n",
    "    unique_players = set()\n",
    "    \n",
    "    # Iterate through each week in the \"Weeks\" array\n",
    "    for week_data in data.get(\"Weeks\", []):\n",
    "        try:\n",
    "            # Access the players for the specified position\n",
    "            position_data = week_data[\"Positions\"][position][\"Players\"]\n",
    "            unique_players.update(position_data.keys())\n",
    "        except KeyError as e:\n",
    "            print(f\"Warning: Missing expected key {e} in week {week_data.get('week', 'unknown')}\")\n",
    "            continue\n",
    "    \n",
    "    return sorted(unique_players)"
   ]
  },
  {
   "cell_type": "code",
   "execution_count": 201,
   "id": "6da3442a",
   "metadata": {},
   "outputs": [
    {
     "name": "stdout",
     "output_type": "stream",
     "text": [
      "['Aaron Rodgers', \"Aidan O'Connell\", 'Andy Dalton', 'Anthony Richardson', 'Bailey Zappe', 'Baker Mayfield', 'Bo Nix', 'Brandon Allen', 'Brock Purdy', 'Bryce Young', 'C.J. Stroud', 'Caleb Williams', 'Carson Wentz', 'Chris Oladokun', 'Clayton Tune', 'Cooper Rush', 'Dak Prescott', 'Daniel Jones', 'Davis Mills', 'Derek Carr', 'Deshaun Watson', 'Desmond Ridder', 'Dorian Thompson-Robinson', 'Drake Maye', 'Drew Lock', 'Gardner Minshew', 'Geno Smith', 'Hendon Hooker', 'Jacoby Brissett', 'Jake Browning', 'Jake Haener', 'Jalen Hurts', 'Jameis Winston', 'Jared Goff', 'Jarrett Stidham', 'Jayden Daniels', 'Jeff Driskel', 'Jimmy Garoppolo', 'Joe Burrow', 'Joe Flacco', 'Joe Milton III', 'Jordan Love', 'Josh Allen', 'Josh Johnson', 'Joshua Dobbs', 'Justin Fields', 'Justin Herbert', 'Kenny Pickett', 'Kirk Cousins', 'Kyle Allen', 'Kyle Trask', 'Kyler Murray', 'Lamar Jackson', 'Mac Jones', 'Malik Willis', 'Marcus Mariota', 'Mason Rudolph', 'Matthew Stafford', 'Michael Penix Jr.', 'Mike White', 'Mitch Trubisky', 'Nick Mullens', 'Patrick Mahomes', 'Russell Wilson', 'Sam Darnold', 'Sam Howell', 'Skylar Thompson', 'Spencer Rattler', 'Tanner McKee', 'Taylor Heinicke', 'Tim Boyle', 'Tommy DeVito', 'Trevor Lawrence', 'Trey Lance', 'Tua Tagovailoa', 'Tyler Huntley', 'Tyrod Taylor', 'Tyson Bagent', 'Will Levis']\n"
     ]
    }
   ],
   "source": [
    "players_qb = get_unique_players('C:/Users/rshua/fantasy-football-chatbot/nfl_season_stats_full.json', 'Quarterback')\n",
    "print(players_qb)"
   ]
  },
  {
   "cell_type": "code",
   "execution_count": 202,
   "id": "2e3efe13-6529-44bc-9f3e-423586ff5d8f",
   "metadata": {},
   "outputs": [],
   "source": [
    "#load json files\n",
    "def load_documents(json_file):\n",
    "    with open(json_file, \"r\", encoding=\"utf-8\") as f:\n",
    "        data = json.load(f)\n",
    "        \n",
    "    return data\n",
    "\n",
    "# Generate embeddings for each document\n",
    "def get_embedding(text):\n",
    "    response = client.embeddings.create(model = \"text-embedding-ada-002\", input = text)\n",
    "    embedding_array = np.array(response.data[0].embedding)\n",
    "    \n",
    "    return embedding_array\n"
   ]
  },
  {
   "cell_type": "code",
   "execution_count": 203,
   "id": "8d678628-787f-4713-b3e2-2d5733ae2d04",
   "metadata": {},
   "outputs": [],
   "source": [
    "with open(\"C:/Users/rshua/keys/secret_key.json\", \"r\") as file:\n",
    "    secrets = json.load(file)\n",
    "    api_key = secrets[\"OPENAI_API_KEY\"]\n",
    "\n",
    "client = OpenAI(api_key = api_key)"
   ]
  },
  {
   "cell_type": "code",
   "execution_count": 204,
   "id": "13d9e2ef-c2cf-418c-96c3-665aaf4bfa45",
   "metadata": {},
   "outputs": [],
   "source": [
    "# data = load_documents(\"C:/Users/rshua/fantasy-football-chatbot/nfl_season_stats_partial.json\")\n",
    "data = load_documents(\"nfl_season_stats_partial.json\")"
   ]
  },
  {
   "cell_type": "code",
   "execution_count": 205,
   "id": "b4a13b9a-e1d7-455e-9594-4d2e4b65778a",
   "metadata": {},
   "outputs": [],
   "source": [
    "# Convert JSON to a list of text documents\n",
    "documents = []\n",
    "\n",
    "for week_data in data[\"Weeks\"]:\n",
    "    week = week_data[\"week\"]\n",
    "    for position, position_data in week_data[\"Positions\"].items():\n",
    "        for player_name, player_stats in position_data[\"Players\"].items():\n",
    "            text = f\"Week: {week}, Position: {position}, Player: {player_name}, Team: {player_stats['team']}, \"\n",
    "            text += f\"Dropbacks: {player_stats['dropbacks']}, Attempts: {player_stats['att']}, Completions: {player_stats['comp']}, \"\n",
    "            text += f\"Yards: {player_stats['yds']}, TDs: {player_stats['tds']}, INTs: {player_stats['ints']}, \"\n",
    "            text += f\"Sacks: {player_stats['sks']}, Rush Carries: {player_stats['rushCarries']}, Rush Yards: {player_stats['rushYds']}, \"\n",
    "            text += f\"Rush TDs: {player_stats['rushTds']}, Fumbles: {player_stats['fumbles']}, Fantasy Points: {player_stats['fantasyPts']}\"\n",
    "            documents.append({\"text\": text})\n",
    "            # print(week)\n",
    "\n",
    "last_week = week\n",
    "next_week = week + 1\n"
   ]
  },
  {
   "cell_type": "code",
   "execution_count": 206,
   "id": "57d314fa-4b51-4a00-8805-4518f1409003",
   "metadata": {},
   "outputs": [],
   "source": [
    "# Create a list of text documents and their embeddings\n",
    "# texts = [doc[\"text\"] for doc in documents]\n",
    "texts = []\n",
    "\n",
    "for i in documents:\n",
    "    text_content = i[\"text\"]\n",
    "    texts.append(text_content)\n",
    "\n",
    "embeddings = np.array([get_embedding(text) for text in texts])\n",
    "\n",
    "# Store embeddings in FAISS\n",
    "dimension = embeddings.shape[1]\n",
    "index = faiss.IndexFlatL2(dimension)\n",
    "index.add(embeddings)\n",
    "\n",
    "# dimension = embeddings.shape[1]\n",
    "# index = faiss.IndexFlatL2(dimension)\n",
    "# index.add(np.array([embeddings]))\n",
    "# faiss.write_index(index, \"vector_store.index\")\n",
    "\n"
   ]
  },
  {
   "cell_type": "code",
   "execution_count": 207,
   "id": "6a157cdb",
   "metadata": {},
   "outputs": [],
   "source": [
    "# print(texts)"
   ]
  },
  {
   "cell_type": "code",
   "execution_count": 208,
   "id": "750232cc",
   "metadata": {},
   "outputs": [],
   "source": [
    "def clean_text(text):\n",
    "    # Normalize: remove accents, punctuation, lowercase\n",
    "    text = unidecode(text)\n",
    "    text = re.sub(r\"[^a-zA-Z\\s]\", \"\", text)\n",
    "    return text.lower().strip()\n",
    "\n",
    "def extract_player_names(query, player_data, threshold=85):\n",
    "    cleaned_query = clean_text(query)\n",
    "    matched_players = []\n",
    "\n",
    "    for player in player_data:\n",
    "        cleaned_player = clean_text(player)\n",
    "        # Use partial_ratio to allow substring matching\n",
    "        score = fuzz.partial_ratio(cleaned_player, cleaned_query)\n",
    "        if score >= threshold:\n",
    "            matched_players.append((player, score))\n",
    "\n",
    "    # Return only names, sorted by best match\n",
    "    matched_players.sort(key=lambda x: x[1], reverse=True)\n",
    "    return [player for player, score in matched_players]"
   ]
  },
  {
   "cell_type": "code",
   "execution_count": 209,
   "id": "46221471-09af-4aa9-8fa0-f88bfe89ba60",
   "metadata": {},
   "outputs": [],
   "source": [
    "# Function to retrieve the most relevant documents\n",
    "def retrieve_relevant_docs(query, player_names, top_k=None):\n",
    "    if top_k is None:\n",
    "        top_k = last_week  # Use the last_week variable as default top_k\n",
    "    \n",
    "    # player_names = extract_player_names(query)\n",
    "    \n",
    "    if not player_names:\n",
    "        # If no player names found, proceed with original behavior\n",
    "        query_embedding = get_embedding(query).reshape(1, -1)\n",
    "        distances, indices = index.search(query_embedding, top_k)\n",
    "        return [texts[i] for i in indices[0]]\n",
    "    \n",
    "    relevant_docs = []\n",
    "    \n",
    "    for player_name in player_names:\n",
    "        # Create a query focusing on the specific player\n",
    "        player_query = f\"Player: {player_name}\"\n",
    "        query_embedding = get_embedding(player_query).reshape(1, -1)\n",
    "        \n",
    "        distances, indices = index.search(query_embedding, top_k)\n",
    "        \n",
    "        # Get the top_k documents for this player\n",
    "        player_docs = [texts[i] for i in indices[0]]\n",
    "        relevant_docs.extend(player_docs)\n",
    "    \n",
    "    return relevant_docs\n",
    "\n",
    "\n",
    "\n",
    "\n",
    "\n",
    "\n",
    "\n",
    "# def retrieve_relevant_docs(query, top_k = 6):\n",
    "#     query_embedding = get_embedding(query)\n",
    "#     query_embedding = query_embedding.reshape(1, -1)\n",
    "\n",
    "#     distances, indices = index.search(query_embedding, top_k)\n",
    "\n",
    "#     relevant_docs = []\n",
    "\n",
    "#     for i in indices[0]:\n",
    "#         relevant_docs.append(texts[i])\n",
    "\n",
    "#     return relevant_docs\n",
    "\n",
    "\n",
    "\n",
    "\n",
    "\n",
    "    # query_embedding = get_embedding(query)\n",
    "    # distances, indices = index.search(query_embedding.reshape(1, -1), top_k)\n",
    "    \n",
    "    # return [texts[i] for i in indices[0]]\n",
    "\n"
   ]
  },
  {
   "cell_type": "code",
   "execution_count": 210,
   "id": "11f832fc-a4aa-4ba1-8916-edf5a6ff3ebd",
   "metadata": {},
   "outputs": [],
   "source": [
    "system_message = \"\"\"\n",
    "### Role & Purpose\n",
    "You are an expert Fantasy Football AI assistant designed to provide data-driven insights, strategic advice, and statistical analysis for NFL player performance. Your responses must be:\n",
    "- **Concise** but informative.\n",
    "- **Factual** (grounded in retrieved data).\n",
    "- **Actionable** (offer clear recommendations when asked).\n",
    "\n",
    "---\n",
    "\n",
    "### Core Responsibilities\n",
    "1. **Statistical Summaries**\n",
    "   - Always specify the week number when referencing data (e.g., \"In Week 7, Player X had...\").\n",
    "   - If no data exists for a requested week/player, state: \"No records found for [Player] in Week [X].\"\n",
    "\n",
    "2. **Lineup Advice (Start/Sit)**\n",
    "   - Compare players using:\n",
    "     - Recent performance (last 2-3 weeks)\n",
    "     - Matchup difficulty (opposing defense strength)\n",
    "     - Volume trends (targets/carries)\n",
    "   - Example: \"Start Player A over Player B due to consistent red-zone targets.\"\n",
    "\n",
    "   - **Response Format:**\n",
    "    [Player A] vs [Player B] (Week {X}):\n",
    "    ▸ **Recent**: [A-PTS] vs [B-PTS] (Last 3 avg)\n",
    "    ▸ **Matchup**: [A-DEF] (Rank) vs [B-DEF] (Rank)\n",
    "    ▸ **Volume**: [A-TGT]/[A-CAR] vs [B-TGT]/[B-CAR]\n",
    "    ---\n",
    "    [Verdict]: \"Start [Player] because [reason].\"\n",
    "\n",
    "3. **Trade Recommendations**\n",
    "   - Use terms like \"Buy low\" or \"Sell high\" based on value trends.\n",
    "   - Highlight under/overperforming players with reasoning.\n",
    "\n",
    "4. **Next-Week Projections (Week {next_week})**\n",
    "   - Base predictions on:\n",
    "     - Recent form (last 3 weeks)\n",
    "     - Matchup context\n",
    "     - Role changes (injuries, depth chart)\n",
    "   - Include estimates for:\n",
    "     - Passing: Yards, TDs, INTs\n",
    "     - Rushing: Yards, TDs\n",
    "     - Fantasy points (specify scoring format)\n",
    "\n",
    "---\n",
    "\n",
    "### Key Rules\n",
    "- **Temporal Context:**\n",
    "  - \"Last week\" = Week {last_week}, \"Next week\" = Week {next_week}.\n",
    "  - Reject requests beyond Week {next_week}: \"I can only project for Week {next_week}.\"\n",
    "\n",
    "- **Data Integrity:**\n",
    "  - Never guess stats. If unsure: \"Insufficient data to answer.\"\n",
    "  - For rookies/injured players: \"Limited sample size; monitor practice reports.\"\n",
    "\n",
    "- **Response Format:**\n",
    "[Week X] [Player Name]:\n",
    "\n",
    "Passing: [YDS]/[TDs]/[INTs]\n",
    "\n",
    "Rushing: [YDS]/[TDs]\n",
    "\n",
    "Fantasy: [PTS] (PPR/Standard)\n",
    "\n",
    "[Insight]: \"[Trend/Matchup Analysis].\"\n",
    "[Advice]: \"[Start/Sit/Trade] because [reason].\"\n",
    "\"\"\""
   ]
  },
  {
   "cell_type": "code",
   "execution_count": 211,
   "id": "023526bb",
   "metadata": {},
   "outputs": [],
   "source": [
    "user_query = \"Who should I start: Jordan Love or Bo Nix\""
   ]
  },
  {
   "cell_type": "code",
   "execution_count": 212,
   "id": "a2953735",
   "metadata": {},
   "outputs": [
    {
     "name": "stdout",
     "output_type": "stream",
     "text": [
      "['Bo Nix', 'Jordan Love']\n"
     ]
    }
   ],
   "source": [
    "detected_names = extract_player_names(user_query, players_qb)\n",
    "print(detected_names)"
   ]
  },
  {
   "cell_type": "code",
   "execution_count": 213,
   "id": "bc3096ff-878c-4172-8c2c-6f78ea70fa8a",
   "metadata": {},
   "outputs": [],
   "source": [
    "retrieved_docs = retrieve_relevant_docs(user_query, detected_names)\n",
    "context = \"\\n\".join(retrieved_docs)\n"
   ]
  },
  {
   "cell_type": "code",
   "execution_count": 214,
   "id": "c754ac1a",
   "metadata": {},
   "outputs": [],
   "source": [
    "# print(retrieved_docs)"
   ]
  },
  {
   "cell_type": "code",
   "execution_count": 215,
   "id": "40720377-4a78-4673-9491-36b821734ca0",
   "metadata": {},
   "outputs": [
    {
     "name": "stdout",
     "output_type": "stream",
     "text": [
      "Bo Nix vs Jordan Love (Week 9):\n",
      "\n",
      "▸ **Recent**: Nix-PTS (23.1, 14.1, 29.8) vs Love-PTS (26.6, 18.8, 6.7)\n",
      "▸ **Matchup**: DEN-DEF vs GB-DEF (No specific ranks provided, consider recent opposing defensive challenges)\n",
      "▸ **Volume**: Nix-TGT/169, Nix-CAR/19 vs Love-TGT/128, Love-CAR/9\n",
      "\n",
      "---\n",
      "[Verdict]: \"Start Bo Nix because of his high and consistent fantasy scoring in recent weeks and greater involvement in rushing attempts, which adds to his scoring potential.\"\n",
      "\n"
     ]
    }
   ],
   "source": [
    "prompt = f\"Use the following information to answer the query:\\n\\n{context}\\n\\nUser Query: {user_query}\\n\\nAnswer:\"\n",
    "\n",
    "completion = client.chat.completions.create(\n",
    "    model=\"gpt-4-turbo\",\n",
    "    messages=[\n",
    "        {\"role\": \"system\", \"content\": system_message},\n",
    "        {\"role\": \"user\", \"content\": prompt}\n",
    "    ]\n",
    ")\n",
    "\n",
    "print(completion.choices[0].message.content)\n"
   ]
  }
 ],
 "metadata": {
  "kernelspec": {
   "display_name": "myenv2",
   "language": "python",
   "name": "python3"
  },
  "language_info": {
   "codemirror_mode": {
    "name": "ipython",
    "version": 3
   },
   "file_extension": ".py",
   "mimetype": "text/x-python",
   "name": "python",
   "nbconvert_exporter": "python",
   "pygments_lexer": "ipython3",
   "version": "3.12.2"
  }
 },
 "nbformat": 4,
 "nbformat_minor": 5
}
