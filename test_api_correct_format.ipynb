{
 "cells": [
  {
   "cell_type": "code",
   "execution_count": 25,
   "id": "f6e564a0-b023-4efa-b329-a869f1e92ff2",
   "metadata": {},
   "outputs": [],
   "source": [
    "from openai import OpenAI\n",
    "import numpy as np\n",
    "import json\n",
    "import faiss\n",
    "import os\n",
    "import re\n",
    "\n",
    "from fuzzywuzzy import process\n",
    "import jellyfish\n",
    "from rapidfuzz import fuzz, process\n",
    "from unidecode import unidecode\n",
    "\n",
    "from langchain_openai import ChatOpenAI\n",
    "from dotenv import load_dotenv\n",
    "from langchain.chains import LLMChain\n",
    "from langchain.prompts import PromptTemplate"
   ]
  },
  {
   "cell_type": "code",
   "execution_count": null,
   "id": "c859debd",
   "metadata": {},
   "outputs": [
    {
     "name": "stdout",
     "output_type": "stream",
     "text": [
      "Key exists: True\n",
      "Key length: 164\n"
     ]
    },
    {
     "data": {
      "text/plain": [
       "AIMessage(content='Hello! How can I assist you today?', additional_kwargs={'refusal': None}, response_metadata={'token_usage': {'completion_tokens': 10, 'prompt_tokens': 11, 'total_tokens': 21, 'completion_tokens_details': {'accepted_prediction_tokens': 0, 'audio_tokens': 0, 'reasoning_tokens': 0, 'rejected_prediction_tokens': 0}, 'prompt_tokens_details': {'audio_tokens': 0, 'cached_tokens': 0}}, 'model_name': 'gpt-3.5-turbo-0125', 'system_fingerprint': None, 'id': 'chatcmpl-BU2SSgh0Om15938PUAquOUETjWrCK', 'finish_reason': 'stop', 'logprobs': None}, id='run-4a9f263d-a91d-4b77-b407-73f08477076a-0', usage_metadata={'input_tokens': 11, 'output_tokens': 10, 'total_tokens': 21, 'input_token_details': {'audio': 0, 'cache_read': 0}, 'output_token_details': {'audio': 0, 'reasoning': 0}})"
      ]
     },
     "execution_count": 26,
     "metadata": {},
     "output_type": "execute_result"
    }
   ],
   "source": [
    "load_dotenv()\n",
    "\n",
    "# print(\"Key exists:\", \"OPENAI_API_KEY\" in os.environ)\n",
    "# print(\"Key length:\", len(os.getenv(\"OPENAI_API_KEY\")))\n",
    "\n",
    "llm = ChatOpenAI()\n",
    "llm.invoke(\"Hello, world!\")"
   ]
  },
  {
   "cell_type": "code",
   "execution_count": null,
   "id": "09265559",
   "metadata": {},
   "outputs": [],
   "source": [
    "def get_unique_players(json_file_path, position):\n",
    "    try:\n",
    "        with open(json_file_path) as f:\n",
    "            data = json.load(f)\n",
    "    except Exception as e:\n",
    "        print(f\"Error loading JSON file: {e}\")\n",
    "        return []\n",
    "\n",
    "    unique_players = set()\n",
    "    \n",
    "    #go through each week in the \"weeks\" array\n",
    "    for week_data in data.get(\"Weeks\", []):\n",
    "        try:\n",
    "            #access player for the specified position\n",
    "            position_data = week_data[\"Positions\"][position][\"Players\"]\n",
    "            unique_players.update(position_data.keys())\n",
    "        except KeyError as e:\n",
    "            print(f\"Warning: Missing expected key {e} in week {week_data.get('week', 'unknown')}\")\n",
    "            continue\n",
    "    \n",
    "    return sorted(unique_players)"
   ]
  },
  {
   "cell_type": "code",
   "execution_count": 5,
   "id": "6da3442a",
   "metadata": {},
   "outputs": [
    {
     "name": "stdout",
     "output_type": "stream",
     "text": [
      "['Aaron Rodgers', \"Aidan O'Connell\", 'Andy Dalton', 'Anthony Richardson', 'Bailey Zappe', 'Baker Mayfield', 'Bo Nix', 'Brandon Allen', 'Brock Purdy', 'Bryce Young', 'C.J. Stroud', 'Caleb Williams', 'Carson Wentz', 'Chris Oladokun', 'Clayton Tune', 'Cooper Rush', 'Dak Prescott', 'Daniel Jones', 'Davis Mills', 'Derek Carr', 'Deshaun Watson', 'Desmond Ridder', 'Dorian Thompson-Robinson', 'Drake Maye', 'Drew Lock', 'Gardner Minshew', 'Geno Smith', 'Hendon Hooker', 'Jacoby Brissett', 'Jake Browning', 'Jake Haener', 'Jalen Hurts', 'Jameis Winston', 'Jared Goff', 'Jarrett Stidham', 'Jayden Daniels', 'Jeff Driskel', 'Jimmy Garoppolo', 'Joe Burrow', 'Joe Flacco', 'Joe Milton III', 'Jordan Love', 'Josh Allen', 'Josh Johnson', 'Joshua Dobbs', 'Justin Fields', 'Justin Herbert', 'Kenny Pickett', 'Kirk Cousins', 'Kyle Allen', 'Kyle Trask', 'Kyler Murray', 'Lamar Jackson', 'Mac Jones', 'Malik Willis', 'Marcus Mariota', 'Mason Rudolph', 'Matthew Stafford', 'Michael Penix Jr.', 'Mike White', 'Mitch Trubisky', 'Nick Mullens', 'Patrick Mahomes', 'Russell Wilson', 'Sam Darnold', 'Sam Howell', 'Skylar Thompson', 'Spencer Rattler', 'Tanner McKee', 'Taylor Heinicke', 'Tim Boyle', 'Tommy DeVito', 'Trevor Lawrence', 'Trey Lance', 'Tua Tagovailoa', 'Tyler Huntley', 'Tyrod Taylor', 'Tyson Bagent', 'Will Levis']\n"
     ]
    }
   ],
   "source": [
    "players_qb = get_unique_players('C:/Users/rshua/fantasy-football-chatbot/nfl_season_stats_full.json', 'Quarterback')\n",
    "print(players_qb)"
   ]
  },
  {
   "cell_type": "code",
   "execution_count": null,
   "id": "2e3efe13-6529-44bc-9f3e-423586ff5d8f",
   "metadata": {},
   "outputs": [],
   "source": [
    "#load json files\n",
    "def load_documents(json_file):\n",
    "    with open(json_file, \"r\", encoding=\"utf-8\") as f:\n",
    "        data = json.load(f)\n",
    "        \n",
    "    return data\n",
    "\n",
    "#generate embeddings for documents\n",
    "def get_embedding(text):\n",
    "    response = client.embeddings.create(model = \"text-embedding-ada-002\", input = text)\n",
    "    embedding_array = np.array(response.data[0].embedding)\n",
    "    \n",
    "    return embedding_array\n"
   ]
  },
  {
   "cell_type": "code",
   "execution_count": 7,
   "id": "8d678628-787f-4713-b3e2-2d5733ae2d04",
   "metadata": {},
   "outputs": [],
   "source": [
    "with open(\"C:/Users/rshua/keys/secret_key.json\", \"r\") as file:\n",
    "    secrets = json.load(file)\n",
    "    api_key = secrets[\"OPENAI_API_KEY\"]\n",
    "\n",
    "client = OpenAI(api_key = api_key)"
   ]
  },
  {
   "cell_type": "code",
   "execution_count": null,
   "id": "13d9e2ef-c2cf-418c-96c3-665aaf4bfa45",
   "metadata": {},
   "outputs": [],
   "source": [
    "data = load_documents(\"nfl_season_stats_partial.json\")"
   ]
  },
  {
   "cell_type": "code",
   "execution_count": null,
   "id": "b4a13b9a-e1d7-455e-9594-4d2e4b65778a",
   "metadata": {},
   "outputs": [],
   "source": [
    "#convert json file to text documents\n",
    "documents = []\n",
    "\n",
    "for week_data in data[\"Weeks\"]:\n",
    "    week = week_data[\"week\"]\n",
    "    for position, position_data in week_data[\"Positions\"].items():\n",
    "        for player_name, player_stats in position_data[\"Players\"].items():\n",
    "            text = f\"Week: {week}, Position: {position}, Player: {player_name}, Team: {player_stats['team']}, \"\n",
    "            text += f\"Dropbacks: {player_stats['dropbacks']}, Attempts: {player_stats['att']}, Completions: {player_stats['comp']}, \"\n",
    "            text += f\"Yards: {player_stats['yds']}, TDs: {player_stats['tds']}, INTs: {player_stats['ints']}, \"\n",
    "            text += f\"Sacks: {player_stats['sks']}, Rush Carries: {player_stats['rushCarries']}, Rush Yards: {player_stats['rushYds']}, \"\n",
    "            text += f\"Rush TDs: {player_stats['rushTds']}, Fumbles: {player_stats['fumbles']}, Fantasy Points: {player_stats['fantasyPts']}\"\n",
    "            documents.append({\"text\": text})\n",
    "            # print(week)\n",
    "\n",
    "last_week = week\n",
    "next_week = week + 1\n"
   ]
  },
  {
   "cell_type": "code",
   "execution_count": null,
   "id": "57d314fa-4b51-4a00-8805-4518f1409003",
   "metadata": {},
   "outputs": [],
   "source": [
    "#create a list of text documents and their embeddings\n",
    "texts = []\n",
    "\n",
    "for i in documents:\n",
    "    text_content = i[\"text\"]\n",
    "    texts.append(text_content)\n",
    "\n",
    "embeddings = np.array([get_embedding(text) for text in texts])\n",
    "\n",
    "#store embeddings in FAISS\n",
    "dimension = embeddings.shape[1]\n",
    "index = faiss.IndexFlatL2(dimension)\n",
    "index.add(embeddings)\n"
   ]
  },
  {
   "cell_type": "code",
   "execution_count": 11,
   "id": "6a157cdb",
   "metadata": {},
   "outputs": [],
   "source": [
    "# print(texts)"
   ]
  },
  {
   "cell_type": "code",
   "execution_count": null,
   "id": "750232cc",
   "metadata": {},
   "outputs": [],
   "source": [
    "def clean_text(text):\n",
    "    #normalize by removing accents, punctuation, lowercase\n",
    "    text = unidecode(text)\n",
    "    text = re.sub(r\"[^a-zA-Z\\s]\", \"\", text)\n",
    "    return text.lower().strip()\n",
    "\n",
    "def extract_player_names(query, player_data, threshold=85):\n",
    "    cleaned_query = clean_text(query)\n",
    "    matched_players = []\n",
    "\n",
    "    for player in player_data:\n",
    "        cleaned_player = clean_text(player)\n",
    "\n",
    "        #partial_ratio to allow substring matching\n",
    "        score = fuzz.partial_ratio(cleaned_player, cleaned_query)\n",
    "        if score >= threshold:\n",
    "            matched_players.append((player, score))\n",
    "\n",
    "    #return only names, sorted by best match\n",
    "    matched_players.sort(key=lambda x: x[1], reverse=True)\n",
    "    return [player for player, score in matched_players]"
   ]
  },
  {
   "cell_type": "code",
   "execution_count": null,
   "id": "46221471-09af-4aa9-8fa0-f88bfe89ba60",
   "metadata": {},
   "outputs": [],
   "source": [
    "#function to retrieve the most relevant documents\n",
    "def retrieve_relevant_docs(query, player_names, top_k=None):\n",
    "    if top_k is None:\n",
    "        top_k = last_week  #use the last_week variable as default top_k\n",
    "        \n",
    "    if not player_names:\n",
    "        #if no player names found, proceed with original behavior\n",
    "        query_embedding = get_embedding(query).reshape(1, -1)\n",
    "        distances, indices = index.search(query_embedding, top_k)\n",
    "        return [texts[i] for i in indices[0]]\n",
    "    \n",
    "    relevant_docs = []\n",
    "    \n",
    "    for player_name in player_names:\n",
    "        #create a query focusing on the specific player\n",
    "        player_query = f\"Player: {player_name}\"\n",
    "        query_embedding = get_embedding(player_query).reshape(1, -1)\n",
    "        \n",
    "        distances, indices = index.search(query_embedding, top_k)\n",
    "        \n",
    "        #get the top_k documents for this player; basically extracting the data from all weeks\n",
    "        player_docs = [texts[i] for i in indices[0]]\n",
    "        relevant_docs.extend(player_docs)\n",
    "    \n",
    "    return relevant_docs\n"
   ]
  },
  {
   "cell_type": "code",
   "execution_count": 14,
   "id": "11f832fc-a4aa-4ba1-8916-edf5a6ff3ebd",
   "metadata": {},
   "outputs": [],
   "source": [
    "system_message = \"\"\"\n",
    "### Role & Purpose\n",
    "You are an expert Fantasy Football AI assistant designed to provide data-driven insights, strategic advice, and statistical analysis for NFL player performance. Your responses must be:\n",
    "- **Concise** but informative.\n",
    "- **Factual** (grounded in retrieved data).\n",
    "- **Actionable** (offer clear recommendations when asked).\n",
    "\n",
    "---\n",
    "\n",
    "### Core Responsibilities\n",
    "1. **Statistical Summaries**\n",
    "   - Always specify the week number when referencing data (e.g., \"In Week 7, Player X had...\").\n",
    "   - If no data exists for a requested week/player, state: \"No records found for [Player] in Week [X].\"\n",
    "\n",
    "2. **Lineup Advice (Start/Sit)**\n",
    "   - Compare players using:\n",
    "     - Recent performance (last 2-3 weeks)\n",
    "     - Matchup difficulty (opposing defense strength)\n",
    "     - Volume trends (targets/carries)\n",
    "   - Example: \"Start Player A over Player B due to consistent red-zone targets.\"\n",
    "\n",
    "   - **Response Format:**\n",
    "    [Player A] vs [Player B] (Week {X}):\n",
    "    ▸ **Recent**: [A-PTS] vs [B-PTS] (Last 3 avg)\n",
    "    ▸ **Matchup**: [A-DEF] (Rank) vs [B-DEF] (Rank)\n",
    "    ▸ **Volume**: [A-TGT]/[A-CAR] vs [B-TGT]/[B-CAR]\n",
    "    ---\n",
    "    [Verdict]: \"Start [Player] because [reason].\"\n",
    "\n",
    "3. **Trade Recommendations**\n",
    "   - Use terms like \"Buy low\" or \"Sell high\" based on value trends.\n",
    "   - Highlight under/overperforming players with reasoning.\n",
    "\n",
    "4. **Next-Week Projections (Week {next_week})**\n",
    "   - Base predictions on:\n",
    "     - Recent form (last 3 weeks)\n",
    "     - Matchup context\n",
    "     - Role changes (injuries, depth chart)\n",
    "   - Include estimates for:\n",
    "     - Passing: Yards, TDs, INTs\n",
    "     - Rushing: Yards, TDs\n",
    "     - Fantasy points (specify scoring format)\n",
    "\n",
    "---\n",
    "\n",
    "### Key Rules\n",
    "- **Temporal Context:**\n",
    "  - \"Last week\" = Week {last_week}, \"Next week\" = Week {next_week}.\n",
    "  - Reject requests beyond Week {next_week}: \"I can only project for Week {next_week}.\"\n",
    "\n",
    "- **Data Integrity:**\n",
    "  - Never guess stats. If unsure: \"Insufficient data to answer.\"\n",
    "  - For rookies/injured players: \"Limited sample size; monitor practice reports.\"\n",
    "\n",
    "- **Response Format:**\n",
    "[Week X] [Player Name]:\n",
    "\n",
    "Passing: [YDS]/[TDs]/[INTs]\n",
    "\n",
    "Rushing: [YDS]/[TDs]\n",
    "\n",
    "Fantasy: [PTS] (PPR/Standard)\n",
    "\n",
    "[Insight]: \"[Trend/Matchup Analysis].\"\n",
    "[Advice]: \"[Start/Sit/Trade] because [reason].\"\n",
    "\"\"\""
   ]
  },
  {
   "cell_type": "code",
   "execution_count": 27,
   "id": "023526bb",
   "metadata": {},
   "outputs": [],
   "source": [
    "user_query = \"For next week, should I start Jordan Love or Jared Goff?\""
   ]
  },
  {
   "cell_type": "code",
   "execution_count": 28,
   "id": "a2953735",
   "metadata": {},
   "outputs": [
    {
     "name": "stdout",
     "output_type": "stream",
     "text": [
      "['Jared Goff', 'Jordan Love']\n"
     ]
    }
   ],
   "source": [
    "detected_names = extract_player_names(user_query, players_qb)\n",
    "print(detected_names)"
   ]
  },
  {
   "cell_type": "code",
   "execution_count": 29,
   "id": "bc3096ff-878c-4172-8c2c-6f78ea70fa8a",
   "metadata": {},
   "outputs": [],
   "source": [
    "retrieved_docs = retrieve_relevant_docs(user_query, detected_names)\n",
    "context = \"\\n\".join(retrieved_docs)\n"
   ]
  },
  {
   "cell_type": "code",
   "execution_count": 30,
   "id": "c754ac1a",
   "metadata": {},
   "outputs": [],
   "source": [
    "# print(retrieved_docs)"
   ]
  },
  {
   "cell_type": "code",
   "execution_count": 31,
   "id": "40720377-4a78-4673-9491-36b821734ca0",
   "metadata": {},
   "outputs": [
    {
     "name": "stdout",
     "output_type": "stream",
     "text": [
      "**Jordan Love vs Jared Goff (Week 9):**\n",
      "▸ **Recent**: Love - 14.2 PTS (Last 3 avg) vs Goff - 19.8 PTS (Last 3 avg)\n",
      "▸ **Matchup**: Love vs [Opponent]-Defense (Rank) vs Goff vs [Opponent]-Defense (Rank)\n",
      "▸ **Volume**: Love - 26.7 TGT vs Goff - 23 TGT\n",
      "---\n",
      "**Verdict**: \"Start Jared Goff because of his higher recent performance, scoring nearly 20 points on average in the last three games compared to Jordan Love's 14.2 points. Goff has displayed better consistency and efficiency.\"\n",
      "\n"
     ]
    }
   ],
   "source": [
    "prompt = f\"Use the following information to answer the query:\\n\\n{context}\\n\\nUser Query: {user_query}\\n\\nAnswer:\"\n",
    "\n",
    "completion = client.chat.completions.create(\n",
    "    model=\"gpt-4-turbo\",\n",
    "    messages=[\n",
    "        {\"role\": \"system\", \"content\": system_message},\n",
    "        {\"role\": \"user\", \"content\": prompt}\n",
    "    ]\n",
    ")\n",
    "\n",
    "print(completion.choices[0].message.content)\n"
   ]
  },
  {
   "cell_type": "code",
   "execution_count": null,
   "id": "0a3e0fec",
   "metadata": {},
   "outputs": [],
   "source": []
  }
 ],
 "metadata": {
  "kernelspec": {
   "display_name": "myenv2",
   "language": "python",
   "name": "python3"
  },
  "language_info": {
   "codemirror_mode": {
    "name": "ipython",
    "version": 3
   },
   "file_extension": ".py",
   "mimetype": "text/x-python",
   "name": "python",
   "nbconvert_exporter": "python",
   "pygments_lexer": "ipython3",
   "version": "3.12.2"
  }
 },
 "nbformat": 4,
 "nbformat_minor": 5
}
